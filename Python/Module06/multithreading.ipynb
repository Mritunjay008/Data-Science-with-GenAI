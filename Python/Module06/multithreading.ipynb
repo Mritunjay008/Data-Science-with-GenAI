{
 "cells": [
  {
   "cell_type": "markdown",
   "metadata": {},
   "source": [
    "# Understanding Multithreading and Multiprocessing in Python\n",
    "\n",
    "## Code → Program → Process\n",
    "- When we run a program, the computer treats it as a **process**.\n",
    "- A **process** is an instance of a program that executes in a processor.\n",
    "- Execution can be **sequential** or **parallel**.\n",
    "\n",
    "### Sequential Execution\n",
    "```python\n",
    "# Example of sequential execution\n",
    "test()  # Takes 1 second\n",
    "test()  # Takes another 1 second\n",
    "# Total execution time: 2 seconds\n",
    "```\n",
    "\n",
    "### Parallel Execution\n",
    "```python\n",
    "# Example of parallel execution\n",
    "test()  # Runs in 1 second\n",
    "            > Total execution time: 1 second\n",
    "test()\n",
    "```\n",
    "\n",
    "By running the program on multiple processors, it can execute **in parallel**, leading to better performance.\n",
    "\n",
    "## Advantages of Parallel Execution\n",
    "✅ Improved performance  \n",
    "✅ Efficient resource utilization  \n",
    "✅ Shared resources  \n",
    "✅ Scalability  \n",
    "\n",
    "---\n",
    "\n",
    "## What is Multithreading?\n",
    "- A **process** can be divided into multiple **threads**.\n",
    "- A **thread** is the smallest unit of execution within a process.\n",
    "- By default, a process runs on a **single thread** → this is called a **single-threaded process**.\n",
    "- Using multiple threads within a process is called **multithreading**.\n",
    "\n",
    "### How Multithreading Works\n",
    "- **Single Processor → Multiple Threads**\n",
    "- Multithreading allows concurrent execution of threads within a process.\n",
    "\n",
    "🔹 **Parallel Execution vs Concurrency**\n",
    "- **Parallel execution**: Two or more processes execute at the same time.\n",
    "- **Concurrency**: Two or more threads execute sequentially but may overlap in execution.\n",
    "\n",
    "### Example of Concurrency\n",
    "```python\n",
    "test()  # Thread 1 takes 10 sec to execute\n",
    "# At 5th second, Thread 2 starts execution (takes 10 sec)\n",
    "# Thread 1 resumes after Thread 2 completes\n",
    "```\n",
    "At one point, only **one** thread executes on the processor due to Python's **Global Interpreter Lock (GIL)**.\n",
    "\n",
    "---\n",
    "\n",
    "## Multithreading vs Multiprocessing\n",
    "| Feature           | Multithreading | Multiprocessing |\n",
    "|------------------|---------------|---------------|\n",
    "| Execution        | Runs on a **single processor** | Runs on **multiple processors** |\n",
    "| Resource Sharing | Threads share memory and resources | Each process has its own memory space and resources |\n",
    "| Type of Execution | **Concurrent** | **Truly parallel** execution |\n",
    "| Python Limitation | Affected by **GIL** | Not affected by **GIL** |\n",
    "\n",
    "### Use Cases\n",
    "🔹 **Multithreading** (Best for I/O-bound tasks)\n",
    "- Downloading files\n",
    "- Managing multiple browser tasks\n",
    "- Handling user interface interactions\n",
    "\n",
    "🔹 **Multiprocessing** (Best for CPU-bound tasks)\n",
    "- Model training\n",
    "- Complex computations\n",
    "- Handling multiple server requests\n",
    "\n",
    "---\n",
    "\n",
    "Understanding **when to use multithreading vs multiprocessing** helps in optimizing performance based on the nature of the task. 🚀\n",
    "\n"
   ]
  },
  {
   "cell_type": "markdown",
   "metadata": {},
   "source": [
    "# ***MultiThreading***"
   ]
  },
  {
   "cell_type": "code",
   "execution_count": 6,
   "metadata": {},
   "outputs": [
    {
     "name": "stdout",
     "output_type": "stream",
     "text": [
      "do something\n",
      "sleep for 1 sec\n",
      "done with sleeping\n",
      "do something\n",
      "sleep for 1 sec\n",
      "done with sleeping\n",
      "do something\n",
      "sleep for 1 sec\n",
      "done with sleeping\n",
      "do something\n",
      "sleep for 1 sec\n",
      "done with sleeping\n",
      "do something\n",
      "sleep for 1 sec\n",
      "done with sleeping\n",
      "Program finished it in 5.0 secound\n"
     ]
    }
   ],
   "source": [
    "import time\n",
    "start = time.perf_counter()\n",
    "def test():\n",
    "    print(\"do something\")\n",
    "    print(\"sleep for 1 sec\")\n",
    "    time.sleep(1)\n",
    "    print(\"done with sleeping\")\n",
    "test() \n",
    "test()\n",
    "test()\n",
    "test()\n",
    "test()\n",
    "end = time.perf_counter()\n",
    "print(f'Program finished it in {round(end-start, 2)} secound')  "
   ]
  },
  {
   "cell_type": "markdown",
   "metadata": {},
   "source": [
    "#### Since the program ran ***sequantially*** (single thread on a single core), so it took 5 sec"
   ]
  },
  {
   "cell_type": "code",
   "execution_count": 8,
   "metadata": {},
   "outputs": [
    {
     "name": "stdout",
     "output_type": "stream",
     "text": [
      "do something\n",
      "sleep for 1 sec\n",
      "do something\n",
      "sleep for 1 sec\n",
      "Program finished it in 0.07 secound\n"
     ]
    },
    {
     "name": "stdout",
     "output_type": "stream",
     "text": [
      "done with sleeping\n",
      "done with sleeping\n"
     ]
    }
   ],
   "source": [
    "import time\n",
    "import threading #python module no need to install \n",
    "start = time.perf_counter()\n",
    "def test():\n",
    "    print(\"do something\")\n",
    "    print(\"sleep for 1 sec\")\n",
    "    time.sleep(1)\n",
    "    print(\"done with sleeping\")\n",
    "\n",
    "#run the program on 2 thread\n",
    "t1 = threading.Thread(target=test)\n",
    "t2 = threading.Thread(target=test)\n",
    "\n",
    "#To start the thread\n",
    "t1.start()\n",
    "t2.start()\n",
    "\n",
    "\n",
    "end = time.perf_counter()\n",
    "print(f'Program finished it in {round(end-start, 2)} secound')  "
   ]
  },
  {
   "cell_type": "markdown",
   "metadata": {},
   "source": [
    "## Multithreading Practical in Python\n",
    "\n",
    "### Understanding the Main Thread\n",
    "In Python, the main thread is responsible for executing the program. When we create multiple threads, the main thread starts them and continues executing other tasks unless explicitly controlled.\n",
    "\n",
    "#### Example of Thread Execution\n",
    "```python\n",
    "# Main thread starts t1 and t2\n",
    "\n",
    "test()  # Thread t1 starts\n",
    "\n",
    "test()  # Thread t2 starts\n",
    "```\n",
    "In this case, the main thread starts **t1** and **t2**, but other processes will continue executing in parallel.\n",
    "\n",
    "#### Execution Flow\n",
    "```\n",
    "t1 ---->                     \\\n",
    "t2 ---->                    --> Before t1 and t2 complete, the main thread executes.\n",
    "print(\"The execution time\")  /\n",
    "```\n",
    "The main thread does not wait for **t1** and **t2** to complete before proceeding, which can lead to unexpected behavior.\n",
    "\n",
    "### Using `join()` to Synchronize Threads\n",
    "To ensure that **t1** and **t2** complete before the main thread executes further operations, we use the `join()` method.\n",
    "\n",
    "```python\n",
    "t1.join()  # Ensures t1 completes before continuing\n",
    "t2.join()  # Ensures t2 completes before continuing\n",
    "```\n",
    "#### Effect of `join()`\n",
    "- **First**, t1 executes completely.\n",
    "- **Then**, t2 executes completely.\n",
    "- **Finally**, the main thread continues execution.\n",
    "\n",
    "This ensures proper synchronization and prevents race conditions in multithreading programs.\n",
    "\n"
   ]
  },
  {
   "cell_type": "code",
   "execution_count": 9,
   "metadata": {},
   "outputs": [
    {
     "name": "stdout",
     "output_type": "stream",
     "text": [
      "do something\n",
      "sleep for 1 sec\n",
      "do something\n",
      "sleep for 1 sec\n",
      "done with sleeping\n",
      "done with sleeping\n",
      "Program finished it in 1.0 secound\n"
     ]
    }
   ],
   "source": [
    "import time\n",
    "import threading #python module no need to install \n",
    "start = time.perf_counter()\n",
    "def test():\n",
    "    print(\"do something\")\n",
    "    print(\"sleep for 1 sec\")\n",
    "    time.sleep(1)\n",
    "    print(\"done with sleeping\")\n",
    "\n",
    "#run the program on 2 thread\n",
    "t1 = threading.Thread(target=test)\n",
    "t2 = threading.Thread(target=test)\n",
    "\n",
    "#To start the thread\n",
    "t1.start()\n",
    "t2.start()\n",
    "\n",
    "#join first executes t1 and t2 thread then the main thread will be executed\n",
    "\n",
    "t1.join() \n",
    "t2.join()\n",
    "\n",
    "\n",
    "end = time.perf_counter()\n",
    "print(f'Program finished it in {round(end-start, 2)} secound')  "
   ]
  },
  {
   "cell_type": "markdown",
   "metadata": {},
   "source": [
    "### In more genric ways"
   ]
  },
  {
   "cell_type": "code",
   "execution_count": 10,
   "metadata": {},
   "outputs": [
    {
     "name": "stdout",
     "output_type": "stream",
     "text": [
      "do something\n",
      "sleep for 1 sec\n",
      "do something\n",
      "sleep for 1 sec\n",
      "do something\n",
      "sleep for 1 sec\n",
      "do something\n",
      "sleep for 1 sec\n",
      "do something\n",
      "sleep for 1 sec\n",
      "do something\n",
      "sleep for 1 sec\n",
      "do something\n",
      "sleep for 1 sec\n",
      "do something\n",
      "sleep for 1 sec\n",
      "do something\n",
      "sleep for 1 sec\n",
      "do something\n",
      "sleep for 1 sec\n",
      "done with sleeping\n",
      "done with sleeping\n",
      "done with sleeping\n",
      "done with sleeping\n",
      "done with sleeping\n",
      "done with sleeping\n",
      "done with sleeping\n",
      "done with sleeping\n",
      "done with sleeping\n",
      "done with sleeping\n",
      "Program finished it in 1.01 secound\n"
     ]
    }
   ],
   "source": [
    "import time\n",
    "import threading #python module no need to install \n",
    "start = time.perf_counter()\n",
    "def test():\n",
    "    print(\"do something\")\n",
    "    print(\"sleep for 1 sec\")\n",
    "    time.sleep(1)\n",
    "    print(\"done with sleeping\")\n",
    "\n",
    "#run the program on 2 thread\n",
    "t1 = threading.Thread(target=test)\n",
    "t2 = threading.Thread(target=test)\n",
    "\n",
    "threads = []\n",
    "for i in range(10):\n",
    "    t = threading.Thread(target=test)\n",
    "    t.start()\n",
    "    threads.append(t)\n",
    "\n",
    "for thread in threads :\n",
    "    thread.join()\n",
    "\n",
    "end = time.perf_counter()\n",
    "print(f'Program finished it in {round(end-start, 2)} secound')  "
   ]
  },
  {
   "cell_type": "markdown",
   "metadata": {},
   "source": [
    "Since test() function is called 10 times, it should have taken 10 second but due to multithreading  it got completed in 1 sec "
   ]
  },
  {
   "cell_type": "code",
   "execution_count": 13,
   "metadata": {},
   "outputs": [
    {
     "name": "stdout",
     "output_type": "stream",
     "text": [
      "do something\n",
      "sleep for 2 sec\n",
      "do something\n",
      "sleep for 2 sec\n",
      "do something\n",
      "sleep for 2 sec\n",
      "do something\n",
      "sleep for 2 sec\n",
      "do something\n",
      "sleep for 2 sec\n",
      "do something\n",
      "sleep for 2 sec\n",
      "do something\n",
      "sleep for 2 sec\n",
      "do something\n",
      "sleep for 2 sec\n",
      "do something\n",
      "sleep for 2 sec\n",
      "do something\n",
      "sleep for 2 sec\n",
      "done with sleeping\n",
      "done with sleeping\n",
      "done with sleeping\n",
      "done with sleeping\n",
      "done with sleeping\n",
      "done with sleeping\n",
      "done with sleeping\n",
      "done with sleeping\n",
      "done with sleeping\n",
      "done with sleeping\n",
      "Program finished it in 2.01 secound\n"
     ]
    }
   ],
   "source": [
    "# using multithreading that takes an argument\n",
    "import time\n",
    "import threading #python module no need to install \n",
    "start = time.perf_counter()\n",
    "def test(args):\n",
    "    print(\"do something\")\n",
    "    print(f\"sleep for {args} sec\")\n",
    "    time.sleep(2)\n",
    "    print(\"done with sleeping\")\n",
    "\n",
    "#run the program on 2 thread\n",
    "t1 = threading.Thread(target=test)\n",
    "t2 = threading.Thread(target=test)\n",
    "\n",
    "threads = []\n",
    "for i in range(10):\n",
    "    #That's how we pass argument\n",
    "    t = threading.Thread(target=test, args=[2])\n",
    "    t.start()\n",
    "    threads.append(t)\n",
    "\n",
    "for thread in threads :\n",
    "    thread.join()\n",
    "\n",
    "end = time.perf_counter()\n",
    "print(f'Program finished it in {round(end-start, 2)} secound')  "
   ]
  },
  {
   "cell_type": "code",
   "execution_count": 14,
   "metadata": {},
   "outputs": [],
   "source": [
    "# Use case \n",
    "\n",
    "# Multithreading work very well with I/O bound task, It means where some output has to wait for input\n",
    "# Example >> Reading, Writing the files, Network communication, data base queries "
   ]
  },
  {
   "cell_type": "code",
   "execution_count": 15,
   "metadata": {},
   "outputs": [
    {
     "name": "stdout",
     "output_type": "stream",
     "text": [
      "Time taken by this program is : 2.733\n"
     ]
    }
   ],
   "source": [
    "# https://github.com/itsfoss/text-files\n",
    "\n",
    "import time\n",
    "import threading\n",
    "\n",
    "start = time.perf_counter()\n",
    "url_list = [\n",
    "    'https://raw.githubusercontent.com/dscape/spell/master/test/resources/big.txt',\n",
    "    'https://raw.githubusercontent.com/first20hours/google-10000-english/master/google-10000-english-no-swears.txt',\n",
    "    'https://raw.githubusercontent.com/itsfoss/text-files/master/sherlock.txt' ,\n",
    "    'https://raw.githubusercontent.com/itsfoss/text-files/master/sample_log_file.txt',\n",
    "]\n",
    "\n",
    "\n",
    "data_list = [\"data1.txt\", \"data2.txt\", \"data3.txt\", \"data4.txt\"]\n",
    "import urllib.request\n",
    "\n",
    "def file_download(url, file_name):\n",
    "    urllib.request.urlretrieve(url, file_name)\n",
    "\n",
    "threads = []\n",
    "for i in range(0, len(url_list)):\n",
    "    t = threading.Thread(target=file_download, args=[url_list[i], data_list[i]])\n",
    "    t.start()\n",
    "    threads.append(t)\n",
    "\n",
    "for thread in threads:\n",
    "    thread.join()\n",
    "\n",
    "end = time.perf_counter()\n",
    "print(f\"Time taken by this program is : {round(end-start, 3)}\")\n",
    "    \n",
    "    "
   ]
  },
  {
   "cell_type": "markdown",
   "metadata": {},
   "source": [
    "### We can use other modules as well"
   ]
  },
  {
   "cell_type": "code",
   "execution_count": 19,
   "metadata": {},
   "outputs": [
    {
     "name": "stdout",
     "output_type": "stream",
     "text": [
      "Time taken by this program is : 1.819\n"
     ]
    }
   ],
   "source": [
    "# Multithreading using concurrent.futures >> keeps code concise\n",
    "\n",
    "import time\n",
    "import concurrent.futures\n",
    "\n",
    "start = time.perf_counter()\n",
    "\n",
    "url_list = [\n",
    "    'https://raw.githubusercontent.com/dscape/spell/master/test/resources/big.txt',\n",
    "    'https://raw.githubusercontent.com/first20hours/google-10000-english/master/google-10000-english-no-swears.txt',\n",
    "    'https://raw.githubusercontent.com/itsfoss/text-files/master/sherlock.txt' ,\n",
    "    'https://raw.githubusercontent.com/itsfoss/text-files/master/sample_log_file.txt',\n",
    "]\n",
    "\n",
    "\n",
    "data_list = [\"data1.txt\", \"data2.txt\", \"data3.txt\", \"data4.txt\"]\n",
    "import urllib.request\n",
    "\n",
    "def file_download(url, file_name):\n",
    "    urllib.request.urlretrieve(url, file_name)\n",
    "\n",
    "with concurrent.futures.ThreadPoolExecutor() as executor:\n",
    "    executor.map(file_download, url_list, data_list) # args is >> function_name, argument of function\"\n",
    "\n",
    "\n",
    "end = time.perf_counter()\n",
    "print(f\"Time taken by this program is : {round(end-start, 3)}\")"
   ]
  },
  {
   "cell_type": "code",
   "execution_count": 20,
   "metadata": {},
   "outputs": [
    {
     "name": "stdout",
     "output_type": "stream",
     "text": [
      "Thread 1: incremented shared counter to 1\n",
      "Thread 2: incremented shared counter to 2\n",
      "Thread 3: incremented shared counter to 3\n",
      "Thread 4: incremented shared counter to 4\n",
      "Thread 5: incremented shared counter to 5\n",
      "Thread 6: incremented shared counter to 6\n",
      "Time taken by this program is : 6.051\n"
     ]
    }
   ],
   "source": [
    "# shared variable across all the threads\n",
    "\n",
    "start = time.perf_counter()\n",
    "shared_counter = 0\n",
    "counter_lock = threading.Lock() #locking the counter for the specific thread\n",
    "\n",
    "def increment_shared_counter(x):\n",
    "    global shared_counter #Making this global so that it can be accessed by all the threads\n",
    "    with counter_lock:\n",
    "        shared_counter = shared_counter+1\n",
    "        print(f\"Thread {x}: incremented shared counter to {shared_counter}\")\n",
    "        time.sleep(1)\n",
    "\n",
    "threads = [threading.Thread(target=increment_shared_counter, args = (i, )) for i in [1, 2, 3, 4, 5, 6]]\n",
    "\n",
    "for thread in threads:\n",
    "    thread.start()\n",
    "for thread in threads:\n",
    "    thread.join()\n",
    "    \n",
    "\n",
    "\n",
    "\n",
    "end = time.perf_counter()\n",
    "print(f\"Time taken by this program is : {round(end-start, 3)}\")"
   ]
  },
  {
   "cell_type": "markdown",
   "metadata": {},
   "source": [
    "#### Same thing using concurrent.futures"
   ]
  },
  {
   "cell_type": "code",
   "execution_count": 23,
   "metadata": {},
   "outputs": [
    {
     "name": "stdout",
     "output_type": "stream",
     "text": [
      "Thread 1: incremented shared counter to 1\n",
      "Thread 2: incremented shared counter to 2\n",
      "Thread 3: incremented shared counter to 3\n",
      "Thread 4: incremented shared counter to 4\n",
      "Thread 5: incremented shared counter to 5\n",
      "Thread 6: incremented shared counter to 6\n",
      "Time taken by this program is : 6.045\n"
     ]
    }
   ],
   "source": [
    "# shared variable across all the threads\n",
    "\n",
    "start = time.perf_counter()\n",
    "shared_counter = 0\n",
    "counter_lock = threading.Lock() #locking the counter for the specific thread\n",
    "\n",
    "def increment_shared_counter(x):\n",
    "    global shared_counter #Making this global so that it can be accessed by all the threads\n",
    "    with counter_lock:\n",
    "        shared_counter = shared_counter+1\n",
    "        print(f\"Thread {x}: incremented shared counter to {shared_counter}\")\n",
    "        time.sleep(1)\n",
    "        \n",
    "with concurrent.futures.ThreadPoolExecutor() as executor:\n",
    "    thread_args = [1,2,3,4,5,6]\n",
    "    executor.map(increment_shared_counter, thread_args) # args is >> function_name, argument of function\"\n",
    "\n",
    "\n",
    "\n",
    "end = time.perf_counter()\n",
    "print(f\"Time taken by this program is : {round(end-start, 3)}\")"
   ]
  },
  {
   "cell_type": "markdown",
   "metadata": {},
   "source": [
    "#### Summary >>\n",
    "Shared variable can be incremented by individula threads of a process"
   ]
  },
  {
   "cell_type": "code",
   "execution_count": null,
   "metadata": {},
   "outputs": [],
   "source": []
  }
 ],
 "metadata": {
  "kernelspec": {
   "display_name": "Python 3",
   "language": "python",
   "name": "python3"
  },
  "language_info": {
   "codemirror_mode": {
    "name": "ipython",
    "version": 3
   },
   "file_extension": ".py",
   "mimetype": "text/x-python",
   "name": "python",
   "nbconvert_exporter": "python",
   "pygments_lexer": "ipython3",
   "version": "3.12.9"
  }
 },
 "nbformat": 4,
 "nbformat_minor": 2
}
