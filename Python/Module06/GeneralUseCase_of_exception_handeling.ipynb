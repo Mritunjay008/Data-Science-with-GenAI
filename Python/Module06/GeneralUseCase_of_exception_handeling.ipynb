{
 "cells": [
  {
   "cell_type": "markdown",
   "metadata": {},
   "source": [
    "## General use case of ***Exception Handeling***"
   ]
  },
  {
   "cell_type": "code",
   "execution_count": 1,
   "metadata": {},
   "outputs": [
    {
     "ename": "TypeError",
     "evalue": "unsupported operand type(s) for /: 'int' and 'str'",
     "output_type": "error",
     "traceback": [
      "\u001b[1;31m---------------------------------------------------------------------------\u001b[0m",
      "\u001b[1;31mTypeError\u001b[0m                                 Traceback (most recent call last)",
      "Cell \u001b[1;32mIn[1], line 1\u001b[0m\n\u001b[1;32m----> 1\u001b[0m \u001b[38;5;241;43m100\u001b[39;49m\u001b[38;5;241;43m/\u001b[39;49m\u001b[38;5;124;43m\"\u001b[39;49m\u001b[38;5;124;43mhello\u001b[39;49m\u001b[38;5;124;43m\"\u001b[39;49m\n",
      "\u001b[1;31mTypeError\u001b[0m: unsupported operand type(s) for /: 'int' and 'str'"
     ]
    }
   ],
   "source": [
    "100/\"hello\""
   ]
  },
  {
   "cell_type": "code",
   "execution_count": 2,
   "metadata": {},
   "outputs": [
    {
     "name": "stdout",
     "output_type": "stream",
     "text": [
      "Caught an error\n"
     ]
    }
   ],
   "source": [
    "try:\n",
    "    10/0\n",
    "except Exception as e:\n",
    "    print(\"Caught an error\")"
   ]
  },
  {
   "cell_type": "markdown",
   "metadata": {},
   "source": [
    "Above code are examples of generic exception handeling\n",
    "</br>\n",
    "We have to handle specific errors"
   ]
  },
  {
   "cell_type": "code",
   "execution_count": 3,
   "metadata": {},
   "outputs": [
    {
     "name": "stdout",
     "output_type": "stream",
     "text": [
      "Caught division by zero  error\n"
     ]
    }
   ],
   "source": [
    "try:\n",
    "    10/0\n",
    "except ZeroDivisionError as e:\n",
    "    print(\"Caught\", e, \" error\")"
   ]
  },
  {
   "cell_type": "markdown",
   "metadata": {},
   "source": [
    "Best practise 1 : Always catch ***specific*** errors\n",
    "<br>\n",
    "***Specificity*** in **exception handling**"
   ]
  },
  {
   "cell_type": "code",
   "execution_count": 5,
   "metadata": {},
   "outputs": [
    {
     "name": "stdout",
     "output_type": "stream",
     "text": [
      "unsupported operand type(s) for /: 'int' and 'str' exception occurs\n"
     ]
    }
   ],
   "source": [
    "# Another example\n",
    "try:\n",
    "    10/\"Hello\"\n",
    "except TypeError as e:\n",
    "    print(e, \"exception occurs\")"
   ]
  },
  {
   "cell_type": "markdown",
   "metadata": {},
   "source": [
    "Benifit of handling specific errors >> You know what error is expected and if other error occurs then you will able to think and address it."
   ]
  },
  {
   "cell_type": "code",
   "execution_count": 7,
   "metadata": {},
   "outputs": [
    {
     "name": "stdout",
     "output_type": "stream",
     "text": [
      "The calculation is 2.0\n",
      "unsupported operand type(s) for /: 'int' and 'str' exception occurs\n"
     ]
    }
   ],
   "source": [
    "# example to handle some specific exception\n",
    "try:\n",
    "    10/\"5\"\n",
    "except TypeError as e:\n",
    "    print(\"The calculation is\", 10/int(\"5\"))\n",
    "    print(e, \"exception occurs\")"
   ]
  },
  {
   "cell_type": "code",
   "execution_count": 9,
   "metadata": {},
   "outputs": [
    {
     "name": "stdout",
     "output_type": "stream",
     "text": [
      "Caught division by zero  error\n",
      "Since denominator value is given zero so using default denominator as 1, the quotient is 10.0\n"
     ]
    }
   ],
   "source": [
    "try:\n",
    "    10/0\n",
    "except ZeroDivisionError as e:\n",
    "    print(\"Caught\", e, \" error\")\n",
    "    print(\"Since denominator value is given zero so using default denominator as 1, the quotient is\", 10/1)"
   ]
  },
  {
   "cell_type": "code",
   "execution_count": 11,
   "metadata": {},
   "outputs": [
    {
     "name": "stdout",
     "output_type": "stream",
     "text": [
      "int() only accepts integer\n",
      "The error is invalid literal for int() with base 10: 'pwskill'\n"
     ]
    }
   ],
   "source": [
    "try:\n",
    "    int(\"pwskill\")\n",
    "except ValueError as e:\n",
    "    print(\"int() only accepts integer\")\n",
    "    print(\"The error is\", e)"
   ]
  },
  {
   "cell_type": "code",
   "execution_count": 15,
   "metadata": {},
   "outputs": [
    {
     "name": "stdout",
     "output_type": "stream",
     "text": [
      "int() only accepts integer\n",
      "The error is division by zero\n"
     ]
    }
   ],
   "source": [
    "try:\n",
    "    10 / 0\n",
    "except (ValueError, ZeroDivisionError) as e:\n",
    "    print(\"int() only accepts integer\")\n",
    "    print(\"The error is\", e)"
   ]
  },
  {
   "cell_type": "markdown",
   "metadata": {},
   "source": [
    "#### Multiple exception block"
   ]
  },
  {
   "cell_type": "code",
   "execution_count": 18,
   "metadata": {},
   "outputs": [
    {
     "name": "stdout",
     "output_type": "stream",
     "text": [
      "Cannot devide any thing with 0 >> division by zero\n"
     ]
    }
   ],
   "source": [
    "try:\n",
    "    10 / 0\n",
    "except ValueError as e:\n",
    "    print(\"int() only accepts integer\")\n",
    "    print(\"The error is\", e)\n",
    "except ZeroDivisionError as e:\n",
    "    print(\"Cannot devide any thing with 0 >>\", e)"
   ]
  },
  {
   "cell_type": "code",
   "execution_count": 19,
   "metadata": {},
   "outputs": [
    {
     "name": "stdout",
     "output_type": "stream",
     "text": [
      "No module named 'Mritunjay'\n"
     ]
    }
   ],
   "source": [
    "try:\n",
    "    import Mritunjay\n",
    "except ModuleNotFoundError as e:\n",
    "    print(e)"
   ]
  },
  {
   "cell_type": "code",
   "execution_count": 22,
   "metadata": {},
   "outputs": [
    {
     "name": "stdout",
     "output_type": "stream",
     "text": [
      "name 'greet' is not defined\n"
     ]
    }
   ],
   "source": [
    "try:\n",
    "    greet()\n",
    "except NameError as e:\n",
    "    print(e)"
   ]
  },
  {
   "cell_type": "code",
   "execution_count": 23,
   "metadata": {},
   "outputs": [
    {
     "name": "stdout",
     "output_type": "stream",
     "text": [
      "Key does not exist 'age'\n"
     ]
    }
   ],
   "source": [
    "d = {\n",
    "    \"name\":\"Mritunjay\",\n",
    "    \"course\":\"B.tech\"\n",
    "}\n",
    "try:\n",
    "    d[\"age\"]\n",
    "except KeyError as e:\n",
    "    print(\"Key does not exist\", e)"
   ]
  },
  {
   "cell_type": "code",
   "execution_count": 25,
   "metadata": {},
   "outputs": [
    {
     "name": "stdout",
     "output_type": "stream",
     "text": [
      "list index out of range\n"
     ]
    }
   ],
   "source": [
    "lst = [1, 2, 3, 4, 5]\n",
    "try:\n",
    "    lst[8]\n",
    "except IndexError as e:\n",
    "    print(e)"
   ]
  },
  {
   "cell_type": "code",
   "execution_count": 26,
   "metadata": {},
   "outputs": [
    {
     "name": "stdout",
     "output_type": "stream",
     "text": [
      "This file does not exist [Errno 2] No such file or directory: 'example.txt'\n"
     ]
    }
   ],
   "source": [
    "try:\n",
    "    open(\"example.txt\", \"r\")\n",
    "except FileNotFoundError as e:\n",
    "    print(\"This file does not exist\", e)"
   ]
  },
  {
   "cell_type": "code",
   "execution_count": 28,
   "metadata": {},
   "outputs": [
    {
     "name": "stdout",
     "output_type": "stream",
     "text": [
      "This file does not exist [Errno 2] No such file or directory: 'example.txt'\n"
     ]
    }
   ],
   "source": [
    "#Sometime we will not know what is the exception is?\n",
    "#Apply those which might occur then apply parent Exception or generic Exception\n",
    "try:\n",
    "    open(\"example.txt\", \"r\")\n",
    "except FileNotFoundError as e:\n",
    "    print(\"This file does not exist\", e)\n",
    "except ZeroDivisionError as e:\n",
    "    print(\"Division by zero\", e)\n",
    "except Exception as e:\n",
    "    print(\"Unknown errors occured\", e)"
   ]
  },
  {
   "cell_type": "markdown",
   "metadata": {},
   "source": [
    "Best practise 2 : Always try to ***log***"
   ]
  },
  {
   "cell_type": "code",
   "execution_count": 1,
   "metadata": {},
   "outputs": [],
   "source": [
    "import logging\n",
    "logging.basicConfig(filename = \"program.log\", level = logging.DEBUG)\n",
    "try:\n",
    "    f = open(\"example.txt\", 'r')\n",
    "except FileNotFoundError as e:\n",
    "    logging.error(f\"My file was not found {e}\")\n",
    "    "
   ]
  },
  {
   "cell_type": "code",
   "execution_count": 2,
   "metadata": {},
   "outputs": [],
   "source": [
    "logging.basicConfig(filename = \"program1.log\", level = logging.DEBUG)\n",
    "try:\n",
    "    f = 10/0\n",
    "except ZeroDivisionError as e:\n",
    "    logging.error(f\"Cannot divide anything with zero >> {e}\")"
   ]
  },
  {
   "cell_type": "markdown",
   "metadata": {},
   "source": [
    "### Putting try & except into a function"
   ]
  },
  {
   "cell_type": "code",
   "execution_count": 4,
   "metadata": {},
   "outputs": [
    {
     "name": "stdout",
     "output_type": "stream",
     "text": [
      "Key does not exist 'age'\n"
     ]
    }
   ],
   "source": [
    "d = {\n",
    "    \"name\":\"Mritunjay\",\n",
    "    \"course\":\"B.tech\"\n",
    "}\n",
    "def test(dic):\n",
    "    try:\n",
    "        dic[\"age\"]\n",
    "    except KeyError as e:\n",
    "        print(\"Key does not exist\", e)\n",
    "\n",
    "test(d)"
   ]
  },
  {
   "cell_type": "markdown",
   "metadata": {},
   "source": [
    "Not the best practise >> Do not try to use unnecessary exception/multiple exception"
   ]
  },
  {
   "cell_type": "code",
   "execution_count": 6,
   "metadata": {},
   "outputs": [
    {
     "name": "stdout",
     "output_type": "stream",
     "text": [
      "This file does not exist [Errno 2] No such file or directory: 'example.txt'\n"
     ]
    }
   ],
   "source": [
    "try:\n",
    "    open(\"example.txt\", \"r\")\n",
    "except FileNotFoundError as e:\n",
    "    print(\"This file does not exist\", e)\n",
    "except ZeroDivisionError as e: #This except block is just waste\n",
    "    print(\"Division by zero\", e)\n",
    "except Exception as e:\n",
    "    print(\"Unknown errors occured\", e)"
   ]
  },
  {
   "cell_type": "markdown",
   "metadata": {},
   "source": [
    "#### best practise Give proper dcumentation *docstring* or proper comments in the code"
   ]
  },
  {
   "cell_type": "code",
   "execution_count": 8,
   "metadata": {},
   "outputs": [
    {
     "name": "stdout",
     "output_type": "stream",
     "text": [
      "Key does not exist 'age'\n"
     ]
    }
   ],
   "source": [
    "d = {\n",
    "    \"name\":\"Mritunjay\",\n",
    "    \"course\":\"B.tech\"\n",
    "}\n",
    "def test(dic):\n",
    "    '''\n",
    "    This is about accessing a dictonsaries key\n",
    "    args:\n",
    "        input : dictonary\n",
    "        output : text(str)\n",
    "    '''\n",
    "    try:\n",
    "        dic[\"age\"]\n",
    "    except KeyError as e:\n",
    "        print(\"Key does not exist\", e)\n",
    "\n",
    "test(d)"
   ]
  },
  {
   "cell_type": "markdown",
   "metadata": {},
   "source": [
    "#### best practise >> Always cleanup your resources using finally"
   ]
  },
  {
   "cell_type": "code",
   "execution_count": 11,
   "metadata": {},
   "outputs": [
    {
     "name": "stdout",
     "output_type": "stream",
     "text": [
      "Unknown errors occured not readable\n"
     ]
    }
   ],
   "source": [
    "def test(file_name):\n",
    "    try:\n",
    "        f = open(file_name, \"w\")\n",
    "        f.read()\n",
    "    except FileNotFoundError as e:\n",
    "        print(\"This file does not exist\", e)\n",
    "    except Exception as e:\n",
    "        print(\"Unknown errors occured\", e)\n",
    "    finally:\n",
    "        f.close()\n",
    "\n",
    "file_name = \"example.txt\"\n",
    "test(file_name)"
   ]
  },
  {
   "cell_type": "code",
   "execution_count": null,
   "metadata": {},
   "outputs": [],
   "source": []
  }
 ],
 "metadata": {
  "kernelspec": {
   "display_name": "Python 3",
   "language": "python",
   "name": "python3"
  },
  "language_info": {
   "codemirror_mode": {
    "name": "ipython",
    "version": 3
   },
   "file_extension": ".py",
   "mimetype": "text/x-python",
   "name": "python",
   "nbconvert_exporter": "python",
   "pygments_lexer": "ipython3",
   "version": "3.12.9"
  }
 },
 "nbformat": 4,
 "nbformat_minor": 2
}
