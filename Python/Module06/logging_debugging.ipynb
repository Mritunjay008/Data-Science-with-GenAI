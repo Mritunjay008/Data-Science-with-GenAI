{
 "cells": [
  {
   "cell_type": "markdown",
   "metadata": {},
   "source": [
    "# ***Logging*** & ***Debugging***"
   ]
  },
  {
   "cell_type": "markdown",
   "metadata": {},
   "source": [
    "### Debugging \n",
    "- It is the process of identifying & fixing bugs/issues in your code.\n",
    "- Debugging involves breaking the code(checkpoint), executing the code, inspecting the variables using print statements."
   ]
  },
  {
   "cell_type": "code",
   "execution_count": null,
   "metadata": {},
   "outputs": [
    {
     "data": {
      "text/plain": [
       "5.0"
      ]
     },
     "execution_count": 2,
     "metadata": {},
     "output_type": "execute_result"
    }
   ],
   "source": [
    "def divide(a, b):\n",
    "    return a/b\n",
    "\n",
    "divide(10, 2)"
   ]
  },
  {
   "cell_type": "code",
   "execution_count": null,
   "metadata": {},
   "outputs": [
    {
     "name": "stdout",
     "output_type": "stream",
     "text": [
      "1.1111111111111112\n",
      "1.125\n",
      "1.1428571428571428\n",
      "1.1666666666666667\n",
      "1.2\n",
      "1.25\n",
      "1.3333333333333333\n",
      "1.5\n",
      "2.0\n"
     ]
    },
    {
     "ename": "ZeroDivisionError",
     "evalue": "division by zero",
     "output_type": "error",
     "traceback": [
      "\u001b[1;31m---------------------------------------------------------------------------\u001b[0m",
      "\u001b[1;31mZeroDivisionError\u001b[0m                         Traceback (most recent call last)",
      "Cell \u001b[1;32mIn[4], line 2\u001b[0m\n\u001b[0;32m      1\u001b[0m \u001b[38;5;28;01mfor\u001b[39;00m i \u001b[38;5;129;01min\u001b[39;00m \u001b[38;5;28mrange\u001b[39m(\u001b[38;5;241m-\u001b[39m\u001b[38;5;241m10\u001b[39m, \u001b[38;5;241m10\u001b[39m):\n\u001b[1;32m----> 2\u001b[0m     \u001b[38;5;28mprint\u001b[39m(\u001b[43mdivide\u001b[49m\u001b[43m(\u001b[49m\u001b[43mi\u001b[49m\u001b[43m,\u001b[49m\u001b[43m \u001b[49m\u001b[43mi\u001b[49m\u001b[38;5;241;43m+\u001b[39;49m\u001b[38;5;241;43m1\u001b[39;49m\u001b[43m)\u001b[49m)\n",
      "Cell \u001b[1;32mIn[2], line 2\u001b[0m, in \u001b[0;36mdivide\u001b[1;34m(a, b)\u001b[0m\n\u001b[0;32m      1\u001b[0m \u001b[38;5;28;01mdef\u001b[39;00m \u001b[38;5;21mdivide\u001b[39m(a, b):\n\u001b[1;32m----> 2\u001b[0m     \u001b[38;5;28;01mreturn\u001b[39;00m \u001b[43ma\u001b[49m\u001b[38;5;241;43m/\u001b[39;49m\u001b[43mb\u001b[49m\n",
      "\u001b[1;31mZeroDivisionError\u001b[0m: division by zero"
     ]
    }
   ],
   "source": [
    "for i in range(-10, 10):\n",
    "    print(divide(i, i+1))\n",
    "# You have called divide function many times\n",
    "# At somewhere its throwing the error, but where?\n",
    "# We have no idea so we have to debug the code.\n",
    "# For what value of a and b it is throwing the error."
   ]
  },
  {
   "cell_type": "code",
   "execution_count": 3,
   "metadata": {},
   "outputs": [
    {
     "ename": "ZeroDivisionError",
     "evalue": "division by zero",
     "output_type": "error",
     "traceback": [
      "\u001b[1;31m---------------------------------------------------------------------------\u001b[0m",
      "\u001b[1;31mZeroDivisionError\u001b[0m                         Traceback (most recent call last)",
      "Cell \u001b[1;32mIn[3], line 1\u001b[0m\n\u001b[1;32m----> 1\u001b[0m \u001b[43mdivide\u001b[49m\u001b[43m(\u001b[49m\u001b[38;5;241;43m12\u001b[39;49m\u001b[43m,\u001b[49m\u001b[43m \u001b[49m\u001b[38;5;241;43m0\u001b[39;49m\u001b[43m)\u001b[49m\n",
      "Cell \u001b[1;32mIn[2], line 2\u001b[0m, in \u001b[0;36mdivide\u001b[1;34m(a, b)\u001b[0m\n\u001b[0;32m      1\u001b[0m \u001b[38;5;28;01mdef\u001b[39;00m \u001b[38;5;21mdivide\u001b[39m(a, b):\n\u001b[1;32m----> 2\u001b[0m     \u001b[38;5;28;01mreturn\u001b[39;00m \u001b[43ma\u001b[49m\u001b[38;5;241;43m/\u001b[39;49m\u001b[43mb\u001b[49m\n",
      "\u001b[1;31mZeroDivisionError\u001b[0m: division by zero"
     ]
    }
   ],
   "source": [
    "divide(12, 0)"
   ]
  },
  {
   "cell_type": "markdown",
   "metadata": {},
   "source": [
    "### How to debug\n",
    "Apply checkpoints or breakpoints and apply print method to find the error."
   ]
  },
  {
   "cell_type": "code",
   "execution_count": null,
   "metadata": {},
   "outputs": [
    {
     "ename": "ZeroDivisionError",
     "evalue": "division by zero",
     "output_type": "error",
     "traceback": [
      "\u001b[1;31m---------------------------------------------------------------------------\u001b[0m",
      "\u001b[1;31mZeroDivisionError\u001b[0m                         Traceback (most recent call last)",
      "Cell \u001b[1;32mIn[7], line 5\u001b[0m\n\u001b[0;32m      2\u001b[0m     \u001b[38;5;28;01mreturn\u001b[39;00m a\u001b[38;5;241m/\u001b[39mb\n\u001b[0;32m      4\u001b[0m \u001b[38;5;28;01mfor\u001b[39;00m i \u001b[38;5;129;01min\u001b[39;00m \u001b[38;5;28mrange\u001b[39m(\u001b[38;5;241m-\u001b[39m\u001b[38;5;241m10\u001b[39m, \u001b[38;5;241m10\u001b[39m):\n\u001b[1;32m----> 5\u001b[0m     \u001b[43mdivide\u001b[49m\u001b[43m(\u001b[49m\u001b[43mi\u001b[49m\u001b[43m,\u001b[49m\u001b[43m \u001b[49m\u001b[43mi\u001b[49m\u001b[38;5;241;43m+\u001b[39;49m\u001b[38;5;241;43m1\u001b[39;49m\u001b[43m)\u001b[49m\n\u001b[0;32m      7\u001b[0m \u001b[38;5;66;03m#Breaking the code >> Here we understands that there is 2 step involves \u001b[39;00m\n\u001b[0;32m      8\u001b[0m \u001b[38;5;66;03m# First a loop and second calling divide function in loop\u001b[39;00m\n",
      "Cell \u001b[1;32mIn[7], line 2\u001b[0m, in \u001b[0;36mdivide\u001b[1;34m(a, b)\u001b[0m\n\u001b[0;32m      1\u001b[0m \u001b[38;5;28;01mdef\u001b[39;00m \u001b[38;5;21mdivide\u001b[39m(a, b):\n\u001b[1;32m----> 2\u001b[0m     \u001b[38;5;28;01mreturn\u001b[39;00m \u001b[43ma\u001b[49m\u001b[38;5;241;43m/\u001b[39;49m\u001b[43mb\u001b[49m\n",
      "\u001b[1;31mZeroDivisionError\u001b[0m: division by zero"
     ]
    }
   ],
   "source": [
    "def divide(a, b):\n",
    "    return a/b\n",
    "\n",
    "for i in range(-10, 10):\n",
    "    divide(i, i+1)\n",
    "\n",
    "# Breaking the code >> Logically > Here we understands that there is 2 step involves \n",
    "#Break the code in terms of execution as well using return statements or print statement\n",
    "# First a loop and second calling divide function in loop"
   ]
  },
  {
   "cell_type": "code",
   "execution_count": 8,
   "metadata": {},
   "outputs": [
    {
     "name": "stdout",
     "output_type": "stream",
     "text": [
      "-10 -9\n",
      "-9 -8\n",
      "-8 -7\n",
      "-7 -6\n",
      "-6 -5\n",
      "-5 -4\n",
      "-4 -3\n",
      "-3 -2\n",
      "-2 -1\n",
      "-1 0\n"
     ]
    },
    {
     "ename": "ZeroDivisionError",
     "evalue": "division by zero",
     "output_type": "error",
     "traceback": [
      "\u001b[1;31m---------------------------------------------------------------------------\u001b[0m",
      "\u001b[1;31mZeroDivisionError\u001b[0m                         Traceback (most recent call last)",
      "Cell \u001b[1;32mIn[8], line 7\u001b[0m\n\u001b[0;32m      5\u001b[0m \u001b[38;5;28;01mfor\u001b[39;00m i \u001b[38;5;129;01min\u001b[39;00m \u001b[38;5;28mrange\u001b[39m(\u001b[38;5;241m-\u001b[39m\u001b[38;5;241m10\u001b[39m, \u001b[38;5;241m10\u001b[39m):\n\u001b[0;32m      6\u001b[0m     \u001b[38;5;28mprint\u001b[39m(i, i\u001b[38;5;241m+\u001b[39m\u001b[38;5;241m1\u001b[39m)\n\u001b[1;32m----> 7\u001b[0m     \u001b[43mdivide\u001b[49m\u001b[43m(\u001b[49m\u001b[43mi\u001b[49m\u001b[43m,\u001b[49m\u001b[43m \u001b[49m\u001b[43mi\u001b[49m\u001b[38;5;241;43m+\u001b[39;49m\u001b[38;5;241;43m1\u001b[39;49m\u001b[43m)\u001b[49m\n",
      "Cell \u001b[1;32mIn[8], line 3\u001b[0m, in \u001b[0;36mdivide\u001b[1;34m(a, b)\u001b[0m\n\u001b[0;32m      2\u001b[0m \u001b[38;5;28;01mdef\u001b[39;00m \u001b[38;5;21mdivide\u001b[39m(a, b):\n\u001b[1;32m----> 3\u001b[0m     \u001b[38;5;28;01mreturn\u001b[39;00m \u001b[43ma\u001b[49m\u001b[38;5;241;43m/\u001b[39;49m\u001b[43mb\u001b[49m\n",
      "\u001b[1;31mZeroDivisionError\u001b[0m: division by zero"
     ]
    }
   ],
   "source": [
    "# Using print statement to debug the code\n",
    "def divide(a, b):\n",
    "    return a/b\n",
    "\n",
    "for i in range(-10, 10):\n",
    "    print(i, i+1)\n",
    "    divide(i, i+1)\n",
    "\n"
   ]
  },
  {
   "cell_type": "code",
   "execution_count": 11,
   "metadata": {},
   "outputs": [
    {
     "name": "stdout",
     "output_type": "stream",
     "text": [
      "1.1111111111111112\n",
      "1.125\n",
      "1.1428571428571428\n",
      "1.1666666666666667\n",
      "1.2\n",
      "1.25\n",
      "1.3333333333333333\n",
      "1.5\n",
      "2.0\n",
      "ZeroDivisionError\n",
      "0.0\n",
      "0.5\n",
      "0.6666666666666666\n",
      "0.75\n",
      "0.8\n",
      "0.8333333333333334\n",
      "0.8571428571428571\n",
      "0.875\n",
      "0.8888888888888888\n",
      "0.9\n"
     ]
    }
   ],
   "source": [
    "# From print statement we understand that when b = 0 then it throws an error\n",
    "def divide(a, b):\n",
    "    # breaking the code in terms of execution\n",
    "    if(b == 0):\n",
    "        return \"ZeroDivisionError\"\n",
    "    return a/b\n",
    "\n",
    "for i in range(-10, 10):\n",
    "    print(divide(i, i+1))"
   ]
  },
  {
   "cell_type": "markdown",
   "metadata": {},
   "source": [
    "### **Why `print()` is Not the Best Way to Debug?**  \n",
    "\n",
    "#### **1. Limitations of `print()` Statements**\n",
    "- `print()` is **not efficient** for debugging.\n",
    "- Works for **simple scripts**, but not for **complex applications**.\n",
    "- In **console/terminal**, all `print()` outputs are **lost after execution**.\n",
    "- No control over **log levels** (e.g., debug, warning, error).\n",
    "\n",
    "#### **2. The Better Alternative: `logging` Module**\n",
    "Python provides a **better debugging method**—the **`logging` module**.\n",
    "\n",
    "##### **Why Use `logging` Instead of `print()`?**\n",
    "✔ **Records the state and flow** of your program.  \n",
    "✔ Helps in **understanding, monitoring, and debugging**.  \n",
    "✔ Allows different **log levels** (DEBUG, INFO, WARNING, ERROR, CRITICAL).  \n",
    "✔ **Stores logs persistently** for future analysis.  \n",
    "✔ Shows how the program **behaves over time**.\n",
    "\n",
    "#### **3. Analogy: Diary Entry 📖**\n",
    "Keeping a **diary from childhood to now** helps track growth.  \n",
    "Similarly, in **complex scripts**, logging helps track **how code changes results over time**.  \n",
    "\n",
    "🔹 Instead of **printing output**, log **specific steps** to monitor execution efficiently. 🚀  \n"
   ]
  },
  {
   "cell_type": "markdown",
   "metadata": {},
   "source": [
    "### **Theoretical Use Case Explanation**\n",
    "\n",
    "#### **Steps of the Code:**\n",
    "1. **Step 1** → Remove some elements from the list.\n",
    "2. **Step 2** → Capitalize/convert to upper case.\n",
    "3. **Step 3** → Remove metropolitan city.\n",
    "4. **Step 4** → Convert to lower case.\n",
    "\n",
    "If after **Step 3**, the list becomes **empty**, **Step 4** can throw an error.  \n",
    "To debug this, **log the result of Step 3** to check the state of the list.\n",
    "\n",
    "---\n",
    "\n",
    "### **Logging and Its Levels**\n",
    "\n",
    "The **`logging`** module supports **different levels of logging**, which help categorize messages based on their **severity**.  \n",
    "These levels include:  \n",
    "- **DEBUG**  \n",
    "- **INFO**  \n",
    "- **WARNING**  \n",
    "- **ERROR**  \n",
    "- **CRITICAL**  \n",
    "\n",
    "#### **Analogy:**  \n",
    "Just like a **terror attack** is categorized as **emergency**, logging uses different severity levels to categorize messages effectively.  \n",
    "This allows you to monitor the **severity** and **urgency** of issues in your program.\n",
    "\n",
    "By using appropriate logging levels, you can easily **track errors**, **monitor progress**, and **debug** efficiently.\n"
   ]
  },
  {
   "cell_type": "code",
   "execution_count": 29,
   "metadata": {},
   "outputs": [],
   "source": [
    "import logging"
   ]
  },
  {
   "cell_type": "code",
   "execution_count": 30,
   "metadata": {},
   "outputs": [],
   "source": [
    "logging.basicConfig(filename = \"test.log\", level=logging.INFO)"
   ]
  },
  {
   "cell_type": "code",
   "execution_count": 31,
   "metadata": {},
   "outputs": [],
   "source": [
    "logging.info(\"This is my normal information about software\")"
   ]
  },
  {
   "cell_type": "code",
   "execution_count": 32,
   "metadata": {},
   "outputs": [],
   "source": [
    "logging.warning(\"There can be empty list here\")"
   ]
  },
  {
   "cell_type": "code",
   "execution_count": null,
   "metadata": {},
   "outputs": [],
   "source": [
    "logging.debug(\"The length of list is\")"
   ]
  },
  {
   "cell_type": "code",
   "execution_count": 34,
   "metadata": {},
   "outputs": [],
   "source": [
    "logging.error(\"Some error has happened\")"
   ]
  },
  {
   "cell_type": "code",
   "execution_count": 35,
   "metadata": {},
   "outputs": [],
   "source": [
    "logging.critical(\"The software has stopped working\")"
   ]
  },
  {
   "cell_type": "code",
   "execution_count": 36,
   "metadata": {},
   "outputs": [],
   "source": [
    "logging.shutdown()"
   ]
  },
  {
   "cell_type": "markdown",
   "metadata": {},
   "source": [
    "### **Logging Levels in Python**\n",
    "\n",
    "#### **0️⃣ NOSET**\n",
    "- Lowest level of logging\n",
    "- Not used industry wide  \n",
    "#### **1️⃣ DEBUG**  \n",
    "- Lowest level of logging.  \n",
    "- Provides detailed information about variables, messages, and debugging processes.  \n",
    "\n",
    "#### **2️⃣ INFO**  \n",
    "- Used to convey that the code is working as expected.  \n",
    "- **Example:** \"Data analysis is completed.\"  \n",
    "\n",
    "#### **3️⃣ WARNING**  \n",
    "- Indicates something unexpected or a potential issue in the code.  \n",
    "\n",
    "#### **4️⃣ ERROR**  \n",
    "- Represents a serious problem within a function.  \n",
    "\n",
    "#### **5️⃣ CRITICAL**  \n",
    "- Signals the termination of the program, code, or software.  \n",
    "\n",
    "---\n",
    "\n",
    "✅ **Logging levels are executed in order from lowest (`DEBUG`) to highest (`CRITICAL`).**  \n",
    "✅ When defining a level in `logging.basicConfig()`, logs from that level **and higher** will be displayed.\n",
    "</br>\n",
    "✅ If you initialize with WARNING level then only WARNING, ERROR and CRITICAL msgs will be logged. DEBUG and INFO will be ignored abd not logged"
   ]
  },
  {
   "cell_type": "code",
   "execution_count": 39,
   "metadata": {},
   "outputs": [],
   "source": [
    "import logging\n",
    "logging.basicConfig(filename=\"test.log\", level=logging.DEBUG, force=True)\n",
    "logging.info(\"This is my normal information about software\")\n",
    "logging.warning(\"There can be empty list here\")\n",
    "logging.debug(\"The length of list is\")\n",
    "logging.error(\"Some error has happened\")\n",
    "logging.critical(\"The software has stopped working\")"
   ]
  },
  {
   "cell_type": "markdown",
   "metadata": {},
   "source": [
    "We can include ***TIME*** too in logging."
   ]
  },
  {
   "cell_type": "code",
   "execution_count": 47,
   "metadata": {},
   "outputs": [],
   "source": [
    "import logging\n",
    "logging.basicConfig(filename=\"test.log\", level=logging.DEBUG, force=True, format='%(asctime)s %(levelname)s: %(message)s')\n",
    "logging.debug(\"This is from DEBUG\")\n",
    "logging.info(\"This is from DEBUG\")\n",
    "logging.warning(\"This is from DEBUG\")\n",
    "logging.error(\"This is from DEBUG\")\n",
    "logging.critical(\"This is from DEBUG\")\n",
    "logging.shutdown()"
   ]
  },
  {
   "cell_type": "markdown",
   "metadata": {},
   "source": [
    "### Implementing in a Program"
   ]
  },
  {
   "cell_type": "code",
   "execution_count": 48,
   "metadata": {},
   "outputs": [],
   "source": [
    "# Use case \n",
    "import logging\n",
    "logging.basicConfig(filename=\"program.log\", level=logging.INFO, force=True, format='%(asctime)s %(levelname)s: %(message)s')\n"
   ]
  },
  {
   "cell_type": "markdown",
   "metadata": {},
   "source": [
    "##### Write a program to seperate the integer and string in two lists seperately"
   ]
  },
  {
   "cell_type": "code",
   "execution_count": 52,
   "metadata": {},
   "outputs": [
    {
     "name": "stdout",
     "output_type": "stream",
     "text": [
      "The result is ['Hello', 'world cup', 'Python'] [1, 2, 5, 3]\n"
     ]
    }
   ],
   "source": [
    "lst = [1, \"Hello\", [2, \"world cup\"], 5, [3, \"Python\"]]\n",
    "s = []\n",
    "num = []\n",
    "for ele in lst:\n",
    "    logging.info(f\"Processing {ele} element\")\n",
    "    if type(ele) == str:\n",
    "        s.append(ele)\n",
    "    elif type(ele) == int:\n",
    "        num.append(ele)\n",
    "    elif type(ele) == list:\n",
    "        for i in ele:\n",
    "            logging.info(f\"Processing sublist element {i}\")\n",
    "            if type(i) == str:\n",
    "                s.append(i)\n",
    "            elif type(i) == int:\n",
    "                num.append(i)\n",
    "\n",
    "print(\"The result is\", s, num)"
   ]
  },
  {
   "cell_type": "code",
   "execution_count": null,
   "metadata": {},
   "outputs": [],
   "source": []
  }
 ],
 "metadata": {
  "kernelspec": {
   "display_name": "Python 3",
   "language": "python",
   "name": "python3"
  },
  "language_info": {
   "codemirror_mode": {
    "name": "ipython",
    "version": 3
   },
   "file_extension": ".py",
   "mimetype": "text/x-python",
   "name": "python",
   "nbconvert_exporter": "python",
   "pygments_lexer": "ipython3",
   "version": "3.12.9"
  }
 },
 "nbformat": 4,
 "nbformat_minor": 2
}
