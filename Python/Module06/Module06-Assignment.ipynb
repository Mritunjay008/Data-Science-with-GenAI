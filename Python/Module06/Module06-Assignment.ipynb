{
 "cells": [
  {
   "cell_type": "markdown",
   "metadata": {},
   "source": [
    "## Files, exceptional handling, logging and memory management Questions"
   ]
  },
  {
   "cell_type": "markdown",
   "metadata": {},
   "source": [
    "## *Theoritical Question*"
   ]
  },
  {
   "cell_type": "markdown",
   "metadata": {},
   "source": [
    "### 1. What is the diffrence between interpreted and compiled languages?\n",
    "The main diffrence between interpreted and compiled language is \n",
    "***Compiled language*** will be compiled and changes into byte code before it will execute. ***Interpreted language*** will be run line by line."
   ]
  },
  {
   "cell_type": "markdown",
   "metadata": {},
   "source": [
    "### 2. What is exception handeling in python?\n",
    "Exception handling in python is a mechanism to handle runtime errors and prevenmt program crashes. It allow program to respond to unexpected situations. Such as ***ZeroDivisonError***, ***TypeError***, ***AttributeError*** ..etc."
   ]
  },
  {
   "cell_type": "markdown",
   "metadata": {},
   "source": [
    "### 3. What is the purpose of the finally block in exception handling?\n",
    "**Finally Block** will be executed. It will not depend upon whether the exceptions occurs or not. It typically usese for cleanup the resources."
   ]
  },
  {
   "cell_type": "markdown",
   "metadata": {},
   "source": [
    "### 4. What is logging in python?\n",
    "Logging in an event is to track the events during program execution. If any error occurs we use logging method so that we can track the error."
   ]
  },
  {
   "cell_type": "markdown",
   "metadata": {},
   "source": [
    "### 5. What is the significance of the __ del __ method in python?\n",
    "In python __ del __ method is used as a destructor method. It is called when an object is about to be destroyed."
   ]
  },
  {
   "cell_type": "markdown",
   "metadata": {},
   "source": [
    "### 6. What is the diffrence between import and from ... import in python?\n",
    "the main diffrence when we use only import and from ... import is\n",
    "##### import >> \n",
    "it is used to transfer the code package into our code and use all the modules inside it. But when we use \n",
    "##### from ... import >>\n",
    "it means we are transfering the special module from the package"
   ]
  },
  {
   "cell_type": "markdown",
   "metadata": {},
   "source": [
    "### 7. How can we handle multiple exception in python?\n",
    "We can handle multiple exception by \n",
    "```python\n",
    "try:\n",
    "    pass\n",
    "except ZeroDivisionError  as e:\n",
    "    pass\n",
    "except AttributeError as e:\n",
    "    pass"
   ]
  },
  {
   "cell_type": "markdown",
   "metadata": {},
   "source": [
    "### 8. What is the puropse of the with statement when handling files in python?\n",
    "When we use ***with*** statement it ensures that file is opened and closed properly. It will automatically closed file. We use this to write cleaner code."
   ]
  },
  {
   "cell_type": "markdown",
   "metadata": {},
   "source": [
    "### 9. What is the diffrence between multithreading and multiprocessing\n",
    "#### Multithreading vs Multiprocessing\n",
    "| Feature           | Multithreading | Multiprocessing |\n",
    "|------------------|---------------|---------------|\n",
    "| Execution        | Runs on a **single processor** | Runs on **multiple processors** |\n",
    "| Resource Sharing | Threads share memory and resources | Each process has its own memory space and resources |\n",
    "| Type of Execution | **Concurrent** | **Truly parallel** execution |\n",
    "| Python Limitation | Affected by **GIL** | Not affected by **GIL** |\n"
   ]
  },
  {
   "cell_type": "markdown",
   "metadata": {},
   "source": [
    "### 10. What are the advantages of using logging in a program.\n",
    "logging is used in python provides\n",
    "- Error tracking and easier debugging\n",
    "- Flexible severity levels for the categorization\n",
    "- Scalability with large applications"
   ]
  },
  {
   "cell_type": "markdown",
   "metadata": {},
   "source": [
    "### 11. What is the memory management in python?\n",
    "Memory management in python involves the allocation and deallocation of memory during the execution of a program. Python uses several techniques to mange memory efficiency:\n",
    "- Automatic memeory management\n",
    "- Garbage Collection\n",
    "- Memory pools\n",
    "- object allocation"
   ]
  },
  {
   "cell_type": "markdown",
   "metadata": {},
   "source": [
    "### 12. What are the basic steps involved in exception handling in python.\n",
    "basic steps involved in exception handling in python are:\n",
    "- Try block and it's operation\n",
    "- Except Block, It can handle specific Exception or just normal exception\n",
    "- Except Block (optional) if we want to use more exception.\n",
    "- Else block (optional)\n",
    "- Finally Block (optional)"
   ]
  },
  {
   "cell_type": "markdown",
   "metadata": {},
   "source": [
    "### 13. Why is memory management important in python?\n",
    "Memory management is important because it directly impacts\n",
    "1. Performance\n",
    "2. Resource Utilization\n",
    "3. Preventing Memory leaks\n",
    "4. scalability\n",
    "5. Relibility"
   ]
  },
  {
   "cell_type": "markdown",
   "metadata": {},
   "source": [
    "### 14. What is the role of try and except in exception in handling?\n",
    "It is simple try will execute risky code and if that risky code fails then exception block will handle that code. "
   ]
  },
  {
   "cell_type": "markdown",
   "metadata": {},
   "source": [
    "### 15. How does python's garbage collection in system work?\n",
    "Python garbage collection works\n",
    "1. Reference counting : Each object’s reference count tracks how many references point to it. When the count reaches zero, the object’s memory is freed.\n",
    "2. Cyclic Garbage collection : Detects and cleans up cyclic references\n",
    "3. Generational approach : Objects are grouped into generations, and younger objects are collected more frequently to optimize performance."
   ]
  },
  {
   "cell_type": "markdown",
   "metadata": {},
   "source": [
    "### 16. What is the purpose of the else block in exception handling?\n",
    "The else block in exception handling is executed when no exception occurs in the try block. It allows you to run code that should only be executed if the try block completes successfully without any errors.\n",
    "</br>\n",
    "</br>\n",
    "Suppose we opened a file in try block then we can close it into the else block."
   ]
  },
  {
   "cell_type": "markdown",
   "metadata": {},
   "source": [
    "### 17. What are the common logging levels in python\n",
    "Common levels in logging is \n",
    "- NOTSET\n",
    "- INFO\n",
    "- DEBUG\n",
    "- WARNING\n",
    "- ERROR\n",
    "- CRITICAL"
   ]
  },
  {
   "cell_type": "markdown",
   "metadata": {},
   "source": [
    "### 18. What is the diffrence between os.fork() and multiprocessing in python?\n",
    "***os.fork()*** >>\n",
    "- It is used for system calls in low level system call using Unix-like operating systems.\n",
    "- It is used for process creation It creates a child process by duplicating the current process.\n",
    "- It will only executes on UNIX/LINUX-based systems, not on windows\n",
    "\n",
    "***Multiprocessing*** >>\n",
    "- Multiprocessing in python is used to execute programs on multiple processor.\n",
    "- It can be used on cross platforms\n",
    "- It is used for process creation\n"
   ]
  },
  {
   "cell_type": "markdown",
   "metadata": {},
   "source": [
    "### 19. What is the importance of closing a file in python?\n",
    "It is important to close the file after we opened it because:\n",
    "1. To release system resources\n",
    "2. To prevent data loss\n",
    "3. Avoiding file corruption\n",
    "4. Prevent memory leaks\n",
    "\n",
    "That's why we use *with* to ensure file will be automatically closed"
   ]
  },
  {
   "cell_type": "markdown",
   "metadata": {},
   "source": [
    "### 20. What is the diffrence between file.read() and file.readline() in python?\n",
    "***file.read()***>>\n",
    "file.read() will read all the data from that specific file\n",
    "***file.readline()***>>\n",
    "file.readline() will store line by line data in a list and later we can use read this"
   ]
  },
  {
   "cell_type": "markdown",
   "metadata": {},
   "source": [
    "### 21. What is the logging module in python used for?\n",
    "The logging module in Python used for:\n",
    "1. Tracking Events >> It helps us to record events, errors or other significant occurances during the execution of a program.\n",
    "2. Debugging >> It helps us to debug the code we cannot do it in again again terminal \n",
    "3. Flexible logging levels >> It gives us the flexibility to give message with diffrent level of severity."
   ]
  },
  {
   "cell_type": "markdown",
   "metadata": {},
   "source": [
    "### 22. What is the os module in python used for in file handling?\n",
    "In file handling OS module is used for interacting with the file system, Navigating directories, Creating and removing directories, renaming and deleting the files. "
   ]
  },
  {
   "cell_type": "markdown",
   "metadata": {},
   "source": [
    "### 23. What are the challenges associated with memory management in Python?\n",
    "Challenges associated with Memory Management in Python is Garbage collection overhead, Memory fragmentation, and Global interpreter lock(GIL) which limits multi-threaded applications from fully utilizing memory and CPU resources efficiency."
   ]
  },
  {
   "cell_type": "markdown",
   "metadata": {},
   "source": [
    "### 24. How do you raise an exception manually in Python?\n",
    "We can use \n",
    "```Python \n",
    "raise Error_name(\"Message\")\n",
    "```\n",
    "to raise the error manually"
   ]
  },
  {
   "cell_type": "markdown",
   "metadata": {},
   "source": [
    "### 25. Why is it important to use multithreading in certain applications?\n",
    "Importance of Multithreading in certain applications:\n",
    "1. Improve Performance\n",
    "2. Better resource utilization\n",
    "3. Responsive Applications\n",
    "Main use case is when we do input output application."
   ]
  },
  {
   "cell_type": "markdown",
   "metadata": {},
   "source": [
    "## Practical Questions"
   ]
  },
  {
   "cell_type": "markdown",
   "metadata": {},
   "source": [
    "### 1. How can you open a file for writing in Python and write a string to it?"
   ]
  },
  {
   "cell_type": "code",
   "execution_count": 11,
   "metadata": {},
   "outputs": [],
   "source": [
    "import os, sys\n",
    "with open(\"file.txt\", 'w') as f:\n",
    "    f.write(\"Hii My name is Mritunjay\\n\")\n",
    "    f.write(\"Hii My name is Mritunjay\")"
   ]
  },
  {
   "cell_type": "markdown",
   "metadata": {},
   "source": [
    "### 2. Write a Python program to read the contents of a file and print each line"
   ]
  },
  {
   "cell_type": "code",
   "execution_count": 15,
   "metadata": {},
   "outputs": [
    {
     "name": "stdout",
     "output_type": "stream",
     "text": [
      "Hii My name is Mritunjay\n",
      "\n",
      "Hii My name is Mritunjay\n"
     ]
    }
   ],
   "source": [
    "with open(\"file.txt\", 'r') as f:\n",
    "    lines = f.readlines()\n",
    "    for line in lines:\n",
    "        print(line)\n",
    "    "
   ]
  },
  {
   "cell_type": "markdown",
   "metadata": {},
   "source": [
    "### 3.  How would you handle a case where the file doesn't exist while trying to open it for reading?"
   ]
  },
  {
   "cell_type": "code",
   "execution_count": 16,
   "metadata": {},
   "outputs": [
    {
     "name": "stdout",
     "output_type": "stream",
     "text": [
      "[Errno 2] No such file or directory: 'file3.txt'\n"
     ]
    }
   ],
   "source": [
    "# We can handle it using a try exception block\n",
    "try:\n",
    "    with open(\"file3.txt\", 'r') as f:\n",
    "        print(f.read())\n",
    "except Exception as e:\n",
    "    print(e)"
   ]
  },
  {
   "cell_type": "markdown",
   "metadata": {},
   "source": [
    "### 4. Write a Python script that reads from one file and writes its content to another file"
   ]
  },
  {
   "cell_type": "code",
   "execution_count": 20,
   "metadata": {},
   "outputs": [
    {
     "name": "stdout",
     "output_type": "stream",
     "text": [
      "Hii My name is Mritunjay\n",
      "Hii My name is Mritunjay\n"
     ]
    }
   ],
   "source": [
    "with open(\"file.txt\", 'r') as f:\n",
    "    with open(\"file1.txt\", 'w') as f1:\n",
    "        f1.write(f.read())\n",
    "\n",
    "with open(\"file1.txt\", 'r') as f:\n",
    "    print(f.read())"
   ]
  },
  {
   "cell_type": "markdown",
   "metadata": {},
   "source": [
    "### 5. How would you catch and handle division by zero error in Python?"
   ]
  },
  {
   "cell_type": "code",
   "execution_count": 21,
   "metadata": {},
   "outputs": [
    {
     "name": "stdout",
     "output_type": "stream",
     "text": [
      "We have to avoid division by zero\n"
     ]
    }
   ],
   "source": [
    "try:\n",
    "    10/0\n",
    "except ZeroDivisionError as e:\n",
    "    print(f\"We have to avoid {e}\")"
   ]
  },
  {
   "cell_type": "markdown",
   "metadata": {},
   "source": [
    "### 6. Write a Python program that logs an error message to a log file when a division by zero exception occurs."
   ]
  },
  {
   "cell_type": "code",
   "execution_count": 23,
   "metadata": {},
   "outputs": [
    {
     "name": "stderr",
     "output_type": "stream",
     "text": [
      "ERROR:root:Error : division by zero\n"
     ]
    }
   ],
   "source": [
    "import logging\n",
    "logging.basicConfig(level=logging.ERROR)\n",
    "try:\n",
    "    10/0\n",
    "except ZeroDivisionError as e:\n",
    "    logging.error(f\"Error : {e}\")"
   ]
  },
  {
   "cell_type": "markdown",
   "metadata": {},
   "source": [
    "### 7.  How do you log information at different levels (INFO, ERROR, WARNING) in Python using the logging module?"
   ]
  },
  {
   "cell_type": "code",
   "execution_count": 29,
   "metadata": {},
   "outputs": [
    {
     "name": "stderr",
     "output_type": "stream",
     "text": [
      "ERROR:root:This is a ERROR message\n",
      "CRITICAL:root:This is a CRITICAL message\n"
     ]
    }
   ],
   "source": [
    "# We use logging.<LEVEL>() for diffrent levels\n",
    "import logging\n",
    "\n",
    "logging.basicConfig(filename=\"error.log\", level=logging.DEBUG)\n",
    "\n",
    "logging.debug(\"This is a debug message\")\n",
    "logging.info(\"This is a INFO message\")\n",
    "logging.error(\"This is a ERROR message\")\n",
    "logging.warning(\"This is a WARNING message\")\n",
    "logging.critical(\"This is a CRITICAL message\")"
   ]
  },
  {
   "cell_type": "markdown",
   "metadata": {},
   "source": [
    "### 8. Write a program to handle a file opening error using exception handling?"
   ]
  },
  {
   "cell_type": "code",
   "execution_count": 30,
   "metadata": {},
   "outputs": [
    {
     "name": "stdout",
     "output_type": "stream",
     "text": [
      "Error is : [Errno 2] No such file or directory: 'file3.txt'\n"
     ]
    }
   ],
   "source": [
    "try:\n",
    "    f = open(\"file3.txt\", 'r')\n",
    "    f.read()\n",
    "except Exception as e:\n",
    "    print(f\"Error is : {e}\")"
   ]
  },
  {
   "cell_type": "markdown",
   "metadata": {},
   "source": [
    "### 9.  How can you read a file line by line and store its content in a list in Python?"
   ]
  },
  {
   "cell_type": "code",
   "execution_count": 31,
   "metadata": {},
   "outputs": [
    {
     "name": "stdout",
     "output_type": "stream",
     "text": [
      "['Hii My name is Mritunjay\\n', 'Hii My name is Mritunjay']\n"
     ]
    }
   ],
   "source": [
    "with open(\"file.txt\", 'r') as f:\n",
    "    f = f.readlines()\n",
    "    print(f)"
   ]
  },
  {
   "cell_type": "markdown",
   "metadata": {},
   "source": [
    "### 10. How can you append data to an existing file in Python?"
   ]
  },
  {
   "cell_type": "code",
   "execution_count": 36,
   "metadata": {},
   "outputs": [
    {
     "name": "stdout",
     "output_type": "stream",
     "text": [
      "This is previously written : ['Hii My name is Mritunjay\\n', 'Hii My name is Mritunjay']\n",
      "This is written after editing : ['Hii My name is Mritunjay\\n', 'Hii My name is Mritunjay\\n', 'This is added lines']\n"
     ]
    }
   ],
   "source": [
    "with open(\"file.txt\", 'r') as f:\n",
    "    f = f.readlines()\n",
    "    print(f\"This is previously written : {f}\")\n",
    "with open(\"file.txt\", 'a') as f:\n",
    "    f = f.write(\"\\nThis is added lines\")\n",
    "with open(\"file.txt\", 'r') as f:\n",
    "    f = f.readlines()\n",
    "    print(f\"This is written after editing : {f}\")"
   ]
  },
  {
   "cell_type": "markdown",
   "metadata": {},
   "source": [
    "### 11. Write a Python program that uses a try-except block to handle an error when attempting to access a dictionary key that doesn't exist."
   ]
  },
  {
   "cell_type": "code",
   "execution_count": 37,
   "metadata": {},
   "outputs": [
    {
     "name": "stdout",
     "output_type": "stream",
     "text": [
      "Key does not exist 'Class'\n"
     ]
    }
   ],
   "source": [
    "dic = {\"Name\":\"Mritunjay\", \"Age\":22}\n",
    "try:\n",
    "    dic[\"Class\"]\n",
    "except Exception as e:\n",
    "    print(f\"Key does not exist {e}\")"
   ]
  },
  {
   "cell_type": "markdown",
   "metadata": {},
   "source": [
    "### 12. Write a program that demonstrates using multiple except blocks to handle different types of exceptions."
   ]
  },
  {
   "cell_type": "code",
   "execution_count": 38,
   "metadata": {},
   "outputs": [
    {
     "name": "stdout",
     "output_type": "stream",
     "text": [
      "Key does not exist 'Class'\n"
     ]
    }
   ],
   "source": [
    "dic = {\"Name\":\"Mritunjay\", \"Age\":22}\n",
    "try:\n",
    "    dic[\"Class\"]\n",
    "except KeyError as e:\n",
    "    print(f\"Key does not exist {e}\")\n",
    "except ZeroDivisionError as e:\n",
    "    print(f\"correct the {e}\")\n",
    "except Exception as e:\n",
    "    print(f\"Exception is {e}\")"
   ]
  },
  {
   "cell_type": "markdown",
   "metadata": {},
   "source": [
    "### 13. How would you check if a file exists before attempting to read it in Python?"
   ]
  },
  {
   "cell_type": "code",
   "execution_count": 40,
   "metadata": {},
   "outputs": [
    {
     "name": "stdout",
     "output_type": "stream",
     "text": [
      "True\n"
     ]
    }
   ],
   "source": [
    "with open(\"file.txt\", 'r') as f:\n",
    "    f = f.readable()\n",
    "    print(f)"
   ]
  },
  {
   "cell_type": "markdown",
   "metadata": {},
   "source": [
    "### 14.  Write a program that uses the logging module to log both informational and error messages."
   ]
  },
  {
   "cell_type": "code",
   "execution_count": 41,
   "metadata": {},
   "outputs": [
    {
     "name": "stderr",
     "output_type": "stream",
     "text": [
      "ERROR:root:This message is for because error occured\n"
     ]
    }
   ],
   "source": [
    "import logging\n",
    "logging.basicConfig(filename=\"App.log\", level=logging.INFO)\n",
    "\n",
    "logging.info(\"This message is for information\")\n",
    "logging.error(\"This message is for because error occured\")"
   ]
  },
  {
   "cell_type": "markdown",
   "metadata": {},
   "source": [
    "### 15. Write a Python program that prints the content of a file and handles the case when the file is empty."
   ]
  },
  {
   "cell_type": "code",
   "execution_count": 47,
   "metadata": {},
   "outputs": [
    {
     "name": "stdout",
     "output_type": "stream",
     "text": [
      "File is empty\n"
     ]
    }
   ],
   "source": [
    "try:\n",
    "    with open(\"file.txt\", 'r') as f:\n",
    "        content = f.read()\n",
    "        if content ==\"\":\n",
    "            print(\"File is empty\")\n",
    "        else:\n",
    "            print(content)\n",
    "except FileNotFoundError as e:\n",
    "    print(f\"File is not found{e}\")"
   ]
  },
  {
   "cell_type": "markdown",
   "metadata": {},
   "source": [
    "### 16. Demonstrate how to use memory profiling to check the memory usage of a small program."
   ]
  },
  {
   "cell_type": "code",
   "execution_count": 3,
   "metadata": {},
   "outputs": [
    {
     "name": "stdout",
     "output_type": "stream",
     "text": [
      "Starting memory allocation...\n",
      "Memory allocation completed.\n"
     ]
    }
   ],
   "source": [
    "from memory_profiler import profile\n",
    "import time\n",
    "\n",
    "def my_function():\n",
    "    print(\"Starting memory allocation...\")\n",
    "    large_list = [i for i in range(0, 10000)]\n",
    "    time.sleep(2)\n",
    "    print(\"Memory allocation completed.\")\n",
    "\n",
    "my_function()"
   ]
  },
  {
   "cell_type": "markdown",
   "metadata": {},
   "source": [
    "### 17.  Write a Python program to create and write a list of numbers to a file, one number per line"
   ]
  },
  {
   "cell_type": "code",
   "execution_count": 6,
   "metadata": {},
   "outputs": [
    {
     "name": "stdout",
     "output_type": "stream",
     "text": [
      "['0\\n', '1\\n', '2\\n', '3\\n', '4\\n', '5\\n', '6\\n', '7\\n', '8\\n', '9\\n', '10\\n']\n"
     ]
    }
   ],
   "source": [
    "with open(\"file.txt\", 'w') as f:\n",
    "    for i in [i for i in range(11)]:\n",
    "        f.write(f'{i}\\n')\n",
    "\n",
    "with open(\"file.txt\", 'r') as f:\n",
    "    f = f.readlines()     \n",
    "    print(f)"
   ]
  },
  {
   "cell_type": "markdown",
   "metadata": {},
   "source": [
    "### 18. How would you implement a basic logging setup that logs to a file with rotation after 1MB?"
   ]
  },
  {
   "cell_type": "code",
   "execution_count": 7,
   "metadata": {},
   "outputs": [
    {
     "name": "stdout",
     "output_type": "stream",
     "text": [
      "Logging setup complete\n"
     ]
    }
   ],
   "source": [
    "import logging\n",
    "from logging.handlers import RotatingFileHandler\n",
    "\n",
    "logger = logging.getLogger(\"MyLogger\")\n",
    "logger.setLevel(logging.DEBUG)\n",
    "\n",
    "handler = RotatingFileHandler(\n",
    "    \"app.log\", maxBytes=1024*1024, backupCount=3\n",
    ")\n",
    "\n",
    "formatter = logging.Formatter('%(asctime)s - %(levelname)s - %(message)s')\n",
    "handler.setFormatter(formatter)\n",
    "\n",
    "logger.addHandler(handler)\n",
    "\n",
    "for i in range(10000):\n",
    "    logger.info(f\"Logging message {i}\")\n",
    "    \n",
    "print(\"Logging setup complete\")"
   ]
  },
  {
   "cell_type": "markdown",
   "metadata": {},
   "source": [
    "### 19. Write a program that handles both IndexError and KeyError using a try-except block."
   ]
  },
  {
   "cell_type": "code",
   "execution_count": 9,
   "metadata": {},
   "outputs": [
    {
     "name": "stdout",
     "output_type": "stream",
     "text": [
      "The error is : list index out of range\n"
     ]
    }
   ],
   "source": [
    "lst = [8, 9]\n",
    "try:\n",
    "    lst[5]\n",
    "except (KeyError, IndexError) as e:\n",
    "    print(f\"The error is : {e}\")"
   ]
  },
  {
   "cell_type": "markdown",
   "metadata": {},
   "source": [
    "### 20. How would you open a file and read its contents using a context manager in Python?"
   ]
  },
  {
   "cell_type": "code",
   "execution_count": 12,
   "metadata": {},
   "outputs": [
    {
     "name": "stdout",
     "output_type": "stream",
     "text": [
      "Hello, World!\n"
     ]
    }
   ],
   "source": [
    "with open(\"file.txt\", \"w\") as f:\n",
    "    f.write(\"Hello, World!\")\n",
    "with open(\"file.txt\", \"r\") as f:\n",
    "    print(f.read())"
   ]
  },
  {
   "cell_type": "markdown",
   "metadata": {},
   "source": [
    "### 21. Write a Python program that reads a file and prints the number of occurrences of a specific word."
   ]
  },
  {
   "cell_type": "code",
   "execution_count": 21,
   "metadata": {},
   "outputs": [
    {
     "name": "stdout",
     "output_type": "stream",
     "text": [
      "10\n"
     ]
    }
   ],
   "source": [
    "with open(\"file.txt\", \"w\") as f:\n",
    "    for i in range(10):\n",
    "        f.write(\"Hello, Mritunjay\\n\")\n",
    "\n",
    "lst = []\n",
    "with open(\"file.txt\", 'r') as f:\n",
    "    lst = f.readlines()\n",
    "count = 0\n",
    "for ele in lst:\n",
    "    name = ele.lower()\n",
    "    name = name.split()\n",
    "    if \"Mritunjay\".lower() in name:\n",
    "        count+=1\n",
    "print(count)"
   ]
  },
  {
   "cell_type": "markdown",
   "metadata": {},
   "source": [
    "### 22.  How can you check if a file is empty before attempting to read its contents."
   ]
  },
  {
   "cell_type": "code",
   "execution_count": 25,
   "metadata": {},
   "outputs": [
    {
     "name": "stdout",
     "output_type": "stream",
     "text": [
      "file is empty\n"
     ]
    }
   ],
   "source": [
    "import os\n",
    "path = r\"C:\\Users\\thaku\\OneDrive\\Desktop\\Data Science\\Python\\Module06\\file4.txt\"\n",
    "size = os.path.getsize(path)\n",
    "if size == 0:\n",
    "    print(\"file is empty\")\n",
    "else:\n",
    "    with open(\"file4.txt\", 'r') as f:\n",
    "        print(f.read())"
   ]
  },
  {
   "cell_type": "markdown",
   "metadata": {},
   "source": [
    "### 23. Write a Python program that writes to a log file when an error occurs during file handling."
   ]
  },
  {
   "cell_type": "code",
   "execution_count": 27,
   "metadata": {},
   "outputs": [
    {
     "name": "stdout",
     "output_type": "stream",
     "text": [
      "An error occurred. Check error.log for details.\n"
     ]
    },
    {
     "name": "stderr",
     "output_type": "stream",
     "text": [
      "--- Logging error ---\n",
      "Traceback (most recent call last):\n",
      "  File \"C:\\Users\\thaku\\AppData\\Local\\Temp\\ipykernel_12504\\3468745381.py\", line 9, in <module>\n",
      "    with open(file_path, \"r\") as f:\n",
      "         ^^^^^^^^^^^^^^^^^^^^\n",
      "  File \"C:\\Users\\thaku\\AppData\\Local\\Packages\\PythonSoftwareFoundation.Python.3.12_qbz5n2kfra8p0\\LocalCache\\local-packages\\Python312\\site-packages\\IPython\\core\\interactiveshell.py\", line 324, in _modified_open\n",
      "    return io_open(file, *args, **kwargs)\n",
      "           ^^^^^^^^^^^^^^^^^^^^^^^^^^^^^^\n",
      "FileNotFoundError: [Errno 2] No such file or directory: 'non_existent_file.txt'\n",
      "\n",
      "During handling of the above exception, another exception occurred:\n",
      "\n",
      "Traceback (most recent call last):\n",
      "  File \"C:\\Program Files\\WindowsApps\\PythonSoftwareFoundation.Python.3.12_3.12.2544.0_x64__qbz5n2kfra8p0\\Lib\\logging\\__init__.py\", line 464, in format\n",
      "    return self._format(record)\n",
      "           ^^^^^^^^^^^^^^^^^^^^\n",
      "  File \"C:\\Program Files\\WindowsApps\\PythonSoftwareFoundation.Python.3.12_3.12.2544.0_x64__qbz5n2kfra8p0\\Lib\\logging\\__init__.py\", line 460, in _format\n",
      "    return self._fmt % values\n",
      "           ~~~~~~~~~~^~~~~~~~\n",
      "KeyError: 'level'\n",
      "\n",
      "During handling of the above exception, another exception occurred:\n",
      "\n",
      "Traceback (most recent call last):\n",
      "  File \"C:\\Program Files\\WindowsApps\\PythonSoftwareFoundation.Python.3.12_3.12.2544.0_x64__qbz5n2kfra8p0\\Lib\\logging\\__init__.py\", line 1160, in emit\n",
      "    msg = self.format(record)\n",
      "          ^^^^^^^^^^^^^^^^^^^\n",
      "  File \"C:\\Program Files\\WindowsApps\\PythonSoftwareFoundation.Python.3.12_3.12.2544.0_x64__qbz5n2kfra8p0\\Lib\\logging\\__init__.py\", line 999, in format\n",
      "    return fmt.format(record)\n",
      "           ^^^^^^^^^^^^^^^^^^\n",
      "  File \"C:\\Program Files\\WindowsApps\\PythonSoftwareFoundation.Python.3.12_3.12.2544.0_x64__qbz5n2kfra8p0\\Lib\\logging\\__init__.py\", line 706, in format\n",
      "    s = self.formatMessage(record)\n",
      "        ^^^^^^^^^^^^^^^^^^^^^^^^^^\n",
      "  File \"C:\\Program Files\\WindowsApps\\PythonSoftwareFoundation.Python.3.12_3.12.2544.0_x64__qbz5n2kfra8p0\\Lib\\logging\\__init__.py\", line 675, in formatMessage\n",
      "    return self._style.format(record)\n",
      "           ^^^^^^^^^^^^^^^^^^^^^^^^^^\n",
      "  File \"C:\\Program Files\\WindowsApps\\PythonSoftwareFoundation.Python.3.12_3.12.2544.0_x64__qbz5n2kfra8p0\\Lib\\logging\\__init__.py\", line 466, in format\n",
      "    raise ValueError('Formatting field not found in record: %s' % e)\n",
      "ValueError: Formatting field not found in record: 'level'\n",
      "Call stack:\n",
      "  File \"<frozen runpy>\", line 198, in _run_module_as_main\n",
      "  File \"<frozen runpy>\", line 88, in _run_code\n",
      "  File \"C:\\Users\\thaku\\AppData\\Local\\Packages\\PythonSoftwareFoundation.Python.3.12_qbz5n2kfra8p0\\LocalCache\\local-packages\\Python312\\site-packages\\ipykernel_launcher.py\", line 18, in <module>\n",
      "    app.launch_new_instance()\n",
      "  File \"C:\\Users\\thaku\\AppData\\Local\\Packages\\PythonSoftwareFoundation.Python.3.12_qbz5n2kfra8p0\\LocalCache\\local-packages\\Python312\\site-packages\\traitlets\\config\\application.py\", line 1075, in launch_instance\n",
      "    app.start()\n",
      "  File \"C:\\Users\\thaku\\AppData\\Local\\Packages\\PythonSoftwareFoundation.Python.3.12_qbz5n2kfra8p0\\LocalCache\\local-packages\\Python312\\site-packages\\ipykernel\\kernelapp.py\", line 739, in start\n",
      "    self.io_loop.start()\n",
      "  File \"C:\\Users\\thaku\\AppData\\Local\\Packages\\PythonSoftwareFoundation.Python.3.12_qbz5n2kfra8p0\\LocalCache\\local-packages\\Python312\\site-packages\\tornado\\platform\\asyncio.py\", line 205, in start\n",
      "    self.asyncio_loop.run_forever()\n",
      "  File \"C:\\Program Files\\WindowsApps\\PythonSoftwareFoundation.Python.3.12_3.12.2544.0_x64__qbz5n2kfra8p0\\Lib\\asyncio\\base_events.py\", line 645, in run_forever\n",
      "    self._run_once()\n",
      "  File \"C:\\Program Files\\WindowsApps\\PythonSoftwareFoundation.Python.3.12_3.12.2544.0_x64__qbz5n2kfra8p0\\Lib\\asyncio\\base_events.py\", line 1999, in _run_once\n",
      "    handle._run()\n",
      "  File \"C:\\Program Files\\WindowsApps\\PythonSoftwareFoundation.Python.3.12_3.12.2544.0_x64__qbz5n2kfra8p0\\Lib\\asyncio\\events.py\", line 88, in _run\n",
      "    self._context.run(self._callback, *self._args)\n",
      "  File \"C:\\Users\\thaku\\AppData\\Local\\Packages\\PythonSoftwareFoundation.Python.3.12_qbz5n2kfra8p0\\LocalCache\\local-packages\\Python312\\site-packages\\ipykernel\\kernelbase.py\", line 545, in dispatch_queue\n",
      "    await self.process_one()\n",
      "  File \"C:\\Users\\thaku\\AppData\\Local\\Packages\\PythonSoftwareFoundation.Python.3.12_qbz5n2kfra8p0\\LocalCache\\local-packages\\Python312\\site-packages\\ipykernel\\kernelbase.py\", line 534, in process_one\n",
      "    await dispatch(*args)\n",
      "  File \"C:\\Users\\thaku\\AppData\\Local\\Packages\\PythonSoftwareFoundation.Python.3.12_qbz5n2kfra8p0\\LocalCache\\local-packages\\Python312\\site-packages\\ipykernel\\kernelbase.py\", line 437, in dispatch_shell\n",
      "    await result\n",
      "  File \"C:\\Users\\thaku\\AppData\\Local\\Packages\\PythonSoftwareFoundation.Python.3.12_qbz5n2kfra8p0\\LocalCache\\local-packages\\Python312\\site-packages\\ipykernel\\ipkernel.py\", line 362, in execute_request\n",
      "    await super().execute_request(stream, ident, parent)\n",
      "  File \"C:\\Users\\thaku\\AppData\\Local\\Packages\\PythonSoftwareFoundation.Python.3.12_qbz5n2kfra8p0\\LocalCache\\local-packages\\Python312\\site-packages\\ipykernel\\kernelbase.py\", line 778, in execute_request\n",
      "    reply_content = await reply_content\n",
      "  File \"C:\\Users\\thaku\\AppData\\Local\\Packages\\PythonSoftwareFoundation.Python.3.12_qbz5n2kfra8p0\\LocalCache\\local-packages\\Python312\\site-packages\\ipykernel\\ipkernel.py\", line 449, in do_execute\n",
      "    res = shell.run_cell(\n",
      "  File \"C:\\Users\\thaku\\AppData\\Local\\Packages\\PythonSoftwareFoundation.Python.3.12_qbz5n2kfra8p0\\LocalCache\\local-packages\\Python312\\site-packages\\ipykernel\\zmqshell.py\", line 549, in run_cell\n",
      "    return super().run_cell(*args, **kwargs)\n",
      "  File \"C:\\Users\\thaku\\AppData\\Local\\Packages\\PythonSoftwareFoundation.Python.3.12_qbz5n2kfra8p0\\LocalCache\\local-packages\\Python312\\site-packages\\IPython\\core\\interactiveshell.py\", line 3075, in run_cell\n",
      "    result = self._run_cell(\n",
      "  File \"C:\\Users\\thaku\\AppData\\Local\\Packages\\PythonSoftwareFoundation.Python.3.12_qbz5n2kfra8p0\\LocalCache\\local-packages\\Python312\\site-packages\\IPython\\core\\interactiveshell.py\", line 3130, in _run_cell\n",
      "    result = runner(coro)\n",
      "  File \"C:\\Users\\thaku\\AppData\\Local\\Packages\\PythonSoftwareFoundation.Python.3.12_qbz5n2kfra8p0\\LocalCache\\local-packages\\Python312\\site-packages\\IPython\\core\\async_helpers.py\", line 128, in _pseudo_sync_runner\n",
      "    coro.send(None)\n",
      "  File \"C:\\Users\\thaku\\AppData\\Local\\Packages\\PythonSoftwareFoundation.Python.3.12_qbz5n2kfra8p0\\LocalCache\\local-packages\\Python312\\site-packages\\IPython\\core\\interactiveshell.py\", line 3334, in run_cell_async\n",
      "    has_raised = await self.run_ast_nodes(code_ast.body, cell_name,\n",
      "  File \"C:\\Users\\thaku\\AppData\\Local\\Packages\\PythonSoftwareFoundation.Python.3.12_qbz5n2kfra8p0\\LocalCache\\local-packages\\Python312\\site-packages\\IPython\\core\\interactiveshell.py\", line 3517, in run_ast_nodes\n",
      "    if await self.run_code(code, result, async_=asy):\n",
      "  File \"C:\\Users\\thaku\\AppData\\Local\\Packages\\PythonSoftwareFoundation.Python.3.12_qbz5n2kfra8p0\\LocalCache\\local-packages\\Python312\\site-packages\\IPython\\core\\interactiveshell.py\", line 3577, in run_code\n",
      "    exec(code_obj, self.user_global_ns, self.user_ns)\n",
      "  File \"C:\\Users\\thaku\\AppData\\Local\\Temp\\ipykernel_12504\\3468745381.py\", line 12, in <module>\n",
      "    logging.error(f\"Error occurred while handling the file: {e}\")\n",
      "Message: \"Error occurred while handling the file: [Errno 2] No such file or directory: 'non_existent_file.txt'\"\n",
      "Arguments: ()\n"
     ]
    }
   ],
   "source": [
    "import logging\n",
    "\n",
    "# Configure logging\n",
    "logging.basicConfig(filename=\"error.log\", level=logging.ERROR, format=\"%(asctime)s - %(levelname)s - %(message)s\")\n",
    "\n",
    "file_path = \"non_existent_file.txt\"  # A file that doesn't exist\n",
    "\n",
    "try:\n",
    "    with open(file_path, \"r\") as f:\n",
    "        content = f.read()\n",
    "except Exception as e:\n",
    "    logging.error(f\"Error occurred while handling the file: {e}\")\n",
    "    print(\"An error occurred. Check error.log for details.\")\n"
   ]
  }
 ],
 "metadata": {
  "kernelspec": {
   "display_name": "Python 3",
   "language": "python",
   "name": "python3"
  },
  "language_info": {
   "codemirror_mode": {
    "name": "ipython",
    "version": 3
   },
   "file_extension": ".py",
   "mimetype": "text/x-python",
   "name": "python",
   "nbconvert_exporter": "python",
   "pygments_lexer": "ipython3",
   "version": "3.12.9"
  }
 },
 "nbformat": 4,
 "nbformat_minor": 2
}
