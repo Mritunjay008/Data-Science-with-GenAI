{
 "cells": [
  {
   "cell_type": "markdown",
   "metadata": {},
   "source": [
    "## ***INETERPETER*** VS ***COMPILED*** LANGUAGE"
   ]
  },
  {
   "cell_type": "markdown",
   "metadata": {},
   "source": [
    "# **Interpreted vs Compiled Languages**\n",
    "\n",
    "## **1. Key Differences**\n",
    "\n",
    "| **Interpreted**                         | **Compiled** |\n",
    "|------------------------------------------|-------------|\n",
    "| Code is executed **line by line**.      | Source code → **Compiler** → Execution |\n",
    "| No separate compilation step is needed; code runs directly. | The source code is **first compiled** into machine code before execution. |\n",
    "| Example: **Python**                      | Examples: **C, C++, C#, Swift** |\n",
    "|                                          | **Java is both interpreted and compiled.** |\n",
    "\n",
    "## **2. How Python Works?**\n",
    "\n",
    "Python is often categorized as an **interpreted language**, but it actually uses a **mix of interpretation and compilation**.\n",
    "\n",
    "### **Execution Flow:**\n",
    "1. **Running a Python program →**  \n",
    "   The Python interpreter **first compiles** the code into **bytecode** (a lower-level, platform-independent representation of code).  \n",
    "2. **Bytecode execution →**  \n",
    "   This bytecode is then executed by the **Python Virtual Machine (PVM)**.\n",
    "\n",
    "## **3. Python Execution Steps**\n",
    "1. **Source Code (`script.py`) →** Human-readable code.\n",
    "2. **Compilation →** Python interpreter translates the source code into **bytecode** (a set of instructions that are more abstract than machine code and designed for the Python Virtual Machine).\n",
    "3. **Execution →** The **Python Virtual Machine (PVM)** executes the bytecode.\n"
   ]
  }
 ],
 "metadata": {
  "language_info": {
   "name": "python"
  }
 },
 "nbformat": 4,
 "nbformat_minor": 2
}
