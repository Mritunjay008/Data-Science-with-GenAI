{
 "cells": [
  {
   "cell_type": "markdown",
   "metadata": {},
   "source": [
    "# **OOPS**\n",
    "Object Oriented Programmig System"
   ]
  },
  {
   "cell_type": "code",
   "execution_count": 4,
   "metadata": {},
   "outputs": [
    {
     "name": "stdout",
     "output_type": "stream",
     "text": [
      "<class 'int'>\n"
     ]
    }
   ],
   "source": [
    "a = 6\n",
    "print(type(a))"
   ]
  },
  {
   "cell_type": "code",
   "execution_count": 5,
   "metadata": {},
   "outputs": [
    {
     "name": "stdout",
     "output_type": "stream",
     "text": [
      "<class 'str'>\n"
     ]
    }
   ],
   "source": [
    "s = \"Mritunjay\"\n",
    "print(type(s))"
   ]
  },
  {
   "cell_type": "code",
   "execution_count": null,
   "metadata": {},
   "outputs": [],
   "source": [
    "# class are blueprint/template for creating an object\n",
    "# Object is real world \n"
   ]
  },
  {
   "cell_type": "code",
   "execution_count": 2,
   "metadata": {},
   "outputs": [
    {
     "name": "stdout",
     "output_type": "stream",
     "text": [
      "<class '__main__.Person'>\n"
     ]
    }
   ],
   "source": [
    "# Class Person is nothing just a template\n",
    "class Person: # Naming convention >> first captial\n",
    "    pass\n",
    "\n",
    "p1 = Person() #instance/object\n",
    "print(type(p1))"
   ]
  },
  {
   "cell_type": "code",
   "execution_count": 3,
   "metadata": {},
   "outputs": [],
   "source": [
    "# Why OOPS? We already had function.\n",
    "\n",
    "#a project can have many components, say backend(f1, f2), frontend(f3, f4), data pipeline(f5, f6)\n",
    "\n",
    "# def f1():\n",
    "#     pass\n",
    "\n",
    "# def f6():\n",
    "#     pass\n",
    "\n",
    "# def f4():\n",
    "#     pass\n",
    "\n",
    "# def f2():\n",
    "#     pass\n",
    "\n",
    "# def d5():\n",
    "#     pass\n",
    "\n",
    "# def f3():\n",
    "#     pass\n",
    "\n",
    "#if a backend developer wants to work/change some backend function>> all the functions are at one place\n",
    "#oops helps you to arrange the required functions in respective classes"
   ]
  },
  {
   "cell_type": "code",
   "execution_count": 5,
   "metadata": {},
   "outputs": [],
   "source": [
    "# Function / Method of a car\n",
    "class Car:\n",
    "    def accelerate():\n",
    "        print(\"Car is accelarating\")\n"
   ]
  },
  {
   "cell_type": "code",
   "execution_count": 9,
   "metadata": {},
   "outputs": [
    {
     "ename": "TypeError",
     "evalue": "Car.accelerate() takes 0 positional arguments but 1 was given",
     "output_type": "error",
     "traceback": [
      "\u001b[1;31m---------------------------------------------------------------------------\u001b[0m",
      "\u001b[1;31mTypeError\u001b[0m                                 Traceback (most recent call last)",
      "Cell \u001b[1;32mIn[9], line 2\u001b[0m\n\u001b[0;32m      1\u001b[0m c1 \u001b[38;5;241m=\u001b[39m Car()\n\u001b[1;32m----> 2\u001b[0m c1\u001b[38;5;241m.\u001b[39maccelerate()\n",
      "\u001b[1;31mTypeError\u001b[0m: Car.accelerate() takes 0 positional arguments but 1 was given"
     ]
    }
   ],
   "source": [
    "c1 = Car()\n",
    "c1.accelerate()"
   ]
  },
  {
   "cell_type": "code",
   "execution_count": 14,
   "metadata": {},
   "outputs": [],
   "source": [
    "# The self keyword in Python represents the current instance of a class. \n",
    "# It allows access to instance attributes and methods, \n",
    "# ensuring each object can have its own data. Without self, \n",
    "# Python wouldn't know which instance's attributes to use, \n",
    "# making it essential for instance-specific behavior.\n",
    "\n",
    "class Person:\n",
    "    def arise(self):\n",
    "        print(\"This person arise at 5:00 AM\")\n",
    "        \n",
    "# self : A variable that represents instance of the class \n",
    "# using which you can access method also attribute / Property of the class.\n",
    "# self make sure hat each object knows that the method associated with it\n",
    "# in other words the method is referenced to that particular object\n"
   ]
  },
  {
   "cell_type": "code",
   "execution_count": 12,
   "metadata": {},
   "outputs": [
    {
     "name": "stdout",
     "output_type": "stream",
     "text": [
      "This person arise at 5:00 AM\n"
     ]
    }
   ],
   "source": [
    "p1 = Person()\n",
    "p1.arise()"
   ]
  },
  {
   "cell_type": "code",
   "execution_count": 21,
   "metadata": {},
   "outputs": [
    {
     "name": "stdout",
     "output_type": "stream",
     "text": [
      "Car is accelarating\n",
      "Car is stopping\n"
     ]
    }
   ],
   "source": [
    "class Car:\n",
    "    def accelerate(self):\n",
    "        print(\"Car is accelarating\")\n",
    "    def brake(self):\n",
    "        print(\"Car is stopping\")\n",
    "    \n",
    "\n",
    "c1 = Car()\n",
    "c1.accelerate()\n",
    "c1.brake()"
   ]
  },
  {
   "cell_type": "code",
   "execution_count": 24,
   "metadata": {},
   "outputs": [
    {
     "name": "stdout",
     "output_type": "stream",
     "text": [
      "I am depositing the money\n"
     ]
    }
   ],
   "source": [
    "# self is just convention we can name it anything\n",
    "# self is not apython keyword but it is best practise\n",
    "class Bank:\n",
    "    def deposit(mritunjay):\n",
    "        print(\"I am depositing the money\")\n",
    "        \n",
    "c1 = Bank()\n",
    "c1.deposit()"
   ]
  },
  {
   "cell_type": "code",
   "execution_count": 25,
   "metadata": {},
   "outputs": [],
   "source": [
    "class Bank:\n",
    "    def deposit(self):\n",
    "        print(\"I am depositing the money\")\n",
    "    def withdraw(self):\n",
    "        print(\"I am withdrawing the money\")"
   ]
  },
  {
   "cell_type": "code",
   "execution_count": 27,
   "metadata": {},
   "outputs": [
    {
     "name": "stdout",
     "output_type": "stream",
     "text": [
      "I am withdrawing the money\n"
     ]
    }
   ],
   "source": [
    "c1 = Bank()\n",
    "c1.withdraw()"
   ]
  },
  {
   "cell_type": "code",
   "execution_count": 33,
   "metadata": {},
   "outputs": [
    {
     "name": "stdout",
     "output_type": "stream",
     "text": [
      "Total amount in your bank account is 0\n",
      "I am depositing the money\n",
      "I am withdrawing 300\n",
      "Total amount in your bank account is 200\n"
     ]
    }
   ],
   "source": [
    "# Passing data in the class\n",
    "class Bank:\n",
    "    total = 0 \n",
    "    def deposit(self, amount):\n",
    "        self.total += amount\n",
    "        print(\"I am depositing the money\")\n",
    "    def withdraw(self, amount):\n",
    "        if (self.total-amount >= 0):\n",
    "            print(f\"I am withdrawing {amount}\")\n",
    "            self.total-=amount\n",
    "        else:\n",
    "            print(f\"You can not withdraw this {amount}\")\n",
    "    def check_balance(self):\n",
    "        print(f\"Total amount in your bank account is {self.total}\")\n",
    "        \n",
    "cus1 = Bank()\n",
    "cus1.check_balance()\n",
    "cus1.deposit(500)\n",
    "cus1.withdraw(300)\n",
    "cus1.check_balance()"
   ]
  },
  {
   "cell_type": "code",
   "execution_count": 35,
   "metadata": {},
   "outputs": [
    {
     "name": "stdout",
     "output_type": "stream",
     "text": [
      "200\n"
     ]
    }
   ],
   "source": [
    "# Attributes/Property can also be accessed the same way as methods/functions are being accessed\n",
    "print(cus1.total)"
   ]
  },
  {
   "cell_type": "code",
   "execution_count": 44,
   "metadata": {},
   "outputs": [
    {
     "name": "stdout",
     "output_type": "stream",
     "text": [
      "[2, 4, 8]\n",
      "[3, 1, 3, 7]\n"
     ]
    }
   ],
   "source": [
    "# Extract odd and even from a list\n",
    "class ListOps:\n",
    "\n",
    "    def extract_even(self, l1):\n",
    "        return [i for i in l1 if i % 2 == 0]\n",
    "\n",
    "    def extract_odd(self, l1):\n",
    "        return [i for i in l1 if i % 2 != 0]\n",
    "\n",
    "\n",
    "ob1 = ListOps()\n",
    "print(ob1.extract_even([1, 2, 3, 4, 8, 3]))\n",
    "print(ob1.extract_odd([3, 1, 6, 3, 4, 7]))"
   ]
  },
  {
   "cell_type": "code",
   "execution_count": 53,
   "metadata": {},
   "outputs": [
    {
     "ename": "TypeError",
     "evalue": "ListOps.__init__() missing 1 required positional argument: 'l'",
     "output_type": "error",
     "traceback": [
      "\u001b[1;31m---------------------------------------------------------------------------\u001b[0m",
      "\u001b[1;31mTypeError\u001b[0m                                 Traceback (most recent call last)",
      "Cell \u001b[1;32mIn[53], line 13\u001b[0m\n\u001b[0;32m      9\u001b[0m     \u001b[38;5;28;01mdef\u001b[39;00m \u001b[38;5;21mextract_odd\u001b[39m(\u001b[38;5;28mself\u001b[39m):\n\u001b[0;32m     10\u001b[0m         \u001b[38;5;28;01mreturn\u001b[39;00m [i \u001b[38;5;28;01mfor\u001b[39;00m i \u001b[38;5;129;01min\u001b[39;00m \u001b[38;5;28mself\u001b[39m\u001b[38;5;241m.\u001b[39ml1 \u001b[38;5;28;01mif\u001b[39;00m i \u001b[38;5;241m%\u001b[39m \u001b[38;5;241m2\u001b[39m \u001b[38;5;241m!=\u001b[39m \u001b[38;5;241m0\u001b[39m]\n\u001b[1;32m---> 13\u001b[0m ob1 \u001b[38;5;241m=\u001b[39m ListOps()\n",
      "\u001b[1;31mTypeError\u001b[0m: ListOps.__init__() missing 1 required positional argument: 'l'"
     ]
    }
   ],
   "source": [
    "# You want to take the attribute value of the class for each object diffrently\n",
    "# Extract odd and even from a list\n",
    "class ListOps:\n",
    "    def __init__(self, l): #Magic / Dunder method\n",
    "        self.l1 = l # whatever we give the name we have to access this by that name only\n",
    "    def extract_even(self):\n",
    "        return [i for i in self.l1 if i % 2 == 0]\n",
    "\n",
    "    def extract_odd(self):\n",
    "        return [i for i in self.l1 if i % 2 != 0]\n",
    "\n",
    "\n",
    "ob1 = ListOps()\n",
    "# Throw an error, while making object/instance of the class the first method that is executed __init__ \n",
    "# and __init__ needs an argument"
   ]
  },
  {
   "cell_type": "code",
   "execution_count": 54,
   "metadata": {},
   "outputs": [
    {
     "data": {
      "text/plain": [
       "[4, 6, 56]"
      ]
     },
     "execution_count": 54,
     "metadata": {},
     "output_type": "execute_result"
    }
   ],
   "source": [
    "ob1 = ListOps([1, 4, 6, 3, 9, 56, 73])\n",
    "ob1.extract_even()"
   ]
  },
  {
   "cell_type": "code",
   "execution_count": 55,
   "metadata": {},
   "outputs": [],
   "source": [
    "# Multile attributes\n",
    "\n",
    "class Book:\n",
    "    def __init__(self, name, author, year):\n",
    "        self.name_of_book = name\n",
    "        self.author_of_book = author\n",
    "        self.publishing_year_of_book = year\n",
    "    \n",
    "    def extract_details(self):\n",
    "        print(f\"Book name is {self.name_of_book}\")\n",
    "        print(f\"Book author's name is {self.author_of_book}\")\n",
    "        print(f\"Book's title is {self.publishing_year_of_book}\")"
   ]
  },
  {
   "cell_type": "code",
   "execution_count": 56,
   "metadata": {},
   "outputs": [
    {
     "name": "stdout",
     "output_type": "stream",
     "text": [
      "Book name is The Honor Of A King\n",
      "Book author's name is Mritunjay\n",
      "Book's title is 2027\n"
     ]
    }
   ],
   "source": [
    "b1 = Book(\"The Honor Of A King\", \"Mritunjay\", 2027)\n",
    "b1.extract_details()"
   ]
  },
  {
   "cell_type": "code",
   "execution_count": null,
   "metadata": {},
   "outputs": [],
   "source": []
  }
 ],
 "metadata": {
  "kernelspec": {
   "display_name": "base",
   "language": "python",
   "name": "python3"
  },
  "language_info": {
   "codemirror_mode": {
    "name": "ipython",
    "version": 3
   },
   "file_extension": ".py",
   "mimetype": "text/x-python",
   "name": "python",
   "nbconvert_exporter": "python",
   "pygments_lexer": "ipython3",
   "version": "3.12.4"
  }
 },
 "nbformat": 4,
 "nbformat_minor": 2
}
