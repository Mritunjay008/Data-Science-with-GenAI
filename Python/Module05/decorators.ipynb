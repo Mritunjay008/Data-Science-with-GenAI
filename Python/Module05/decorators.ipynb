{
 "cells": [
  {
   "cell_type": "markdown",
   "metadata": {},
   "source": [
    "# ***DECORATORS***"
   ]
  },
  {
   "cell_type": "markdown",
   "metadata": {},
   "source": [
    "*Decorators* in Python allow you to modify or extend the behavior of functions or classes without directly modifying their code\n",
    "<p>\n",
    "similar to decorating your home (putting diffrent light, sticker, posters)\n",
    "</br>\n",
    "extends/decorates the basic behaviour of room "
   ]
  },
  {
   "cell_type": "markdown",
   "metadata": {},
   "source": [
    "## Function decorator and class decorators"
   ]
  },
  {
   "cell_type": "markdown",
   "metadata": {},
   "source": [
    "use case>> Just suppose it when you want this 2 lines befor and after computation\n",
    "then each time we create a function we have to type it. It will take lot of time for this.\n",
    "</br>\n",
    "that's why the concept decorator comes into picture"
   ]
  },
  {
   "cell_type": "markdown",
   "metadata": {},
   "source": [
    "### ***Function Decorators***"
   ]
  },
  {
   "cell_type": "code",
   "execution_count": 2,
   "metadata": {},
   "outputs": [
    {
     "name": "stdout",
     "output_type": "stream",
     "text": [
      "The line before computation\n",
      "10395\n",
      "The line after computation\n"
     ]
    }
   ],
   "source": [
    "def my_decorator_func():\n",
    "    print(\"The line before computation\")\n",
    "    print(11*945) # decorating the actual operation with line above and line below \n",
    "    print(\"The line after computation\")\n",
    "\n",
    "my_decorator_func()\n"
   ]
  },
  {
   "cell_type": "markdown",
   "metadata": {},
   "source": [
    "In the above approach you have to write all the line as many times you are creating \n",
    "Let's see the ***decorator*** approach"
   ]
  },
  {
   "cell_type": "code",
   "execution_count": 11,
   "metadata": {},
   "outputs": [],
   "source": [
    "def my_decorator_func(func): #decorator function that takes another function as argument\n",
    "    def my_wrapper(): #wrapper is a nested function which adds the calling before and aftre calling func\n",
    "        print(\"The line before computation\")\n",
    "        func()\n",
    "        print(\"The line after computation\")\n",
    "    return my_wrapper"
   ]
  },
  {
   "cell_type": "code",
   "execution_count": 14,
   "metadata": {},
   "outputs": [
    {
     "name": "stdout",
     "output_type": "stream",
     "text": [
      "Hello\n"
     ]
    }
   ],
   "source": [
    "def say_Hello():\n",
    "    print(\"Hello\")\n",
    "say_Hello() #It will not call decorator function"
   ]
  },
  {
   "cell_type": "code",
   "execution_count": null,
   "metadata": {},
   "outputs": [],
   "source": [
    "@my_decorator_func # Syntax to decorate the say_hello function\n",
    "def say_Hello():\n",
    "    print(\"Hello\")"
   ]
  },
  {
   "cell_type": "markdown",
   "metadata": {},
   "source": [
    "### Step-by-Step \n",
    "1. You call say_Hello().\n",
    "2. The decorator intercepts it and runs my_wrapper().\n",
    "3. my_wrapper() prints a line before, then calls the original say_Hello() which prints \"Hello\".\n",
    "4. After say_Hello() finishes, my_wrapper() prints another line after."
   ]
  },
  {
   "cell_type": "code",
   "execution_count": 13,
   "metadata": {},
   "outputs": [
    {
     "name": "stdout",
     "output_type": "stream",
     "text": [
      "The line before computation\n",
      "Hello\n",
      "The line after computation\n"
     ]
    }
   ],
   "source": [
    "say_Hello()\n",
    "# when say_hello is called, it is actually calling the decorator function\n",
    "# which in return is calling wrapper function and \n",
    "# then wrapped function is printing the line and calling the say_hello function"
   ]
  },
  {
   "cell_type": "code",
   "execution_count": 15,
   "metadata": {},
   "outputs": [],
   "source": [
    "# Another use-case\n",
    "#Run time of a code\n",
    "\n",
    "import time\n",
    "def timer_decorator(func):\n",
    "    def timer():\n",
    "        start = time.time()\n",
    "        func()\n",
    "        end = time.time()\n",
    "        print(\"The time taken by function is :\", end-start)\n",
    "    return timer"
   ]
  },
  {
   "cell_type": "code",
   "execution_count": 20,
   "metadata": {},
   "outputs": [],
   "source": [
    "@timer_decorator\n",
    "def func_test():\n",
    "    count = 0\n",
    "    for i in range(1, 1000000):\n",
    "        count += 1"
   ]
  },
  {
   "cell_type": "code",
   "execution_count": 21,
   "metadata": {},
   "outputs": [
    {
     "name": "stdout",
     "output_type": "stream",
     "text": [
      "The time taken by function is : 0.11905479431152344\n"
     ]
    }
   ],
   "source": [
    "func_test()"
   ]
  },
  {
   "cell_type": "markdown",
   "metadata": {},
   "source": [
    "<p> why do we need decorators?</p>\n",
    "\n",
    "1. Reusability of code\n",
    "2. Enhancing the function without modifying the original function\n",
    "3. use cases >> Executation time of the code, logging, caching, validation\n"
   ]
  },
  {
   "cell_type": "markdown",
   "metadata": {},
   "source": [
    "## ***Class Decorators***"
   ]
  },
  {
   "cell_type": "code",
   "execution_count": 42,
   "metadata": {},
   "outputs": [],
   "source": [
    "class MyDecorators:\n",
    "    def __init__(self, func):\n",
    "        self.func = func # similar to function decorator you are passing func into class MyDecorator\n",
    "    def __call__(self):\n",
    "        print(\"something is happening before function\")\n",
    "        self.func()\n",
    "        print(\"something is happening after function\")"
   ]
  },
  {
   "cell_type": "markdown",
   "metadata": {},
   "source": [
    "### __Call__ is a special method which is called or invoked when you call instance/object of the class as function"
   ]
  },
  {
   "cell_type": "code",
   "execution_count": 25,
   "metadata": {},
   "outputs": [
    {
     "name": "stdout",
     "output_type": "stream",
     "text": [
      "Hello\n"
     ]
    }
   ],
   "source": [
    "def say_Hello():\n",
    "    print(\"Hello\")\n",
    "say_Hello()"
   ]
  },
  {
   "cell_type": "code",
   "execution_count": 38,
   "metadata": {},
   "outputs": [],
   "source": [
    "@MyDecorators\n",
    "def say_hello():\n",
    "    print(\"Hello Mritunjay\")"
   ]
  },
  {
   "cell_type": "code",
   "execution_count": 40,
   "metadata": {},
   "outputs": [
    {
     "name": "stdout",
     "output_type": "stream",
     "text": [
      "something is happening before function\n",
      "Hello Mritunjay\n",
      "something is happening after function\n"
     ]
    }
   ],
   "source": [
    "say_hello()"
   ]
  },
  {
   "cell_type": "code",
   "execution_count": 49,
   "metadata": {},
   "outputs": [],
   "source": [
    "class MyDecorators:\n",
    "    def __init__(self):\n",
    "        # self.func = func \n",
    "        print(\"Inside init method\")\n",
    "    def __call__(self):\n",
    "        print(\"something is happening before function\")\n",
    "        #self.func()\n",
    "        print(\"something is happening after function\")"
   ]
  },
  {
   "cell_type": "code",
   "execution_count": 50,
   "metadata": {},
   "outputs": [
    {
     "name": "stdout",
     "output_type": "stream",
     "text": [
      "Inside init method\n"
     ]
    }
   ],
   "source": [
    "obj1 = MyDecorators()"
   ]
  },
  {
   "cell_type": "code",
   "execution_count": 53,
   "metadata": {},
   "outputs": [
    {
     "name": "stdout",
     "output_type": "stream",
     "text": [
      "something is happening before function\n",
      "something is happening after function\n"
     ]
    }
   ],
   "source": [
    "obj1() #When you call an object of a class as function, the __call__ method will be invoked"
   ]
  },
  {
   "cell_type": "markdown",
   "metadata": {},
   "source": [
    "#### some inbuilt decorators \n",
    "***@classmethod*** >> It takes the class itself as a first argument."
   ]
  },
  {
   "cell_type": "code",
   "execution_count": 59,
   "metadata": {},
   "outputs": [
    {
     "data": {
      "text/plain": [
       "('Math', 5, 7)"
      ]
     },
     "execution_count": 59,
     "metadata": {},
     "output_type": "execute_result"
    }
   ],
   "source": [
    "class Math:\n",
    "    @classmethod #Takes reference to the class itself to modify and access class level attributes\n",
    "    def add(cls, x, y):\n",
    "        return cls.__name__, x, y\n",
    "\n",
    "# cls.__name__ >> class Math \n",
    "#You don't need any __init__ method to take data\n",
    "Math.add(5, 7)"
   ]
  },
  {
   "cell_type": "markdown",
   "metadata": {},
   "source": [
    "***@staticmethod*** >> The method which can be called without creating any instance of class and without using self or cls"
   ]
  },
  {
   "cell_type": "code",
   "execution_count": 60,
   "metadata": {},
   "outputs": [
    {
     "data": {
      "text/plain": [
       "15"
      ]
     },
     "execution_count": 60,
     "metadata": {},
     "output_type": "execute_result"
    }
   ],
   "source": [
    "#earlier\n",
    "class Math:\n",
    "    def add(self, x, y):\n",
    "        return x+y\n",
    "\n",
    "a = Math()\n",
    "a.add(7, 8)"
   ]
  },
  {
   "cell_type": "code",
   "execution_count": 61,
   "metadata": {},
   "outputs": [
    {
     "data": {
      "text/plain": [
       "72"
      ]
     },
     "execution_count": 61,
     "metadata": {},
     "output_type": "execute_result"
    }
   ],
   "source": [
    "#use of static method\n",
    "class Math:\n",
    "    @staticmethod\n",
    "    def add(x, y): #No need to wrte self or cls\n",
    "        return x+y\n",
    "# You don't need to make any object\n",
    "Math.add(67, 5)"
   ]
  },
  {
   "cell_type": "code",
   "execution_count": 62,
   "metadata": {},
   "outputs": [],
   "source": [
    "# Class method >> to be used when you want to modify class level data\n",
    "# Static method >> to be used when you don't want to interact with class level data"
   ]
  },
  {
   "cell_type": "markdown",
   "metadata": {},
   "source": [
    "***@property decorator*** >> It allows method to be accessed as attribute\n"
   ]
  },
  {
   "cell_type": "code",
   "execution_count": 64,
   "metadata": {},
   "outputs": [
    {
     "data": {
      "text/plain": [
       "5"
      ]
     },
     "execution_count": 64,
     "metadata": {},
     "output_type": "execute_result"
    }
   ],
   "source": [
    "class Circle:\n",
    "    def __init__(self, radius):\n",
    "        self.radius = radius\n",
    "\n",
    "obj = Circle(5)\n",
    "obj.radius #Accessing the data or attribute"
   ]
  },
  {
   "cell_type": "code",
   "execution_count": 65,
   "metadata": {},
   "outputs": [],
   "source": [
    "class Circle:\n",
    "    def __init__(self, radius):\n",
    "        self.radius = radius\n",
    "    def area(self):\n",
    "        radius = self.radius\n",
    "        return 3.14*radius*radius"
   ]
  },
  {
   "cell_type": "code",
   "execution_count": 66,
   "metadata": {},
   "outputs": [
    {
     "data": {
      "text/plain": [
       "7"
      ]
     },
     "execution_count": 66,
     "metadata": {},
     "output_type": "execute_result"
    }
   ],
   "source": [
    "obj = Circle(7)\n",
    "obj.radius"
   ]
  },
  {
   "cell_type": "code",
   "execution_count": 67,
   "metadata": {},
   "outputs": [
    {
     "data": {
      "text/plain": [
       "153.86"
      ]
     },
     "execution_count": 67,
     "metadata": {},
     "output_type": "execute_result"
    }
   ],
   "source": [
    "obj.area() #earlier"
   ]
  },
  {
   "cell_type": "code",
   "execution_count": 71,
   "metadata": {},
   "outputs": [],
   "source": [
    "#using property decorator\n",
    "class Circle:\n",
    "    def __init__(self, radius):\n",
    "        self.radius = radius\n",
    "    @property\n",
    "    def area(self):\n",
    "        radius = self.radius\n",
    "        return 3.14*radius*radius"
   ]
  },
  {
   "cell_type": "code",
   "execution_count": 70,
   "metadata": {},
   "outputs": [
    {
     "data": {
      "text/plain": [
       "153.86"
      ]
     },
     "execution_count": 70,
     "metadata": {},
     "output_type": "execute_result"
    }
   ],
   "source": [
    "obj = Circle(7)\n",
    "obj.area"
   ]
  }
 ],
 "metadata": {
  "kernelspec": {
   "display_name": "Python 3",
   "language": "python",
   "name": "python3"
  },
  "language_info": {
   "codemirror_mode": {
    "name": "ipython",
    "version": 3
   },
   "file_extension": ".py",
   "mimetype": "text/x-python",
   "name": "python",
   "nbconvert_exporter": "python",
   "pygments_lexer": "ipython3",
   "version": "3.12.8"
  }
 },
 "nbformat": 4,
 "nbformat_minor": 2
}
