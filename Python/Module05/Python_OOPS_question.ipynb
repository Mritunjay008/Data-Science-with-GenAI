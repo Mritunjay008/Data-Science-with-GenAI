{
 "cells": [
  {
   "cell_type": "markdown",
   "metadata": {},
   "source": [
    "# Python OOPs Question"
   ]
  },
  {
   "cell_type": "markdown",
   "metadata": {},
   "source": [
    "## *Theoritical Questions*"
   ]
  },
  {
   "cell_type": "markdown",
   "metadata": {},
   "source": [
    "### 1. What is Object-Oriented Programming (OOP) ?\n",
    "Object oriented programming is a way of programming in which we create program by help of objects. OOPs has 4 main pillers encapsulation, polymorphism, inheritance and abstraction."
   ]
  },
  {
   "cell_type": "markdown",
   "metadata": {},
   "source": [
    "### 2. What is a class in OOP?\n",
    "Class is a blueprint of real world object in which all the properties of the real world object is implemented."
   ]
  },
  {
   "cell_type": "markdown",
   "metadata": {},
   "source": [
    "### 3. What is an object in OOP?\n",
    "Object in OOP represent a real world object. It is an instance of class that encapsulates both data and behavior."
   ]
  },
  {
   "cell_type": "markdown",
   "metadata": {},
   "source": [
    "### 4. What is diffrence between abstraction and encapsulation?\n",
    "Abstraction is like hiding implementation details and showing only the functionality to the users. But in Encapsulation it is a concept in which data accessed is controlled like private, protected and public."
   ]
  },
  {
   "cell_type": "markdown",
   "metadata": {},
   "source": [
    "### 5. What are dunder methods in python?\n",
    "Dunder methods in python is starting with \"__\" they are usually used for operator overloading. Dunder means double underscore."
   ]
  },
  {
   "cell_type": "markdown",
   "metadata": {},
   "source": [
    "### 6. Explain the concept of inheritance in OOP?\n",
    "Inheritance in oop is a concept in which the property of parent class is inherited in child class. Inheritance in python allows code reusability and hierarchiy."
   ]
  },
  {
   "cell_type": "markdown",
   "metadata": {},
   "source": [
    "### 7. What is polymorphism in OOP?\n",
    "Polymorphism is many form of same code. Polymorphism is of 2 types first compile time and second run time In these 2 types of polymorphism there is 3 more subpart \n",
    "- Overloading\n",
    "- Overriding\n",
    "- and operator overloading "
   ]
  },
  {
   "cell_type": "markdown",
   "metadata": {},
   "source": [
    "### 8. How is encapsulation is achieved in python?\n",
    "Encapsulation in python is achieved by help of access controls like private, public and protected in which private is achieved by \"__roll\", protected is achieved by \"_roll\" and public is normal keyword like roll."
   ]
  },
  {
   "cell_type": "markdown",
   "metadata": {},
   "source": [
    "### 9. What is constructor in Python?\n",
    "Constructor in python is a \"__init__\" method in which it is automatically called at the time of object creation. We can take help of init method to instantiate property of that object."
   ]
  },
  {
   "cell_type": "markdown",
   "metadata": {},
   "source": [
    "### 10. What are class and static method in python?\n",
    "Class and static method is basically bound to the class not to the object of the class But it has some basic diffrence like class method takes cls as first argument but static method does not take any specific argument. "
   ]
  },
  {
   "cell_type": "markdown",
   "metadata": {},
   "source": [
    "### 11. What is method overloading in Python?\n",
    "Method overloading in python is not supported but it is a concept in which we define same method with diffrent parameters and when we call that method with as much parameter given it will call that method in which same number of parameter is given it is basically runtime polymorphism."
   ]
  },
  {
   "cell_type": "markdown",
   "metadata": {},
   "source": [
    "### 12. What is method overriding in OOp?\n",
    "Method overriding is a concept in which python allows a child class to take parent class method but implementation details should be diffrent.\n",
    "This is method overriding."
   ]
  },
  {
   "cell_type": "markdown",
   "metadata": {},
   "source": [
    "### 13. What is property decorator in python?\n",
    "Propert decorator in python is a concept by which we can call a method by name only like s.radius but if on radius method @property decorator is not applied then we have to call it by s.radius() so it help us to call method like an attribute."
   ]
  },
  {
   "cell_type": "markdown",
   "metadata": {},
   "source": [
    "### 14. Why is polymorphism important in OOP?\n",
    "Polymorphism is one of the core concept of OOP it allows a single method or operator to have multiple forms. It helps in writing flexible and reusable code by enabling method overriding and method overloading."
   ]
  },
  {
   "cell_type": "markdown",
   "metadata": {},
   "source": [
    "### 15. What is an abstract class in python?\n",
    "An abstract class in Python is a class that cannot be instantiated and serves as a blueprint for other classes. It contains abstract methods, which must be implemented in derived classes. Abstract classes are defined using the ABC module and @abstractmethod decorator."
   ]
  },
  {
   "cell_type": "markdown",
   "metadata": {},
   "source": [
    "### 16. What are advantages of OOP?\n",
    "We can list advantages of oops\n",
    "- Modularity >> It allows developers to break down complex codes into mutiple parts.\n",
    "- Reusability\n",
    "- Security >> It is achieved by access controls => private, public, protected\n",
    "- Flexibility\n",
    "- and many more like maintenance and design."
   ]
  },
  {
   "cell_type": "markdown",
   "metadata": {},
   "source": [
    "### 17. What is diffrence between class varibale and instance variable?\n",
    "- class variable can be accessed by class name it'll not need any object to call these varibale.\n",
    "- in Instance variable we have to create an object first then we can call these variables."
   ]
  },
  {
   "cell_type": "markdown",
   "metadata": {},
   "source": [
    "### 18. What is multiple inheritance in python?\n",
    "In multiple inheritance the child class will inherit it's property from 2 classes. \"class Student(A, B): \" like this. It allows child class to use both parent class methods and property."
   ]
  },
  {
   "cell_type": "markdown",
   "metadata": {},
   "source": [
    "### 19. Explain the purpose of \"__ str __\" and \"__ repr __\" methods in python?\n",
    "- __ str __ is used to create a string representation of an object that is readable and user friendly.\n",
    "- __ repr __ is used for printable representation of an object."
   ]
  },
  {
   "cell_type": "markdown",
   "metadata": {},
   "source": [
    "### 20. What is significance of 'super()' function in python?\n",
    "super() function in python represent it's parent class by this super() we call methods of parent class."
   ]
  },
  {
   "cell_type": "markdown",
   "metadata": {},
   "source": [
    "### 21. What is significance of __ del __ method in python?\n",
    "This __ del __ method is used for deletion of property or attribute of an object. It will completely remove the data from the instance."
   ]
  },
  {
   "cell_type": "markdown",
   "metadata": {},
   "source": [
    "### 22. What is diffrence between @staticmethod and @classmethod in python?\n",
    "Both are decorator in python. In classmethod decorator the class level variable is accessed and in staticmethod it is doing same thing but in classmethod the cls will be first argument but no parameter is fixed in the case of staticmethod decorator."
   ]
  },
  {
   "cell_type": "markdown",
   "metadata": {},
   "source": [
    "### 23. How does polymorphism work in python with inheritance?\n",
    "Polymorphism in python with help of inheritance allows objects of diffrent classes to be treated as objects of a common parent class. It enables method overiding in which child class access parent class method and override them."
   ]
  },
  {
   "cell_type": "markdown",
   "metadata": {},
   "source": [
    "### 24. What is method chaining in python OOP?\n",
    "Method chaining in python is a technique where multiple methods are called on the same object in a single line of code. \n",
    ">calc.add(5).subtract(2).multiply(3).result()"
   ]
  },
  {
   "cell_type": "markdown",
   "metadata": {},
   "source": [
    "### 25. What is the purpose of the __ call __ method in python\n",
    "The __ call __ method in python allows an object to be called like a function. It is an instance of a class callable, which means that you can use parenthesis() with an object to invoke this method.\n",
    "\n"
   ]
  },
  {
   "cell_type": "markdown",
   "metadata": {},
   "source": [
    "## *Practical Questions*"
   ]
  },
  {
   "cell_type": "markdown",
   "metadata": {},
   "source": [
    "#### 1. Create a parent class Animal with a method speak() that prints a generic message. Create a child class Dog that overrides the speak() method to print \"Bark!\"."
   ]
  },
  {
   "cell_type": "code",
   "execution_count": 3,
   "metadata": {},
   "outputs": [
    {
     "name": "stdout",
     "output_type": "stream",
     "text": [
      "Animal sounds\n",
      "Bark!\n"
     ]
    }
   ],
   "source": [
    "class Animal:\n",
    "    def speak(self):\n",
    "        print(\"Animal sounds\")\n",
    "class Dog(Animal):\n",
    "    def speak(self):\n",
    "        print(\"Bark!\")\n",
    "a = Animal()\n",
    "a.speak()\n",
    "b = Dog()\n",
    "b.speak()"
   ]
  },
  {
   "cell_type": "markdown",
   "metadata": {},
   "source": [
    "#### 2. Write a program to create an abstract class Shape with a method area(). Derive classes Circle and Rectangle from it and implement the area() method in both."
   ]
  },
  {
   "cell_type": "code",
   "execution_count": 4,
   "metadata": {},
   "outputs": [
    {
     "name": "stdout",
     "output_type": "stream",
     "text": [
      "Area of Circle: 78.50\n",
      "Area of Rectangle: 24\n"
     ]
    }
   ],
   "source": [
    "from abc import ABC, abstractmethod\n",
    "\n",
    "class Shape:\n",
    "    @abstractmethod\n",
    "    def area(self):\n",
    "        pass\n",
    "class Circle(Shape):\n",
    "    def __init__(self, radius):\n",
    "        self.radius = radius\n",
    "    def area(self):\n",
    "        return 3.14 * (self.radius**2)\n",
    "\n",
    "class Rectangle(Shape):\n",
    "    def __init__(self, length, breadth):\n",
    "        self.length = length\n",
    "        self.breadth = breadth\n",
    "    def area(self):\n",
    "        return self.length* self.breadth\n",
    "        \n",
    "\n",
    "circle = Circle(5)\n",
    "rectangle = Rectangle(4, 6)\n",
    "\n",
    "# Displaying areas\n",
    "print(f\"Area of Circle: {circle.area():.2f}\")\n",
    "print(f\"Area of Rectangle: {rectangle.area()}\")"
   ]
  },
  {
   "cell_type": "markdown",
   "metadata": {},
   "source": [
    "#### 3. Implement a multi-level inheritance scenario where a class Vehicle has an attribute type. Derive a class Car and further derive a class ElectricCar that adds a battery attribute."
   ]
  },
  {
   "cell_type": "code",
   "execution_count": 5,
   "metadata": {},
   "outputs": [
    {
     "name": "stdout",
     "output_type": "stream",
     "text": [
      "This is specially designed elecric car\n",
      "It has a 4 seats\n",
      "It has a 4 tyres\n"
     ]
    }
   ],
   "source": [
    "class Vehicle:\n",
    "    def seats(self):\n",
    "        print(\"It has a 4 seats\")\n",
    "    def type(self):\n",
    "        print(\"This is a vehicle\")\n",
    "class Car(Vehicle):\n",
    "    def type(self):\n",
    "        print(\"This is a car\")\n",
    "    def tyres(self):\n",
    "        print(\"It has a 4 tyres\")\n",
    "class ElectricCar(Car):\n",
    "    def type(self):\n",
    "        print(\"This is specially designed elecric car\")\n",
    "\n",
    "ec = ElectricCar()\n",
    "ec.type()\n",
    "ec.seats()\n",
    "ec.tyres()"
   ]
  },
  {
   "cell_type": "markdown",
   "metadata": {},
   "source": [
    "#### 4. Demonstrate polymorphism by creating a base class Bird with a method fly(). Create two derived classes Sparrow and Penguin that override the fly() method."
   ]
  },
  {
   "cell_type": "code",
   "execution_count": 7,
   "metadata": {},
   "outputs": [
    {
     "name": "stdout",
     "output_type": "stream",
     "text": [
      "Birds can fly\n",
      "Sparrow can fly too\n",
      "Penguin can not fly\n"
     ]
    }
   ],
   "source": [
    "class Bird:\n",
    "    def fly(self):\n",
    "        print(\"Birds can fly\")\n",
    "\n",
    "class Sparrow(Bird):\n",
    "    def fly(self):\n",
    "        print(\"Sparrow can fly too\")\n",
    "class Penguin(Bird):\n",
    "    def fly(self):\n",
    "        print(\"Penguin can not fly\")\n",
    "b = Bird()\n",
    "b.fly()\n",
    "\n",
    "s = Sparrow()\n",
    "s.fly()\n",
    "\n",
    "p = Penguin()\n",
    "p.fly()"
   ]
  },
  {
   "cell_type": "markdown",
   "metadata": {},
   "source": [
    "#### 5. Write a program to demonstrate encapsulation by creating a class BankAccount with private attributes balance and methods to deposit, withdraw, and check balance."
   ]
  },
  {
   "cell_type": "code",
   "execution_count": 9,
   "metadata": {},
   "outputs": [
    {
     "name": "stdout",
     "output_type": "stream",
     "text": [
      "4670\n"
     ]
    }
   ],
   "source": [
    "class BankAccount:\n",
    "    def __init__(self, balance):\n",
    "        self.__balance = balance\n",
    "    def checkBalance(self):\n",
    "        return self.__balance\n",
    "    def deposit(self, amount):\n",
    "        self.__balance += amount\n",
    "    def withdraw(self, amount):\n",
    "        if(self.__balance - amount > 0):\n",
    "            self.__balance -= amount\n",
    "        else:\n",
    "            raise ValueError(\"Account balance can not be negative\")\n",
    "\n",
    "aman = BankAccount(5000)\n",
    "aman.deposit(345)\n",
    "aman.withdraw(675)\n",
    "print(aman.checkBalance())"
   ]
  },
  {
   "cell_type": "markdown",
   "metadata": {},
   "source": [
    "#### 6. Demonstrate runtime polymorphism using a method play() in a base class Instrument. Derive classes Guitar and Piano that implement their own version of play()."
   ]
  },
  {
   "cell_type": "code",
   "execution_count": 11,
   "metadata": {},
   "outputs": [
    {
     "name": "stdout",
     "output_type": "stream",
     "text": [
      "Playing Piano\n"
     ]
    }
   ],
   "source": [
    "class Instrument:\n",
    "    def play(self):\n",
    "        print(\"Playing Instrument\")\n",
    "\n",
    "class Guitar(Instrument):\n",
    "    def play(self):\n",
    "        print(\"Playing Guitar\")\n",
    "        \n",
    "class Piano(Instrument):\n",
    "    def play(self):\n",
    "        print(\"Playing Piano\")\n",
    "\n",
    "p = Piano()\n",
    "p.play()"
   ]
  },
  {
   "cell_type": "code",
   "execution_count": 12,
   "metadata": {},
   "outputs": [
    {
     "name": "stdout",
     "output_type": "stream",
     "text": [
      "Playing Guitar\n"
     ]
    }
   ],
   "source": [
    "g = Guitar()\n",
    "g.play()"
   ]
  },
  {
   "cell_type": "markdown",
   "metadata": {},
   "source": [
    "#### 7. Create a class MathOperations with a class method add_numbers() to add two numbers and a static method subtract_numbers() to subtract two numbers."
   ]
  },
  {
   "cell_type": "code",
   "execution_count": 14,
   "metadata": {},
   "outputs": [
    {
     "name": "stdout",
     "output_type": "stream",
     "text": [
      "8\n",
      "2\n"
     ]
    }
   ],
   "source": [
    "class MathOperations:\n",
    "    @classmethod\n",
    "    def add_numbers(cls, x, y):\n",
    "        print(x+y)\n",
    "    @staticmethod\n",
    "    def subtract_numbers(x, y):\n",
    "        print(x-y)\n",
    "MathOperations.add_numbers(5, 3)\n",
    "MathOperations.subtract_numbers(5, 3)"
   ]
  },
  {
   "cell_type": "markdown",
   "metadata": {},
   "source": [
    "#### 8. Implement a class Person with a class method to count the total number of persons created."
   ]
  },
  {
   "cell_type": "code",
   "execution_count": 22,
   "metadata": {},
   "outputs": [
    {
     "data": {
      "text/plain": [
       "4"
      ]
     },
     "execution_count": 22,
     "metadata": {},
     "output_type": "execute_result"
    }
   ],
   "source": [
    "class Person:\n",
    "    count = 0\n",
    "    def __init__(self):\n",
    "        Person.count += 1\n",
    "    @classmethod\n",
    "    def total_persons(cls):\n",
    "        return cls.count\n",
    "p1 = Person()\n",
    "p1 = Person()\n",
    "p1 = Person()\n",
    "p1 = Person()\n",
    "p1.count"
   ]
  },
  {
   "cell_type": "markdown",
   "metadata": {},
   "source": [
    "#### 9. Write a class Fraction with attributes numerator and denominator. Override the str method to display the fraction as \"numerator/denominator\"."
   ]
  },
  {
   "cell_type": "code",
   "execution_count": 2,
   "metadata": {},
   "outputs": [
    {
     "name": "stdout",
     "output_type": "stream",
     "text": [
      "6/7\n"
     ]
    }
   ],
   "source": [
    "class Fraction:\n",
    "    def __init__(self, numerator, denominator):\n",
    "        self.numerator = numerator\n",
    "        self.denominator = denominator\n",
    "    def __str__(self):\n",
    "        return f\"{self.numerator}/{self.denominator}\"\n",
    "\n",
    "f = Fraction(6, 7)\n",
    "print(f)"
   ]
  },
  {
   "cell_type": "markdown",
   "metadata": {},
   "source": [
    "#### 10. Demonstrate operator overloading by creating a class Vector and overriding the add method to add two vectors"
   ]
  },
  {
   "cell_type": "code",
   "execution_count": 4,
   "metadata": {},
   "outputs": [
    {
     "name": "stdout",
     "output_type": "stream",
     "text": [
      "(10, 13)\n"
     ]
    }
   ],
   "source": [
    "class Vector:\n",
    "    def __init__(self, x, y):\n",
    "        self.x = x\n",
    "        self.y = y\n",
    "\n",
    "    def __add__(self, other):\n",
    "        return Vector(self.x + other.x, self.y + other.y)\n",
    "\n",
    "    def __str__(self):\n",
    "        return f\"({self.x}, {self.y})\"\n",
    "\n",
    "v1 = Vector(6, 7)\n",
    "v2 = Vector(4, 6)\n",
    "\n",
    "v3 = v1+v2\n",
    "print(v3)"
   ]
  },
  {
   "cell_type": "markdown",
   "metadata": {},
   "source": [
    "#### 11. Create a class Person with attributes name and age. Add a method greet() that prints \"Hello, my name is {name} and I am {age} years old.\""
   ]
  },
  {
   "cell_type": "code",
   "execution_count": 6,
   "metadata": {},
   "outputs": [
    {
     "name": "stdout",
     "output_type": "stream",
     "text": [
      "Hello, My name is Mritunjay and I am of 22 years old.\n"
     ]
    }
   ],
   "source": [
    "class Person:\n",
    "    def __init__(self, name, age):\n",
    "        self.name = name\n",
    "        self.age = age\n",
    "    def greet(self):\n",
    "        print(f\"Hello, My name is {self.name} and I am of {self.age} years old.\")\n",
    "\n",
    "p1 = Person(\"Mritunjay\", 22)\n",
    "p1.greet()"
   ]
  },
  {
   "cell_type": "markdown",
   "metadata": {},
   "source": [
    "#### 12. Implement a class Student with attributes name and grades. Create a method average_grade() to compute the average of the grades."
   ]
  },
  {
   "cell_type": "code",
   "execution_count": 8,
   "metadata": {},
   "outputs": [
    {
     "name": "stdout",
     "output_type": "stream",
     "text": [
      "Average grade of Mritunjay is 75.4\n"
     ]
    }
   ],
   "source": [
    "class Student:\n",
    "    def __init__(self, name, grades):\n",
    "        self.name = name\n",
    "        self.grades = grades\n",
    "    def average_grade(self):\n",
    "        n = len(self.grades)\n",
    "        total = 0\n",
    "        for i in self.grades:\n",
    "            total += i\n",
    "        print(f\"Average grade of {self.name} is {total/n}\")\n",
    "\n",
    "stud = Student(\"Mritunjay\", [67, 78, 56, 98, 78])\n",
    "stud.average_grade()"
   ]
  },
  {
   "cell_type": "markdown",
   "metadata": {},
   "source": [
    "#### 13. Create a class Rectangle with methods set_dimensions() to set the dimensions and area() to calculate the area."
   ]
  },
  {
   "cell_type": "code",
   "execution_count": 10,
   "metadata": {},
   "outputs": [
    {
     "name": "stdout",
     "output_type": "stream",
     "text": [
      "Area of rectange is 28\n"
     ]
    }
   ],
   "source": [
    "class Rectangle:\n",
    "    def set_dimension(self, length, width):\n",
    "        self.__length = length\n",
    "        self.__width = width\n",
    "    def area(self):\n",
    "        print(f\"Area of rectange is {self.__length * self.__width}\")\n",
    "\n",
    "r1 = Rectangle()\n",
    "r1.set_dimension(4, 7)\n",
    "r1.area()"
   ]
  },
  {
   "cell_type": "markdown",
   "metadata": {},
   "source": [
    "#### 14. Create a class Employee with a method calculate_salary() that computes the salary based on hours worked and hourly rate. Create a derived class Manager that adds a bonus to the salary."
   ]
  },
  {
   "cell_type": "code",
   "execution_count": 11,
   "metadata": {},
   "outputs": [
    {
     "name": "stdout",
     "output_type": "stream",
     "text": [
      "Total salary of this employee is 18400\n"
     ]
    }
   ],
   "source": [
    "class Employee:\n",
    "    def __init__(self, hour, rate):\n",
    "        self.hour = hour\n",
    "        self.rate = rate\n",
    "    def calculate_salary(self):\n",
    "        print(f\"Total salary of this employee is {self.rate * self.hour}\")\n",
    "\n",
    "e1 = Employee(8, 2300)\n",
    "e1.calculate_salary()"
   ]
  },
  {
   "cell_type": "markdown",
   "metadata": {},
   "source": [
    "#### 15. Create a class Product with attributes name, price, and quantity. Implement a method total_price() that calculates the total price of the product"
   ]
  },
  {
   "cell_type": "code",
   "execution_count": 12,
   "metadata": {},
   "outputs": [
    {
     "name": "stdout",
     "output_type": "stream",
     "text": [
      "Total price of Oreo is 280\n"
     ]
    }
   ],
   "source": [
    "class Product:\n",
    "    def __init__(self, name, price, quantity):\n",
    "        self.name = name\n",
    "        self.price = price\n",
    "        self.quantity = quantity\n",
    "    def total_price(self):\n",
    "        print(f\"Total price of {self.name} is {self.quantity * self.price}\")\n",
    "p1 = Product(\"Oreo\", 5, 56)\n",
    "p1.total_price()"
   ]
  },
  {
   "cell_type": "markdown",
   "metadata": {},
   "source": [
    "#### 16. Create a class Animal with an abstract method sound(). Create two derived classes Cow and Sheep that implement the sound() method."
   ]
  },
  {
   "cell_type": "code",
   "execution_count": 14,
   "metadata": {},
   "outputs": [
    {
     "name": "stdout",
     "output_type": "stream",
     "text": [
      "Mauuuuuuuu\n",
      "baa\n"
     ]
    }
   ],
   "source": [
    "from abc import ABC, abstractmethod \n",
    "class Animal(ABC):\n",
    "    @abstractmethod\n",
    "    def sound(self):\n",
    "        pass\n",
    "\n",
    "class Cow(Animal):\n",
    "    def sound(self):\n",
    "        print(\"Mauuuuuuuu\")\n",
    "class Sheep(Animal):\n",
    "    def sound(self):\n",
    "        print(\"baa\")\n",
    "\n",
    "\n",
    "cow = Cow()\n",
    "cow.sound()\n",
    "\n",
    "sheep = Sheep()\n",
    "sheep.sound()"
   ]
  },
  {
   "cell_type": "markdown",
   "metadata": {},
   "source": [
    "#### 17. Create a class Book with attributes title, author, and year_published. Add a method get_book_info() that returns a formatted string with the book's details."
   ]
  },
  {
   "cell_type": "code",
   "execution_count": 15,
   "metadata": {},
   "outputs": [
    {
     "name": "stdout",
     "output_type": "stream",
     "text": [
      "The Atomic Habit book is written by James Clear and it is published in 1989\n"
     ]
    }
   ],
   "source": [
    "class Book:\n",
    "    def __init__(self, title, author, year_published):\n",
    "        self.title = title\n",
    "        self.author = author\n",
    "        self.year_published = year_published\n",
    "    def get_book_info(self):\n",
    "        print(f\"{self.title} book is written by {self.author} and it is published in {self.year_published}\")\n",
    "\n",
    "b1 = Book(\"The Atomic Habit\", \"James Clear\", 1989)\n",
    "b1.get_book_info()"
   ]
  },
  {
   "cell_type": "markdown",
   "metadata": {},
   "source": [
    "#### 18. Create a class House with attributes address and price. Create a derived class Mansion that adds an attribute number_of_rooms."
   ]
  },
  {
   "cell_type": "code",
   "execution_count": 16,
   "metadata": {},
   "outputs": [
    {
     "data": {
      "text/plain": [
       "14"
      ]
     },
     "execution_count": 16,
     "metadata": {},
     "output_type": "execute_result"
    }
   ],
   "source": [
    "class House:\n",
    "    def __init__(self, address, price):\n",
    "        self.address = address\n",
    "        self.price = price\n",
    "    \n",
    "class Mansion(House):\n",
    "    def __init__(self, address, price, number_of_rooms):\n",
    "        super().__init__(address, price)\n",
    "        self.number_of_rooms = number_of_rooms\n",
    "\n",
    "m1 = Mansion(\"Darbhanga\", \"23cr\", 14)\n",
    "m1.number_of_rooms"
   ]
  }
 ],
 "metadata": {
  "kernelspec": {
   "display_name": "Python 3",
   "language": "python",
   "name": "python3"
  },
  "language_info": {
   "codemirror_mode": {
    "name": "ipython",
    "version": 3
   },
   "file_extension": ".py",
   "mimetype": "text/x-python",
   "name": "python",
   "nbconvert_exporter": "python",
   "pygments_lexer": "ipython3",
   "version": "3.12.9"
  }
 },
 "nbformat": 4,
 "nbformat_minor": 2
}
