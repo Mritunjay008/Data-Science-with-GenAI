{
 "cells": [
  {
   "cell_type": "markdown",
   "metadata": {},
   "source": [
    "# *Inheritance* & *Abstraction*"
   ]
  },
  {
   "cell_type": "markdown",
   "metadata": {},
   "source": [
    "### INHERITANCE"
   ]
  },
  {
   "cell_type": "code",
   "execution_count": 1,
   "metadata": {},
   "outputs": [],
   "source": [
    "# Inheritance : It refers to the process of\n",
    "# child receiving the properties of parent class"
   ]
  },
  {
   "cell_type": "markdown",
   "metadata": {},
   "source": [
    "**Syntax of inheritance**"
   ]
  },
  {
   "cell_type": "code",
   "execution_count": 3,
   "metadata": {},
   "outputs": [],
   "source": [
    "class BaseClass:\n",
    "    pass\n",
    "\n",
    "\n",
    "class DerivedClass(BaseClass):\n",
    "    pass"
   ]
  },
  {
   "cell_type": "markdown",
   "metadata": {},
   "source": [
    "**Single level Inheritance**"
   ]
  },
  {
   "cell_type": "code",
   "execution_count": 10,
   "metadata": {},
   "outputs": [],
   "source": [
    "# Single Inheritance >> When a derived class has only one parent class\n",
    "class Father:\n",
    "    def father_property(self):\n",
    "        print(\"This is father's property\")"
   ]
  },
  {
   "cell_type": "code",
   "execution_count": 12,
   "metadata": {},
   "outputs": [],
   "source": [
    "class Son(Father):\n",
    "    def job(self):\n",
    "        print(\"Son has property from job\")"
   ]
  },
  {
   "cell_type": "code",
   "execution_count": 15,
   "metadata": {},
   "outputs": [
    {
     "name": "stdout",
     "output_type": "stream",
     "text": [
      "This is father's property\n",
      "Son has property from job\n"
     ]
    }
   ],
   "source": [
    "# Child object has father's as well as son's property\n",
    "\n",
    "child_object = Son()\n",
    "child_object.father_property()\n",
    "child_object.job()"
   ]
  },
  {
   "cell_type": "code",
   "execution_count": 17,
   "metadata": {},
   "outputs": [
    {
     "name": "stdout",
     "output_type": "stream",
     "text": [
      "This is father's property\n"
     ]
    }
   ],
   "source": [
    "# But a Father has only his property\n",
    "father_object = Father()\n",
    "father_object.father_property()"
   ]
  },
  {
   "cell_type": "code",
   "execution_count": 18,
   "metadata": {},
   "outputs": [
    {
     "ename": "AttributeError",
     "evalue": "'Father' object has no attribute 'job'",
     "output_type": "error",
     "traceback": [
      "\u001b[1;31m---------------------------------------------------------------------------\u001b[0m",
      "\u001b[1;31mAttributeError\u001b[0m                            Traceback (most recent call last)",
      "Cell \u001b[1;32mIn[18], line 1\u001b[0m\n\u001b[1;32m----> 1\u001b[0m father_object\u001b[38;5;241m.\u001b[39mjob()\n",
      "\u001b[1;31mAttributeError\u001b[0m: 'Father' object has no attribute 'job'"
     ]
    }
   ],
   "source": [
    "father_object.job()"
   ]
  },
  {
   "cell_type": "code",
   "execution_count": 19,
   "metadata": {},
   "outputs": [],
   "source": [
    "# Parent class does not has any access of child'd method or attribute"
   ]
  },
  {
   "cell_type": "code",
   "execution_count": 21,
   "metadata": {},
   "outputs": [],
   "source": [
    "class Fruit:\n",
    "    def fruit_info(self):\n",
    "        print(\"Inside fruit class\")\n",
    "\n",
    "\n",
    "class Apple(Fruit):\n",
    "    def apple_info(self):\n",
    "        print(\"Inside fruit's subclass apple\")"
   ]
  },
  {
   "cell_type": "code",
   "execution_count": 22,
   "metadata": {},
   "outputs": [
    {
     "name": "stdout",
     "output_type": "stream",
     "text": [
      "Inside fruit's subclass apple\n",
      "Inside fruit class\n"
     ]
    }
   ],
   "source": [
    "obj = Apple()\n",
    "obj.apple_info()\n",
    "obj.fruit_info()"
   ]
  },
  {
   "cell_type": "markdown",
   "metadata": {},
   "source": [
    "***Method Overriding*** >> Rewriting/Redefining methods of parent class in derived/child class"
   ]
  },
  {
   "cell_type": "code",
   "execution_count": 26,
   "metadata": {},
   "outputs": [
    {
     "name": "stdout",
     "output_type": "stream",
     "text": [
      "This fruit is apple\n"
     ]
    }
   ],
   "source": [
    "class Fruit:\n",
    "    def fruit_info(self):\n",
    "        print(\"Inside fruit class\")\n",
    "\n",
    "\n",
    "class Apple(Fruit):\n",
    "    def fruit_info(self):\n",
    "        print(\"This fruit is apple\")\n",
    "\n",
    "\n",
    "fruit1 = Apple()\n",
    "fruit1.fruit_info()\n",
    "\n",
    "# Child class is powerful and it can change the father's property too."
   ]
  },
  {
   "cell_type": "markdown",
   "metadata": {},
   "source": [
    "**Multi-level Inheritance**"
   ]
  },
  {
   "cell_type": "code",
   "execution_count": 3,
   "metadata": {},
   "outputs": [
    {
     "name": "stdout",
     "output_type": "stream",
     "text": [
      "Property of grand father\n",
      "Property of father\n",
      "Property from job\n"
     ]
    }
   ],
   "source": [
    "# Multi-level inheritance >> a class is derived from another class,\n",
    "# which is derived from another class, and so on\n",
    "\n",
    "\n",
    "class Grandfther:\n",
    "    def prop_grand_father(self):\n",
    "        print(\"Property of grand father\")\n",
    "\n",
    "\n",
    "class Father(Grandfther):\n",
    "    def prop_father(self):\n",
    "        print(\"Property of father\")\n",
    "\n",
    "\n",
    "class Son(Father):\n",
    "    def job(self):\n",
    "        print(\"Property from job\")\n",
    "\n",
    "\n",
    "s = Son()\n",
    "s.prop_grand_father()\n",
    "s.prop_father()\n",
    "s.job()"
   ]
  },
  {
   "cell_type": "code",
   "execution_count": 5,
   "metadata": {},
   "outputs": [
    {
     "name": "stdout",
     "output_type": "stream",
     "text": [
      "Property of grand father\n",
      "Property of father\n"
     ]
    }
   ],
   "source": [
    "f = Father()\n",
    "f.prop_grand_father()\n",
    "f.prop_father()"
   ]
  },
  {
   "cell_type": "code",
   "execution_count": 6,
   "metadata": {},
   "outputs": [
    {
     "name": "stdout",
     "output_type": "stream",
     "text": [
      "Property of grand father\n"
     ]
    }
   ],
   "source": [
    "grandf = Grandfther()\n",
    "grandf.prop_grand_father()"
   ]
  },
  {
   "cell_type": "code",
   "execution_count": 8,
   "metadata": {},
   "outputs": [],
   "source": [
    "# use-case\n",
    "class Vehicle:\n",
    "    def vehicle_info(self):\n",
    "        print(\"This is simple vehicle\")\n",
    "\n",
    "class Car(Vehicle):\n",
    "    def car_info(self):\n",
    "        print(\"This is a car\")\n",
    "\n",
    "class SportsCar(Car):\n",
    "    def sports_car_info(self):\n",
    "        print(\"This is Bently\")"
   ]
  },
  {
   "cell_type": "code",
   "execution_count": 9,
   "metadata": {},
   "outputs": [
    {
     "name": "stdout",
     "output_type": "stream",
     "text": [
      "This is simple vehicle\n",
      "This is a car\n",
      "This is Bently\n"
     ]
    }
   ],
   "source": [
    "s1 = SportsCar()\n",
    "s1.vehicle_info()\n",
    "s1.car_info()\n",
    "s1.sports_car_info()"
   ]
  },
  {
   "cell_type": "code",
   "execution_count": 10,
   "metadata": {},
   "outputs": [
    {
     "name": "stdout",
     "output_type": "stream",
     "text": [
      "This is Bently\n"
     ]
    }
   ],
   "source": [
    "# use-case\n",
    "class Vehicle:\n",
    "    def vehicle_info(self):\n",
    "        print(\"This is simple vehicle\")\n",
    "\n",
    "class Car(Vehicle):\n",
    "    def vehicle_info(self):\n",
    "        print(\"This is a car\")\n",
    "\n",
    "class SportsCar(Car):\n",
    "    def vehicle_info(self):\n",
    "        print(\"This is Bently\")\n",
    "\n",
    "s1 = SportsCar()\n",
    "s1.vehicle_info()"
   ]
  },
  {
   "cell_type": "markdown",
   "metadata": {},
   "source": [
    "**Multiple Inheritance** >> A derived class inherits from multiple base classes "
   ]
  },
  {
   "cell_type": "code",
   "execution_count": 11,
   "metadata": {},
   "outputs": [],
   "source": [
    "class Mother:\n",
    "    def mother_prop(self):\n",
    "        print(\"This is mother's property\")\n",
    "        \n",
    "class Father:\n",
    "    def father_prop(self):\n",
    "        print(\"This is father's property\")\n",
    "\n",
    "class Son(Mother, Father):\n",
    "    def son_prop(self):\n",
    "        print(\"This is son's property\")\n"
   ]
  },
  {
   "cell_type": "code",
   "execution_count": 12,
   "metadata": {},
   "outputs": [
    {
     "name": "stdout",
     "output_type": "stream",
     "text": [
      "This is father's property\n",
      "This is mother's property\n",
      "This is son's property\n"
     ]
    }
   ],
   "source": [
    "s = Son()\n",
    "s.father_prop()\n",
    "s.mother_prop()\n",
    "s.son_prop()"
   ]
  },
  {
   "cell_type": "markdown",
   "metadata": {},
   "source": [
    "**Dimond problem** in inheritence\n",
    "</br>\n",
    "when both parent's method name is same then the problem is which method will be executed"
   ]
  },
  {
   "cell_type": "markdown",
   "metadata": {},
   "source": [
    "To remove dimond problem python uses Method resolution order(MRO) algorithm call c3 linearization \n",
    "\n",
    "</br>\n",
    "Meaning that class that is inherited first in derived class that method will take place"
   ]
  },
  {
   "cell_type": "code",
   "execution_count": 3,
   "metadata": {},
   "outputs": [
    {
     "name": "stdout",
     "output_type": "stream",
     "text": [
      "printing from Parent class 1\n"
     ]
    }
   ],
   "source": [
    "\n",
    "\n",
    "class parentClass1:\n",
    "    def method_par(self):\n",
    "        print(\"printing from Parent class 1\")\n",
    "class parentClass2:\n",
    "    def method_par(self):\n",
    "        print(\"printing from Parent class 2\")\n",
    "class childClass(parentClass1, parentClass2):\n",
    "    def method(self):\n",
    "        print(\"printion from child class\")\n",
    "        \n",
    "c2 = childClass()\n",
    "c2.method_par()"
   ]
  },
  {
   "cell_type": "code",
   "execution_count": 4,
   "metadata": {},
   "outputs": [
    {
     "name": "stdout",
     "output_type": "stream",
     "text": [
      "Mrthod from class C\n"
     ]
    }
   ],
   "source": [
    "class A:\n",
    "    def method(self):\n",
    "        print(\"Mrthod from class A\")\n",
    "class B(A):\n",
    "    def method(self):\n",
    "        print(\"Mrthod from class B\")\n",
    "class C(A):\n",
    "    def method(self):\n",
    "        print(\"Mrthod from class C\")\n",
    "class D(C, B):\n",
    "    pass\n",
    "\n",
    "d = D()\n",
    "d.method()"
   ]
  },
  {
   "cell_type": "markdown",
   "metadata": {},
   "source": [
    "# *Hierarchical Inheritance* >> \n",
    "One parent class & multiple (more than 2 child class)"
   ]
  },
  {
   "cell_type": "code",
   "execution_count": 6,
   "metadata": {},
   "outputs": [
    {
     "name": "stdout",
     "output_type": "stream",
     "text": [
      "This is vehicle\n",
      "This is car\n"
     ]
    }
   ],
   "source": [
    "class vehicle:\n",
    "    def info(self):\n",
    "        print(\"This is vehicle\")\n",
    "class Car(vehicle):\n",
    "    def car_info(self):\n",
    "        print(\"This is car\")\n",
    "class Truck(vehicle):\n",
    "    def truck_info(self):\n",
    "        print(\"This is Truck\")\n",
    "\n",
    "c1 = Car()\n",
    "c1.info()\n",
    "c1.car_info()"
   ]
  },
  {
   "cell_type": "code",
   "execution_count": 7,
   "metadata": {},
   "outputs": [
    {
     "name": "stdout",
     "output_type": "stream",
     "text": [
      "This is vehicle\n",
      "This is Truck\n"
     ]
    }
   ],
   "source": [
    "t1 = Truck()\n",
    "t1.info()\n",
    "t1.truck_info()"
   ]
  },
  {
   "cell_type": "markdown",
   "metadata": {},
   "source": [
    "# *Hybrid Inheritance* >>\n",
    "</br>mix of both hierarchical and multilevel or singlelevel inheritance\n"
   ]
  },
  {
   "cell_type": "code",
   "execution_count": 9,
   "metadata": {},
   "outputs": [],
   "source": [
    "class Vehicle:\n",
    "    def info(self):\n",
    "        print(\"This is vehicle\")\n",
    "class Car(Vehicle):\n",
    "    def car_info(self):\n",
    "        print(\"This is car\")\n",
    "class Truck(Vehicle):\n",
    "    def truck_info(self):\n",
    "        print(\"This is Truck\")\n",
    "\n",
    "class SportsCar(Car, Vehicle):\n",
    "    def sports_info(self):\n",
    "        print(\"Driving this at sports car\")\n",
    "\n"
   ]
  },
  {
   "cell_type": "code",
   "execution_count": 10,
   "metadata": {},
   "outputs": [
    {
     "name": "stdout",
     "output_type": "stream",
     "text": [
      "Driving this at sports car\n"
     ]
    }
   ],
   "source": [
    "obj1 = SportsCar()\n",
    "obj1.sports_info()"
   ]
  },
  {
   "cell_type": "markdown",
   "metadata": {},
   "source": [
    "# **Abstraction** >>\n",
    "</br>\n",
    "Concept of hiding complex implementation. Hiding unneeded details and exposing the required. Abstract class can not be instantiated(cannot make objects)\n",
    "</br></br>\n",
    "abstract class may contain methods that are just declared but not implemented in abstract class itself, Subclass are responsible for implementing these abstract methods."
   ]
  },
  {
   "cell_type": "markdown",
   "metadata": {},
   "source": [
    "Abstraction can be achieved using abstract class >> import abc module\n",
    "</br>\n",
    "</br>\n",
    "If in inherited class a method is not present from abstract class it will not thorw any error"
   ]
  },
  {
   "cell_type": "code",
   "execution_count": 3,
   "metadata": {},
   "outputs": [],
   "source": [
    "# example >> we cannot see backend code to hide it's complex implementation "
   ]
  },
  {
   "cell_type": "markdown",
   "metadata": {},
   "source": [
    "*Abstract* class can be achieved using abstract class >> **import abc**"
   ]
  },
  {
   "cell_type": "code",
   "execution_count": 4,
   "metadata": {},
   "outputs": [],
   "source": [
    "import abc # collection of multiple function is a module"
   ]
  },
  {
   "cell_type": "code",
   "execution_count": 5,
   "metadata": {},
   "outputs": [],
   "source": [
    "# use case\n",
    "# in any class at school these 3 things are common\n",
    "# so we make it abstract class which can be implemented in any particular classroom\n",
    "class School:\n",
    "    @abc.abstractmethod\n",
    "    def student_details(self):\n",
    "        pass\n",
    "    @abc.abstractmethod\n",
    "    def student_assignment(self):\n",
    "        pass\n",
    "    @abc.abstractmethod\n",
    "    def student_marks(self):\n",
    "        pass\n",
    "    "
   ]
  },
  {
   "cell_type": "code",
   "execution_count": 13,
   "metadata": {},
   "outputs": [],
   "source": [
    "class DataScience(School):\n",
    "    def student_details(self):\n",
    "        return \"Data science course details\"\n",
    "    def student_marks(self):\n",
    "        return \"give marks of Data science assignment\""
   ]
  },
  {
   "cell_type": "code",
   "execution_count": 11,
   "metadata": {},
   "outputs": [],
   "source": [
    "class WebDev(School):\n",
    "    def student_assignment(self):\n",
    "        return \"Student has completed his Web Dev course's assignment\"\n",
    "    def student_marks(self):\n",
    "        return \"give marks of Web Dev assignment\""
   ]
  },
  {
   "cell_type": "code",
   "execution_count": 15,
   "metadata": {},
   "outputs": [
    {
     "name": "stdout",
     "output_type": "stream",
     "text": [
      "None\n",
      "Data science course details\n"
     ]
    }
   ],
   "source": [
    "ds = DataScience()\n",
    "# When we try those method which is not defined it will not throw any error\n",
    "print(ds.student_assignment())\n",
    "print(ds.student_details())"
   ]
  },
  {
   "cell_type": "code",
   "execution_count": 16,
   "metadata": {},
   "outputs": [],
   "source": [
    "w = WebDev()\n",
    "w.student_details()"
   ]
  },
  {
   "cell_type": "code",
   "execution_count": 20,
   "metadata": {},
   "outputs": [],
   "source": [
    "# USE CASE\n",
    "\n",
    "class Shape:\n",
    "    @abc.abstractmethod\n",
    "    def calculate_Area(self):\n",
    "        pass\n",
    "class Rectangle(Shape):\n",
    "    def __init__(self, length, breadth):\n",
    "        self.l = length\n",
    "        self.b = breadth\n",
    "    def calculate_Area(self):\n",
    "        return f\"Rectangle's area is : {self.l * self.b}\"\n",
    "class Circle(Shape):\n",
    "    def __init__(self, radius):\n",
    "        self.r = radius\n",
    "    def calculate_Area(self):\n",
    "        return f\"Circle's area is : {3.14 * self.r * self.r}\"\n"
   ]
  },
  {
   "cell_type": "code",
   "execution_count": 21,
   "metadata": {},
   "outputs": [
    {
     "data": {
      "text/plain": [
       "\"Rectangle's area is : 40\""
      ]
     },
     "execution_count": 21,
     "metadata": {},
     "output_type": "execute_result"
    }
   ],
   "source": [
    "s1 = Rectangle(5, 8)\n",
    "s1.calculate_Area()"
   ]
  },
  {
   "cell_type": "code",
   "execution_count": 22,
   "metadata": {},
   "outputs": [
    {
     "data": {
      "text/plain": [
       "\"Circle's area is : 153.86\""
      ]
     },
     "execution_count": 22,
     "metadata": {},
     "output_type": "execute_result"
    }
   ],
   "source": [
    "c1 = Circle(7)\n",
    "c1.calculate_Area()"
   ]
  }
 ],
 "metadata": {
  "kernelspec": {
   "display_name": "base",
   "language": "python",
   "name": "python3"
  },
  "language_info": {
   "codemirror_mode": {
    "name": "ipython",
    "version": 3
   },
   "file_extension": ".py",
   "mimetype": "text/x-python",
   "name": "python",
   "nbconvert_exporter": "python",
   "pygments_lexer": "ipython3",
   "version": "3.12.4"
  }
 },
 "nbformat": 4,
 "nbformat_minor": 2
}
