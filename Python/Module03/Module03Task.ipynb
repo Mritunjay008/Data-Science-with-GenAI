{
 "cells": [
  {
   "cell_type": "markdown",
   "metadata": {},
   "source": [
    "# Data Types and Structures Questions\n"
   ]
  },
  {
   "cell_type": "markdown",
   "metadata": {},
   "source": [
    "1. What are data structures, and why are they important\n",
    "- Data structure is a system or way to oraganize data. It is used for better efficiency for any operations."
   ]
  },
  {
   "cell_type": "markdown",
   "metadata": {},
   "source": [
    "2.  Explain the difference between mutable and immutable data types with examples.\n",
    "- **Immutable data type** means we can not change anything after assigning it\n",
    "    - e.g: String, Tuple\n",
    "- **Mutable data type** data types means when we can edit variable after assigning it.\n",
    "    - e.g: List, Dictonary\n"
   ]
  },
  {
   "cell_type": "markdown",
   "metadata": {},
   "source": [
    "3. What are the main differences between lists and tuples in Python?\n",
    "- List and Tuple is a data structure where we can store any type of data but there is some basic diffrence between it.\n"
   ]
  },
  {
   "cell_type": "markdown",
   "metadata": {},
   "source": [
    "4. Describe how dictionaries store data.\n",
    "- Dictonary is a type of data structure in which we store data in key value pair."
   ]
  },
  {
   "cell_type": "markdown",
   "metadata": {},
   "source": [
    "5. Why might you use a set instead of a list in Python?\n",
    "- set is a data structure in which we store elements uniquely like we can not store same elements more than one time.  "
   ]
  },
  {
   "cell_type": "markdown",
   "metadata": {},
   "source": [
    "6. What is a string in Python, and how is it different from a list?\n",
    "- String is a sequence of character. String is immutable data structure but List is mutable data type. We can store any thing like other list, string, int, float..etc."
   ]
  },
  {
   "cell_type": "markdown",
   "metadata": {},
   "source": [
    "7. How do tuples ensure data integrity in Python?\n",
    "- As after creation of tuples we cannot edit this data structure. So it ensure that whatever assigned to that variable. It will not be changed so data integrity and security is ensured."
   ]
  },
  {
   "cell_type": "markdown",
   "metadata": {},
   "source": [
    "8. What is a hash table, and how does it relate to dictionaries in Python?\n",
    "- hash table and dictonary both is a data structure in which it stores key value pair. Hash table is a concept but dictonary is real implementation of hash table concept."
   ]
  },
  {
   "cell_type": "markdown",
   "metadata": {},
   "source": [
    "9. Can lists contain different data types in Python?\n",
    "- Yes **List** can store diffrent-diffrent data types in it.\n",
    "    - e.g: String, integer, float, even list too."
   ]
  },
  {
   "cell_type": "markdown",
   "metadata": {},
   "source": [
    "10. Explain why strings are immutable in Python?\n",
    "- for efficiency in python string is immutable but in python developers gives a tool to edit strings too. It is .replace() function. "
   ]
  },
  {
   "cell_type": "markdown",
   "metadata": {},
   "source": [
    "11. What advantages do dictionaries offer over lists for certain tasks?\n",
    "- for fast searching or storing occurances of an element in list we can use dictonary. It is best when we want to use key-value pair element."
   ]
  },
  {
   "cell_type": "markdown",
   "metadata": {},
   "source": [
    "12. Describe a scenario where using a tuple would be preferable over a list?\n",
    "- Tuple is best when we don't want to change anything. List is mutable but tuple is immutable data type. List is somewhat slow compare too tuples. Suppose we have to store week's name or month's name and it is obviously same throughout whole program so we use tuples so it will be fixed."
   ]
  },
  {
   "cell_type": "markdown",
   "metadata": {},
   "source": [
    "13. How do sets handle duplicate values in Python?\n",
    "- sets automatically remove duplicates. When you try to add a duplicate value, it will be ignored, ensuring each element in the set is unique."
   ]
  },
  {
   "cell_type": "markdown",
   "metadata": {},
   "source": [
    "14. How does the “in” keyword work differently for lists and dictionaries?\n",
    "- in keyword works in dictonary as it will search for key and corresponding to that key it will give value as an output\n",
    "- in list it works as normal like it will take o(n) time to search entire list and it will give true or false as output"
   ]
  },
  {
   "cell_type": "markdown",
   "metadata": {},
   "source": [
    "15. Can you modify the elements of a tuple? Explain why or why not?\n",
    "- No we cannot modify the element in tuple as it is immutable. This property ensures data consistency and better performance."
   ]
  },
  {
   "cell_type": "markdown",
   "metadata": {},
   "source": [
    "16. What is a nested dictionary, and give an example of its use case?\n",
    "- Nested dictonary is a dictonary where the value of one or more keys is another dictonary. It allows for a more structured and hierarchical data representation. \n",
    "    - It's use case can be where we store student's role no. as primary key and as a value we store another dictonary where we store name, marks..etc."
   ]
  },
  {
   "cell_type": "markdown",
   "metadata": {},
   "source": [
    "17. Describe the time complexity of accessing elements in a dictionary.\n",
    "- In best case the complexiety of searching an element is O(1) but in worst case it is O(n)."
   ]
  },
  {
   "cell_type": "markdown",
   "metadata": {},
   "source": [
    "18. In what situations are lists preferred over dictionaries?\n",
    "- As we know dictonary stores data as a key value pair but in list we only stores data as an individual. \n",
    "    - list = [element1, element2]\n",
    "    - dict = {key:value}"
   ]
  },
  {
   "cell_type": "markdown",
   "metadata": {},
   "source": [
    "19. Why are dictionaries considered unordered, and how does that affect data retrieval?\n",
    "- Dictonaries are considered unordered because they store data bsed on hashing, not in a sequence. The order of keys is determined by the hash values and can appear random.\n",
    "    - This affect retrieval of data like in best case searching of data is O(1) and in worst case it is O(n). "
   ]
  },
  {
   "cell_type": "markdown",
   "metadata": {},
   "source": [
    "20. Explain the difference between a list and a dictionary in terms of data retrieval.\n",
    "- In List data is retrieved by index. But in dictonary retieval of data is by key.\n",
    "    - dict[key] : By this we can access value of data."
   ]
  },
  {
   "cell_type": "markdown",
   "metadata": {},
   "source": [
    "# Practical Questions\n"
   ]
  },
  {
   "cell_type": "code",
   "execution_count": 48,
   "metadata": {},
   "outputs": [
    {
     "name": "stdout",
     "output_type": "stream",
     "text": [
      "Mritunjay Kumar\n"
     ]
    }
   ],
   "source": [
    "# 1. Write a code to create a string with your name and print it?\n",
    "name = \"Mritunjay Kumar\"\n",
    "print(name)"
   ]
  },
  {
   "cell_type": "code",
   "execution_count": 49,
   "metadata": {},
   "outputs": [
    {
     "name": "stdout",
     "output_type": "stream",
     "text": [
      "11\n"
     ]
    }
   ],
   "source": [
    "# 2. Write a code to find the length of the string \"Hello World\"?\n",
    "print(len(\"Hello World\"))"
   ]
  },
  {
   "cell_type": "code",
   "execution_count": 50,
   "metadata": {},
   "outputs": [
    {
     "name": "stdout",
     "output_type": "stream",
     "text": [
      "Pyt\n"
     ]
    }
   ],
   "source": [
    "# 3. Write a code to slice the first 3 characters from the string \"Python Programming\"?\n",
    "language = \"Python Programming\"\n",
    "print(language[:3:])"
   ]
  },
  {
   "cell_type": "code",
   "execution_count": 51,
   "metadata": {},
   "outputs": [
    {
     "name": "stdout",
     "output_type": "stream",
     "text": [
      "HELLO\n"
     ]
    }
   ],
   "source": [
    "# 4. Write a code to convert the string \"hello\" to uppercase?\n",
    "print(\"hello\".upper())"
   ]
  },
  {
   "cell_type": "code",
   "execution_count": 54,
   "metadata": {},
   "outputs": [
    {
     "name": "stdout",
     "output_type": "stream",
     "text": [
      "I like orange\n"
     ]
    }
   ],
   "source": [
    "# 5. Write a code to replace the word \"apple\" with \"orange\" in the string \"I like apple\"?\n",
    "s = \"I like apple\"\n",
    "print(s.replace(\"apple\", \"orange\"))"
   ]
  },
  {
   "cell_type": "code",
   "execution_count": 55,
   "metadata": {},
   "outputs": [
    {
     "data": {
      "text/plain": [
       "[1, 2, 3, 4, 5]"
      ]
     },
     "execution_count": 55,
     "metadata": {},
     "output_type": "execute_result"
    }
   ],
   "source": [
    "# 6. Write a code to create a list with numbers 1 to 5 and print it?\n",
    "num = []\n",
    "for i in range(1, 6):\n",
    "    num.append(i)\n",
    "num"
   ]
  },
  {
   "cell_type": "code",
   "execution_count": 56,
   "metadata": {},
   "outputs": [
    {
     "data": {
      "text/plain": [
       "[1, 2, 3, 4, 10]"
      ]
     },
     "execution_count": 56,
     "metadata": {},
     "output_type": "execute_result"
    }
   ],
   "source": [
    "# 7. Write a code to append the number 10 to the list [1, 2, 3, 4].\n",
    "lst = [1, 2, 3, 4]\n",
    "lst.append(10)\n",
    "lst"
   ]
  },
  {
   "cell_type": "code",
   "execution_count": 58,
   "metadata": {},
   "outputs": [
    {
     "data": {
      "text/plain": [
       "[1, 2, 4, 5]"
      ]
     },
     "execution_count": 58,
     "metadata": {},
     "output_type": "execute_result"
    }
   ],
   "source": [
    "# 8. Write a code to remove the number 3 from the list [1, 2, 3, 4, 5].\n",
    "lst = [1, 2, 3, 4, 5]\n",
    "lst.remove(3)\n",
    "lst"
   ]
  },
  {
   "cell_type": "code",
   "execution_count": 59,
   "metadata": {},
   "outputs": [
    {
     "data": {
      "text/plain": [
       "'b'"
      ]
     },
     "execution_count": 59,
     "metadata": {},
     "output_type": "execute_result"
    }
   ],
   "source": [
    "# 9. Write a code to access the second element in the list ['a', 'b', 'c', 'd'].\n",
    "lst = ['a', 'b', 'c', 'd']\n",
    "lst[1]"
   ]
  },
  {
   "cell_type": "code",
   "execution_count": 61,
   "metadata": {},
   "outputs": [
    {
     "data": {
      "text/plain": [
       "[50, 40, 30, 20, 10]"
      ]
     },
     "execution_count": 61,
     "metadata": {},
     "output_type": "execute_result"
    }
   ],
   "source": [
    "# 10. Write a code to reverse the list [10, 20, 30, 40, 50].\n",
    "lst = [10, 20, 30, 40, 50]\n",
    "lst[::-1]"
   ]
  },
  {
   "cell_type": "code",
   "execution_count": 63,
   "metadata": {},
   "outputs": [
    {
     "name": "stdout",
     "output_type": "stream",
     "text": [
      "10\n",
      "20\n",
      "30\n"
     ]
    }
   ],
   "source": [
    "# 11. Write a code to create a tuple with the elements 10, 20, 30 and print it.\n",
    "tpl = (10,20,30)\n",
    "for i in range(len(tpl)):\n",
    "    print(tpl[i])"
   ]
  },
  {
   "cell_type": "code",
   "execution_count": 64,
   "metadata": {},
   "outputs": [
    {
     "name": "stdout",
     "output_type": "stream",
     "text": [
      "apple\n"
     ]
    }
   ],
   "source": [
    "# 12. Write a code to access the first element of the tuple ('apple', 'banana', 'cherry').\n",
    "fruits = ('apple', 'banana', 'cherry')\n",
    "print(fruits[0])"
   ]
  },
  {
   "cell_type": "code",
   "execution_count": 65,
   "metadata": {},
   "outputs": [
    {
     "name": "stdout",
     "output_type": "stream",
     "text": [
      "3\n"
     ]
    }
   ],
   "source": [
    "# 13.  Write a code to count how many times the number 2 appears in the tuple (1, 2, 3, 2, 4, 2)\n",
    "num = (1, 2, 3, 2, 4, 2)\n",
    "count = 0\n",
    "for i in num:\n",
    "    if i == 2:\n",
    "        count+=1\n",
    "print(count)"
   ]
  },
  {
   "cell_type": "code",
   "execution_count": 66,
   "metadata": {},
   "outputs": [
    {
     "name": "stdout",
     "output_type": "stream",
     "text": [
      "1\n"
     ]
    }
   ],
   "source": [
    "# 14. Write a code to find the index of the element \"cat\" in the tuple ('dog', 'cat', 'rabbit').\n",
    "animals = ('dog', 'cat', 'rabbit')\n",
    "for i in range(len(animals)):\n",
    "    if animals[i] == 'cat':\n",
    "        print(i)"
   ]
  },
  {
   "cell_type": "code",
   "execution_count": 68,
   "metadata": {},
   "outputs": [
    {
     "name": "stdout",
     "output_type": "stream",
     "text": [
      "Yes banana is inside the fruits\n"
     ]
    }
   ],
   "source": [
    "# 15.  Write a code to check if the element \"banana\" is in the tuple ('apple', 'orange', 'banana').\n",
    "fruits = ('apple', 'orange', 'banana')\n",
    "fruit = \"banana\"\n",
    "if fruit in fruits:\n",
    "    print(f\"Yes {fruit} is inside the fruits\")\n",
    "else:\n",
    "    print(f\"No, {fruit} is not inside the fruits\")"
   ]
  },
  {
   "cell_type": "code",
   "execution_count": 71,
   "metadata": {},
   "outputs": [
    {
     "name": "stdout",
     "output_type": "stream",
     "text": [
      "1\n",
      "2\n",
      "3\n",
      "4\n",
      "5\n"
     ]
    }
   ],
   "source": [
    "# 16. Write a code to create a set with the elements 1, 2, 3, 4, 5 and print it.\n",
    "st = {1, 2, 3, 4, 5}\n",
    "for ele in st:\n",
    "    print(ele)"
   ]
  },
  {
   "cell_type": "code",
   "execution_count": 72,
   "metadata": {},
   "outputs": [
    {
     "data": {
      "text/plain": [
       "{1, 2, 3, 4, 6}"
      ]
     },
     "execution_count": 72,
     "metadata": {},
     "output_type": "execute_result"
    }
   ],
   "source": [
    "# 17. Write a code to add the element 6 to the set {1, 2, 3, 4}.\n",
    "st = {1, 2, 3, 4}\n",
    "st.add(6)\n",
    "st"
   ]
  },
  {
   "cell_type": "code",
   "execution_count": 74,
   "metadata": {},
   "outputs": [
    {
     "name": "stdout",
     "output_type": "stream",
     "text": [
      "10\n",
      "20\n",
      "30\n"
     ]
    }
   ],
   "source": [
    "# 18. Write a code to create a tuple with the elements 10, 20, 30 and print it.\n",
    "tpl = (10, 20, 30)\n",
    "for ele in tpl:\n",
    "    print(ele)"
   ]
  },
  {
   "cell_type": "code",
   "execution_count": 77,
   "metadata": {},
   "outputs": [
    {
     "data": {
      "text/plain": [
       "'apple'"
      ]
     },
     "execution_count": 77,
     "metadata": {},
     "output_type": "execute_result"
    }
   ],
   "source": [
    "# 19.  Write a code to access the first element of the tuple ('apple', 'banana', 'cherry').\n",
    "fruits = ('apple', 'banana', 'cherry')\n",
    "fruits[0]"
   ]
  },
  {
   "cell_type": "code",
   "execution_count": 78,
   "metadata": {},
   "outputs": [
    {
     "name": "stdout",
     "output_type": "stream",
     "text": [
      "3\n"
     ]
    }
   ],
   "source": [
    "# 20.  Write a code to count how many times the number 2 appears in the tuple (1, 2, 3, 2, 4, 2).\n",
    "num = (1, 2, 3, 2, 4, 2)\n",
    "count_2 = 0\n",
    "for number in num:\n",
    "    if number == 2:\n",
    "        count_2+=1\n",
    "print(count_2)"
   ]
  },
  {
   "cell_type": "code",
   "execution_count": 79,
   "metadata": {},
   "outputs": [
    {
     "name": "stdout",
     "output_type": "stream",
     "text": [
      "1\n"
     ]
    }
   ],
   "source": [
    "# 21. Write a code to find the index of the element \"cat\" in the tuple ('dog', 'cat', 'rabbit').\n",
    "animals = ('dog', 'cat', 'rabbit')\n",
    "for i in range(len(animals)):\n",
    "    if animals[i] == 'cat':\n",
    "        print(i)\n"
   ]
  },
  {
   "cell_type": "code",
   "execution_count": 80,
   "metadata": {},
   "outputs": [
    {
     "name": "stdout",
     "output_type": "stream",
     "text": [
      "Yes banana is inside the fruits\n"
     ]
    }
   ],
   "source": [
    "# 22. Write a code to check if the element \"banana\" is in the tuple ('apple', 'orange', 'banana').\n",
    "fruits = ('apple', 'orange', 'banana')\n",
    "fruit = \"banana\"\n",
    "if fruit in fruits:\n",
    "    print(f\"Yes {fruit} is inside the fruits\")\n",
    "else:\n",
    "    print(f\"No, {fruit} is not inside the fruits\")"
   ]
  },
  {
   "cell_type": "code",
   "execution_count": 81,
   "metadata": {},
   "outputs": [
    {
     "name": "stdout",
     "output_type": "stream",
     "text": [
      "1\n",
      "2\n",
      "3\n",
      "4\n",
      "5\n"
     ]
    }
   ],
   "source": [
    "# 23.  Write a code to create a set with the elements 1, 2, 3, 4, 5 and print it.\n",
    "st = {1, 2, 3, 4, 5}\n",
    "for ele in st:\n",
    "    print(ele)"
   ]
  },
  {
   "cell_type": "code",
   "execution_count": 82,
   "metadata": {},
   "outputs": [
    {
     "data": {
      "text/plain": [
       "{1, 2, 3, 4, 6}"
      ]
     },
     "execution_count": 82,
     "metadata": {},
     "output_type": "execute_result"
    }
   ],
   "source": [
    "# 24. Write a code to add the element 6 to the set {1, 2, 3, 4}.\n",
    "st = {1, 2, 3, 4}\n",
    "st.add(6)\n",
    "st"
   ]
  }
 ],
 "metadata": {
  "kernelspec": {
   "display_name": "Python 3",
   "language": "python",
   "name": "python3"
  },
  "language_info": {
   "codemirror_mode": {
    "name": "ipython",
    "version": 3
   },
   "file_extension": ".py",
   "mimetype": "text/x-python",
   "name": "python",
   "nbconvert_exporter": "python",
   "pygments_lexer": "ipython3",
   "version": "3.12.8"
  }
 },
 "nbformat": 4,
 "nbformat_minor": 2
}
