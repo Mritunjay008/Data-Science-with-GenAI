{
 "cells": [
  {
   "cell_type": "markdown",
   "metadata": {},
   "source": [
    "# DICTONARY"
   ]
  },
  {
   "cell_type": "markdown",
   "metadata": {},
   "source": [
    "- It is a data structure who stores data in key value pair\n",
    "- Keys are unique and immutable\n",
    "- Dictonaries are unordered. But from python 3.7 version, dictonaries retains the order of insertion.\n",
    "- Means you iterate over a dictonary, the items will be returnned in the order they were added."
   ]
  },
  {
   "cell_type": "code",
   "execution_count": 1,
   "metadata": {},
   "outputs": [
    {
     "data": {
      "text/plain": [
       "dict"
      ]
     },
     "execution_count": 1,
     "metadata": {},
     "output_type": "execute_result"
    }
   ],
   "source": [
    "# syntax \n",
    "# dicty = {}\n",
    "\n",
    "d = {}\n",
    "type(d)"
   ]
  },
  {
   "cell_type": "code",
   "execution_count": 5,
   "metadata": {},
   "outputs": [
    {
     "data": {
      "text/plain": [
       "{'name': 'Mritunjay',\n",
       " 'email': 'mritunjayaman20222@gmail.com',\n",
       " 'contact_details': 12345}"
      ]
     },
     "execution_count": 5,
     "metadata": {},
     "output_type": "execute_result"
    }
   ],
   "source": [
    "d = {\n",
    "    # key : value\n",
    "    \"name\": \"Mritunjay\",\n",
    "    \"email\": \"mritunjayaman20222@gmail.com\",\n",
    "    \"contact_details\": 12345,\n",
    "}\n",
    "d"
   ]
  },
  {
   "cell_type": "code",
   "execution_count": 6,
   "metadata": {},
   "outputs": [
    {
     "data": {
      "text/plain": [
       "'Mritunjay'"
      ]
     },
     "execution_count": 6,
     "metadata": {},
     "output_type": "execute_result"
    }
   ],
   "source": [
    "d[\"name\"]"
   ]
  },
  {
   "cell_type": "code",
   "execution_count": 7,
   "metadata": {},
   "outputs": [
    {
     "data": {
      "text/plain": [
       "'mritunjayaman20222@gmail.com'"
      ]
     },
     "execution_count": 7,
     "metadata": {},
     "output_type": "execute_result"
    }
   ],
   "source": [
    "d[\"email\"]"
   ]
  },
  {
   "cell_type": "code",
   "execution_count": 9,
   "metadata": {},
   "outputs": [
    {
     "data": {
      "text/plain": [
       "{'name': 'mj@gmail.com',\n",
       " 'email': 'mritunjayaman20222@gmail.com',\n",
       " 'contact_details': 12345}"
      ]
     },
     "execution_count": 9,
     "metadata": {},
     "output_type": "execute_result"
    }
   ],
   "source": [
    "d[\"name\"] = \"mj@gmail.com\"\n",
    "d"
   ]
  },
  {
   "cell_type": "code",
   "execution_count": 13,
   "metadata": {},
   "outputs": [
    {
     "ename": "KeyError",
     "evalue": "10",
     "output_type": "error",
     "traceback": [
      "\u001b[1;31m---------------------------------------------------------------------------\u001b[0m",
      "\u001b[1;31mKeyError\u001b[0m                                  Traceback (most recent call last)",
      "Cell \u001b[1;32mIn[13], line 5\u001b[0m\n\u001b[0;32m      1\u001b[0m dic \u001b[38;5;241m=\u001b[39m {\n\u001b[0;32m      2\u001b[0m     \u001b[38;5;124m\"\u001b[39m\u001b[38;5;124mname\u001b[39m\u001b[38;5;124m\"\u001b[39m : \u001b[38;5;124m\"\u001b[39m\u001b[38;5;124mMritunjay\u001b[39m\u001b[38;5;124m\"\u001b[39m,\n\u001b[0;32m      3\u001b[0m     \u001b[38;5;124m\"\u001b[39m\u001b[38;5;124mroll\u001b[39m\u001b[38;5;124m\"\u001b[39m : \u001b[38;5;241m10\u001b[39m\n\u001b[0;32m      4\u001b[0m }\n\u001b[1;32m----> 5\u001b[0m \u001b[43mdic\u001b[49m\u001b[43m[\u001b[49m\u001b[38;5;241;43m10\u001b[39;49m\u001b[43m]\u001b[49m \u001b[38;5;66;03m#we can noly access value using key vice versa is not possible\u001b[39;00m\n",
      "\u001b[1;31mKeyError\u001b[0m: 10"
     ]
    }
   ],
   "source": [
    "dic = {\n",
    "    \"name\" : \"Mritunjay\",\n",
    "    \"roll\" : 10\n",
    "}\n",
    "dic[10] #we can noly access value using key vice versa is not possible"
   ]
  },
  {
   "cell_type": "code",
   "execution_count": 16,
   "metadata": {},
   "outputs": [],
   "source": [
    "# rules of defining key\n",
    "d = {\n",
    "    1: \"Ayushi\",\n",
    "    1.1: \"Sankalp\",\n",
    "    True:\"Shovini\",\n",
    "    # @ : \"Shreyansh\" //---> invalid syntax\n",
    "}"
   ]
  },
  {
   "cell_type": "code",
   "execution_count": 19,
   "metadata": {},
   "outputs": [
    {
     "ename": "TypeError",
     "evalue": "unhashable type: 'list'",
     "output_type": "error",
     "traceback": [
      "\u001b[1;31m---------------------------------------------------------------------------\u001b[0m",
      "\u001b[1;31mTypeError\u001b[0m                                 Traceback (most recent call last)",
      "Cell \u001b[1;32mIn[19], line 1\u001b[0m\n\u001b[1;32m----> 1\u001b[0m d \u001b[38;5;241m=\u001b[39m {\n\u001b[0;32m      2\u001b[0m     [\u001b[38;5;241m1\u001b[39m,\u001b[38;5;241m2\u001b[39m,\u001b[38;5;241m3\u001b[39m]:\u001b[38;5;241m45\u001b[39m\n\u001b[0;32m      3\u001b[0m } \n\u001b[0;32m      4\u001b[0m \u001b[38;5;66;03m# list cannot be a key\u001b[39;00m\n",
      "\u001b[1;31mTypeError\u001b[0m: unhashable type: 'list'"
     ]
    }
   ],
   "source": [
    "d = {\n",
    "    [1,2,3]:45\n",
    "} \n",
    "# list cannot be a key"
   ]
  },
  {
   "cell_type": "code",
   "execution_count": 21,
   "metadata": {},
   "outputs": [],
   "source": [
    "d = {\n",
    "    (1,2,3):45\n",
    "} \n",
    "# tuple can be a key"
   ]
  },
  {
   "cell_type": "code",
   "execution_count": 23,
   "metadata": {},
   "outputs": [
    {
     "ename": "TypeError",
     "evalue": "unhashable type: 'dict'",
     "output_type": "error",
     "traceback": [
      "\u001b[1;31m---------------------------------------------------------------------------\u001b[0m",
      "\u001b[1;31mTypeError\u001b[0m                                 Traceback (most recent call last)",
      "Cell \u001b[1;32mIn[23], line 1\u001b[0m\n\u001b[1;32m----> 1\u001b[0m d \u001b[38;5;241m=\u001b[39m {\n\u001b[0;32m      2\u001b[0m     {\u001b[38;5;241m12\u001b[39m:\u001b[38;5;241m23\u001b[39m}\n\u001b[0;32m      3\u001b[0m }\n\u001b[0;32m      4\u001b[0m \u001b[38;5;66;03m# dictonary cannot be a key\u001b[39;00m\n",
      "\u001b[1;31mTypeError\u001b[0m: unhashable type: 'dict'"
     ]
    }
   ],
   "source": [
    "d = {\n",
    "    {12:23}\n",
    "}\n",
    "# dictonary cannot be a key"
   ]
  },
  {
   "cell_type": "markdown",
   "metadata": {},
   "source": [
    "### Only string, number and tuples can be key "
   ]
  },
  {
   "cell_type": "code",
   "execution_count": 29,
   "metadata": {},
   "outputs": [
    {
     "data": {
      "text/plain": [
       "{'name': 'Mahuya', 'roll-no': 10, 'course': 'B.tech', 'stream': 'CSE-AIML'}"
      ]
     },
     "execution_count": 29,
     "metadata": {},
     "output_type": "execute_result"
    }
   ],
   "source": [
    "d = {\n",
    "    \"name\" :\"Mritunjay\",\n",
    "    \"roll-no\":10,\n",
    "    \"course\":\"B.tech\",\n",
    "    \"stream\":\"CSE-AIML\",   \n",
    "    \"name\" :\"Mahuya\"\n",
    "}\n",
    "#  always the last key-value pair will be used as it is updated in dictonary\n",
    "d\n"
   ]
  },
  {
   "cell_type": "code",
   "execution_count": 31,
   "metadata": {},
   "outputs": [
    {
     "data": {
      "text/plain": [
       "{'name': 'Mritunjay', 'roll-no': 10, 'course': 'B.tech', 'stream': 'CSE-AIML'}"
      ]
     },
     "execution_count": 31,
     "metadata": {},
     "output_type": "execute_result"
    }
   ],
   "source": [
    "d[\"name\"] = \"Mritunjay\"\n",
    "d"
   ]
  },
  {
   "cell_type": "code",
   "execution_count": 44,
   "metadata": {},
   "outputs": [
    {
     "data": {
      "text/plain": [
       "{'name': 'Mahuya',\n",
       " 'roll-no': (10, 1, 15),\n",
       " 'course': 'B.tech',\n",
       " 'stream': {'CSE', 'CSE-AIML'}}"
      ]
     },
     "execution_count": 44,
     "metadata": {},
     "output_type": "execute_result"
    }
   ],
   "source": [
    "# value can be a list, tuple\n",
    "d = {\n",
    "    \"name\" :[\"Mritunjay\", \"Mahuya\", \"Rishabh\"],\n",
    "    \"roll-no\":(10, 1, 15),\n",
    "    \"course\":\"B.tech\",\n",
    "    \"stream\":{\"CSE-AIML\", \"CSE\"},   \n",
    "    \"name\" :\"Mahuya\"\n",
    "}\n",
    "d"
   ]
  },
  {
   "cell_type": "code",
   "execution_count": 35,
   "metadata": {},
   "outputs": [
    {
     "data": {
      "text/plain": [
       "'a'"
      ]
     },
     "execution_count": 35,
     "metadata": {},
     "output_type": "execute_result"
    }
   ],
   "source": [
    "d[\"name\"][1]"
   ]
  },
  {
   "cell_type": "code",
   "execution_count": 40,
   "metadata": {},
   "outputs": [],
   "source": [
    "# ading key-value into dictonary\n",
    "d[\"address\"]=\"MB-379, Mahishbathan\""
   ]
  },
  {
   "cell_type": "code",
   "execution_count": 37,
   "metadata": {},
   "outputs": [
    {
     "data": {
      "text/plain": [
       "{'name': 'Mahuya',\n",
       " 'roll-no': (10, 1, 15),\n",
       " 'course': 'B.tech',\n",
       " 'stream': {'CSE', 'CSE-AIML'},\n",
       " 'address': 'MB-379, Mahishbathan'}"
      ]
     },
     "execution_count": 37,
     "metadata": {},
     "output_type": "execute_result"
    }
   ],
   "source": [
    "d"
   ]
  },
  {
   "cell_type": "code",
   "execution_count": 41,
   "metadata": {},
   "outputs": [
    {
     "data": {
      "text/plain": [
       "{'name': 'Mahuya',\n",
       " 'roll-no': (10, 1, 15),\n",
       " 'course': 'B.tech',\n",
       " 'stream': {'CSE', 'CSE-AIML'}}"
      ]
     },
     "execution_count": 41,
     "metadata": {},
     "output_type": "execute_result"
    }
   ],
   "source": [
    "#delete key value pair \n",
    "del d[\"address\"]\n",
    "d"
   ]
  },
  {
   "cell_type": "code",
   "execution_count": 45,
   "metadata": {},
   "outputs": [
    {
     "ename": "NameError",
     "evalue": "name 'd' is not defined",
     "output_type": "error",
     "traceback": [
      "\u001b[1;31m---------------------------------------------------------------------------\u001b[0m",
      "\u001b[1;31mNameError\u001b[0m                                 Traceback (most recent call last)",
      "Cell \u001b[1;32mIn[45], line 3\u001b[0m\n\u001b[0;32m      1\u001b[0m \u001b[38;5;66;03m# deleted the whole dictonary\u001b[39;00m\n\u001b[0;32m      2\u001b[0m \u001b[38;5;28;01mdel\u001b[39;00m d\n\u001b[1;32m----> 3\u001b[0m \u001b[43md\u001b[49m\n",
      "\u001b[1;31mNameError\u001b[0m: name 'd' is not defined"
     ]
    }
   ],
   "source": [
    "# deleted the whole dictonary\n",
    "del d\n",
    "d"
   ]
  },
  {
   "cell_type": "code",
   "execution_count": 46,
   "metadata": {},
   "outputs": [],
   "source": [
    "d = {\n",
    "    \"name\" :\"Mritunjay\",\n",
    "    \"roll-no\":10,\n",
    "    \"course\":\"B.tech\",\n",
    "    \"stream\":\"CSE-AIML\"\n",
    "}\n"
   ]
  },
  {
   "cell_type": "code",
   "execution_count": 49,
   "metadata": {},
   "outputs": [
    {
     "data": {
      "text/plain": [
       "{}"
      ]
     },
     "execution_count": 49,
     "metadata": {},
     "output_type": "execute_result"
    }
   ],
   "source": [
    "# We want to clear it / empty dictonary\n",
    "d.clear()\n",
    "d"
   ]
  },
  {
   "cell_type": "code",
   "execution_count": 50,
   "metadata": {},
   "outputs": [
    {
     "data": {
      "text/plain": [
       "4"
      ]
     },
     "execution_count": 50,
     "metadata": {},
     "output_type": "execute_result"
    }
   ],
   "source": [
    "d = {\n",
    "    \"name\" :\"Mritunjay\",\n",
    "    \"roll-no\":10,\n",
    "    \"course\":\"B.tech\",\n",
    "    \"stream\":\"CSE-AIML\"\n",
    "}\n",
    "len(d)"
   ]
  },
  {
   "cell_type": "code",
   "execution_count": 53,
   "metadata": {},
   "outputs": [
    {
     "name": "stdout",
     "output_type": "stream",
     "text": [
      "dict_keys(['name', 'roll-no', 'course', 'stream'])\n",
      "dict_values(['Mritunjay', 10, 'B.tech', 'CSE-AIML'])\n"
     ]
    }
   ],
   "source": [
    "print(d.keys())\n",
    "print(d.values())"
   ]
  },
  {
   "cell_type": "code",
   "execution_count": 55,
   "metadata": {},
   "outputs": [
    {
     "data": {
      "text/plain": [
       "{'name': 'Mritunjay', 'roll-no': 10, 'course': 'B.tech', 'stream': 'CSE-AIML'}"
      ]
     },
     "execution_count": 55,
     "metadata": {},
     "output_type": "execute_result"
    }
   ],
   "source": [
    "d1 = d.copy()\n",
    "d1"
   ]
  },
  {
   "cell_type": "code",
   "execution_count": 56,
   "metadata": {},
   "outputs": [
    {
     "data": {
      "text/plain": [
       "'CSE-AIML'"
      ]
     },
     "execution_count": 56,
     "metadata": {},
     "output_type": "execute_result"
    }
   ],
   "source": [
    "d.pop(\"stream\")"
   ]
  },
  {
   "cell_type": "code",
   "execution_count": 58,
   "metadata": {},
   "outputs": [
    {
     "data": {
      "text/plain": [
       "{'stream': 'CSE-AIML'}"
      ]
     },
     "execution_count": 58,
     "metadata": {},
     "output_type": "execute_result"
    }
   ],
   "source": [
    "# Update everything in d from d1\n",
    "d1 = {\n",
    "    \"stream\":\"CSE-AIML\"\n",
    "}\n",
    "d1"
   ]
  },
  {
   "cell_type": "code",
   "execution_count": 60,
   "metadata": {},
   "outputs": [
    {
     "data": {
      "text/plain": [
       "{'name': 'Mritunjay', 'roll-no': 10, 'course': 'B.tech', 'stream': 'CSE-AIML'}"
      ]
     },
     "execution_count": 60,
     "metadata": {},
     "output_type": "execute_result"
    }
   ],
   "source": [
    "d.update(d1)\n",
    "d"
   ]
  },
  {
   "cell_type": "code",
   "execution_count": 61,
   "metadata": {},
   "outputs": [
    {
     "data": {
      "text/plain": [
       "'CSE-AIML'"
      ]
     },
     "execution_count": 61,
     "metadata": {},
     "output_type": "execute_result"
    }
   ],
   "source": [
    "# when we want to access values from key we can do it by \"get\" function too\n",
    "d.get(\"stream\")"
   ]
  },
  {
   "cell_type": "code",
   "execution_count": 62,
   "metadata": {},
   "outputs": [
    {
     "data": {
      "text/plain": [
       "'B.tech'"
      ]
     },
     "execution_count": 62,
     "metadata": {},
     "output_type": "execute_result"
    }
   ],
   "source": [
    "d[\"course\"]"
   ]
  },
  {
   "cell_type": "code",
   "execution_count": 65,
   "metadata": {},
   "outputs": [
    {
     "data": {
      "text/plain": [
       "{1: ['a', 'b', 'c'], 2: ['a', 'b', 'c'], 3: ['a', 'b', 'c']}"
      ]
     },
     "execution_count": 65,
     "metadata": {},
     "output_type": "execute_result"
    }
   ],
   "source": [
    "# from keys : It will create a dictonary from any iterables\n",
    "d.fromkeys((1,2,3), [\"a\", \"b\", \"c\"])"
   ]
  },
  {
   "cell_type": "code",
   "execution_count": 67,
   "metadata": {},
   "outputs": [
    {
     "name": "stdout",
     "output_type": "stream",
     "text": [
      "('Mritunjay', 79)\n",
      "('Rishabh', 83)\n",
      "('Paridhi', 92)\n"
     ]
    }
   ],
   "source": [
    "# Zip function >> we want Mritunjay hs marks 80 and rishabh has 83 marks and like this\n",
    "student = [\"Mritunjay\", \"Rishabh\", \"Paridhi\"]\n",
    "marks = [79, 83, 92]\n",
    "\n",
    "for i in zip(student, marks):\n",
    "    print(i)\n"
   ]
  },
  {
   "cell_type": "code",
   "execution_count": 68,
   "metadata": {},
   "outputs": [
    {
     "data": {
      "text/plain": [
       "{'Mritunjay': 79, 'Rishabh': 83, 'Paridhi': 92}"
      ]
     },
     "execution_count": 68,
     "metadata": {},
     "output_type": "execute_result"
    }
   ],
   "source": [
    "# store above info in key value pair>> dictonary\n",
    "students = [\"Mritunjay\", \"Rishabh\", \"Paridhi\"]\n",
    "marks = [79, 83, 92]\n",
    "student_marks={}\n",
    "for student, mark in zip(student, marks):\n",
    "    student_marks[student] = mark\n",
    "student_marks"
   ]
  },
  {
   "cell_type": "markdown",
   "metadata": {},
   "source": [
    "### Dictonary Comprehension"
   ]
  },
  {
   "cell_type": "code",
   "execution_count": 72,
   "metadata": {},
   "outputs": [
    {
     "data": {
      "text/plain": [
       "{'Mritunjay': 79, 'Rishabh': 83, 'Paridhi': 92}"
      ]
     },
     "execution_count": 72,
     "metadata": {},
     "output_type": "execute_result"
    }
   ],
   "source": [
    "# doing same thing using dictonary comprehension\n",
    "students = [\"Mritunjay\", \"Rishabh\", \"Paridhi\"]\n",
    "marks = [79, 83, 92]\n",
    "\n",
    "{student:mark for student, mark in zip(students, marks)}"
   ]
  },
  {
   "cell_type": "code",
   "execution_count": 73,
   "metadata": {},
   "outputs": [
    {
     "data": {
      "text/plain": [
       "{1: 'a21', 2: 'a22', 3: 'a23'}"
      ]
     },
     "execution_count": 73,
     "metadata": {},
     "output_type": "execute_result"
    }
   ],
   "source": [
    "# use case\n",
    "\n",
    "user_id = [1,2,3]\n",
    "user_name = [\"a21\", \"a22\", \"a23\"]\n",
    "{id:name for id, name in zip(user_id, user_name)}"
   ]
  },
  {
   "cell_type": "code",
   "execution_count": 76,
   "metadata": {},
   "outputs": [],
   "source": [
    "menu = {\n",
    "    \"Starters\": {\n",
    "        \"Spring Rolls\": 150,\n",
    "        \"Garlic Bread\": 100,\n",
    "        \"Paneer Tikka\": 200\n",
    "    },\n",
    "    \"Main Course\": {\n",
    "        \"Veg Biryani\": 250,\n",
    "        \"Butter Chicken\": 300,\n",
    "        \"Dal Tadka\": 150\n",
    "    },\n",
    "    \"Desserts\": {\n",
    "        \"Gulab Jamun\": 120,\n",
    "        \"Chocolate Cake\": 180\n",
    "    },\n",
    "    \"Drinks\": {\n",
    "        \"Coke\": 50,\n",
    "        \"Lemonade\": 60,\n",
    "        \"Coffee\": 80\n",
    "    }\n",
    "}"
   ]
  },
  {
   "cell_type": "code",
   "execution_count": 78,
   "metadata": {},
   "outputs": [
    {
     "data": {
      "text/plain": [
       "dict_items([('Starters', {'Spring Rolls': 150, 'Garlic Bread': 100, 'Paneer Tikka': 200}), ('Main Course', {'Veg Biryani': 250, 'Butter Chicken': 300, 'Dal Tadka': 150}), ('Desserts', {'Gulab Jamun': 120, 'Chocolate Cake': 180}), ('Drinks', {'Coke': 50, 'Lemonade': 60, 'Coffee': 80})])"
      ]
     },
     "execution_count": 78,
     "metadata": {},
     "output_type": "execute_result"
    }
   ],
   "source": [
    "menu.items()"
   ]
  },
  {
   "cell_type": "code",
   "execution_count": 79,
   "metadata": {},
   "outputs": [
    {
     "name": "stdout",
     "output_type": "stream",
     "text": [
      "Starters : {'Spring Rolls': 150, 'Garlic Bread': 100, 'Paneer Tikka': 200}\n",
      "Main Course : {'Veg Biryani': 250, 'Butter Chicken': 300, 'Dal Tadka': 150}\n",
      "Desserts : {'Gulab Jamun': 120, 'Chocolate Cake': 180}\n",
      "Drinks : {'Coke': 50, 'Lemonade': 60, 'Coffee': 80}\n"
     ]
    }
   ],
   "source": [
    "for key, value in menu.items():\n",
    "    print(f\"{key} : {value}\")"
   ]
  },
  {
   "cell_type": "code",
   "execution_count": 80,
   "metadata": {},
   "outputs": [
    {
     "name": "stdout",
     "output_type": "stream",
     "text": [
      "Starters\n",
      "Main Course\n",
      "Desserts\n",
      "Drinks\n"
     ]
    }
   ],
   "source": [
    "# want to iterate only keys\n",
    "for key in menu.keys():\n",
    "    print(key)"
   ]
  },
  {
   "cell_type": "code",
   "execution_count": 82,
   "metadata": {},
   "outputs": [
    {
     "name": "stdout",
     "output_type": "stream",
     "text": [
      "{'Spring Rolls': 150, 'Garlic Bread': 100, 'Paneer Tikka': 200}\n",
      "{'Veg Biryani': 250, 'Butter Chicken': 300, 'Dal Tadka': 150}\n",
      "{'Gulab Jamun': 120, 'Chocolate Cake': 180}\n",
      "{'Coke': 50, 'Lemonade': 60, 'Coffee': 80}\n"
     ]
    }
   ],
   "source": [
    "# want to iterate only values\n",
    "for value in menu.values():\n",
    "    print(value)"
   ]
  },
  {
   "cell_type": "code",
   "execution_count": null,
   "metadata": {},
   "outputs": [],
   "source": []
  }
 ],
 "metadata": {
  "kernelspec": {
   "display_name": "Python 3",
   "language": "python",
   "name": "python3"
  },
  "language_info": {
   "codemirror_mode": {
    "name": "ipython",
    "version": 3
   },
   "file_extension": ".py",
   "mimetype": "text/x-python",
   "name": "python",
   "nbconvert_exporter": "python",
   "pygments_lexer": "ipython3",
   "version": "3.12.8"
  }
 },
 "nbformat": 4,
 "nbformat_minor": 2
}
