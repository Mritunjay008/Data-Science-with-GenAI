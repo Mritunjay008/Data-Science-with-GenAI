{
 "cells": [
  {
   "cell_type": "markdown",
   "metadata": {},
   "source": [
    "# ****Data Toolkit****"
   ]
  },
  {
   "cell_type": "markdown",
   "metadata": {},
   "source": [
    "### 1. What is Numpy, and why is it widely used in python?\n",
    "Numpy(Numerical Python) is a library in python which provides us advance mathmatical functions and supports multi-dimensional arrays. It is more efficient then previous libraries built in python as it is implemented in c."
   ]
  },
  {
   "cell_type": "markdown",
   "metadata": {},
   "source": [
    "### 2. A How does broadcasting work in NumPy?\n",
    "Broadcasting in numpy perform operations on arrays of diffrent shapes without explicitly replicating data. When performing operations on arrays of diffrent size, Numpy automatically expands the similar array to match the shapes of the larger one \n",
    "\n",
    "```python\n",
    "import numpy as np\n",
    "A = np.array([[1, 2, 3]])  # Shape (1, 3)\n",
    "B = np.array([[4], [5], [6]])  # Shape (3, 1)\n",
    "A+B\n",
    "```\n",
    "```\n",
    "A = [1, 2, 3]\n",
    "B = [[4],\n",
    "    [5],\n",
    "    [6]]\n",
    "```\n",
    "```\n",
    "output illustration\n",
    "1 2 3   4 4 4   5 6 7\n",
    "1 2 3 + 5 5 5 = 6 7 8\n",
    "1 2 3   6 6 6   7 8 9\n",
    "```"
   ]
  },
  {
   "cell_type": "markdown",
   "metadata": {},
   "source": [
    "### 3. What is a Pandas DataFrame?\n",
    "In pandas DataFrame is a two dimensional, labeled datastructure similar to Excel or csv file. In dataframe each column can hold diffrent datatypes."
   ]
  },
  {
   "cell_type": "markdown",
   "metadata": {},
   "source": [
    "### 4. Explain the use of the groupby() method in Pandas.\n",
    "groupby() function in python helps us to segment the dataset group wise and then we can act upon it menas we can apply diffrent functions like aggregation."
   ]
  },
  {
   "cell_type": "markdown",
   "metadata": {},
   "source": [
    "### 5. Why is Seaborn preferred for statistical visualizations?\n",
    "We genrally preferred seaborn for statistical data visualization because it is built on top of matplotlib and provides a simpler way to built visualization. And it also comes with attractive themes and color palettes. It works hasale - free on pandas dataframes."
   ]
  },
  {
   "cell_type": "markdown",
   "metadata": {},
   "source": [
    "### 6. What are the differences between NumPy arrays and Python lists?\n",
    "The key diffrence between Numpy arrays and python list is numpy array only accepts same datatype means datatype across the array will be same that's why it can store the data contiguously in memory that's why it is fast. But in python list we can store diffrent types of data as well that's why it is slow as compare to numpy array."
   ]
  },
  {
   "cell_type": "markdown",
   "metadata": {},
   "source": [
    "### 7. What is a heatmap, and when should it be used?\n",
    "A heatmap is a graphical representation of data where individual values are represented using color gredients. It helps us to visualize patterns, correlations, and density variations in large dataset.It is commonly used for correlations matrices, density visualization, and machine learning confusion matrices."
   ]
  },
  {
   "cell_type": "markdown",
   "metadata": {},
   "source": [
    "### 8. What does the term “vectorized operation” mean in NumPy?\n",
    "vectorized operation in Numpy refers to performing elements wise opeartions without using explicit loops. A vectorized operations is an operation applied to entire arrays without using explicit loops, making computation faster and more efficient as it is optimized in C.</br>\n",
    "e.g : arithmetic, trigonometric and matrix multiplication."
   ]
  },
  {
   "cell_type": "markdown",
   "metadata": {},
   "source": [
    "### 9. How does Matplotlib differ from Plotly?\n",
    "Matplotlib is a powerful library forcreating static, publication-quality plots, while plotty is used for interactive visualizations. Matplotlib is great for traditional plots in research and reports, whereas plotty is better suited for web application and dashboard due to it's built in interactivity."
   ]
  },
  {
   "cell_type": "markdown",
   "metadata": {},
   "source": [
    "### 10. What is the significance of hierarchical indexing in Pandas?\n",
    "Hierarchical indexing (also called multi-level indexing) allows multiple index levels on rows and columns, making complex datasets more structured and easier to analyze. It helps us to easily use any functions."
   ]
  },
  {
   "cell_type": "markdown",
   "metadata": {},
   "source": [
    "### 11. What is the role of Seaborn’s pairplot() function?\n",
    "pairplot() in Seaborn is used to visualize pairwise relationships between numerical variables ina dataset. it helps detect patterns, correlation and distributions efficiently, Making it useful for EDA."
   ]
  },
  {
   "cell_type": "markdown",
   "metadata": {},
   "source": [
    "### 12.  What is the purpose of the describe() function in Pandas?\n",
    "describe function in pandas gives us statistical data for numerical columns, including count, mean, standard deviation, min, max and quartiles. It helps analyze data distribution and detect outlier efficiently."
   ]
  },
  {
   "cell_type": "markdown",
   "metadata": {},
   "source": [
    "### 13. Why is handling missing data important in Pandas?\n",
    "Handling missing data in Pandas is crucial to ensures data consistency and accuracy. For this we have 2 methods either delete it or handle or replace it with statistics like mean, median or mode"
   ]
  },
  {
   "cell_type": "markdown",
   "metadata": {},
   "source": [
    "### 14. What are the benefits of using Plotly for data visualization?\n",
    "Plotty is preferred for data visualization due to it's interactive capabilities, web-based rendering, It support advanced chart types, and seemless integration with dash building dashboards."
   ]
  },
  {
   "cell_type": "markdown",
   "metadata": {},
   "source": [
    "### 15. How does NumPy handle multidimensional arrays?\n",
    "Numpy handles multidimensional arrays using ndarray, It provides us efficient storage, fast computation, indexing and reshaping for optimized mathmatical operations."
   ]
  },
  {
   "cell_type": "markdown",
   "metadata": {},
   "source": [
    "### 16. What is the role of Bokeh in data visualization?\n",
    "Bokeh is a python library for creating interactive, we-friendly visualizations, supporting large datasets, real-time updates and it also give seamless integration with web applications."
   ]
  },
  {
   "cell_type": "markdown",
   "metadata": {},
   "source": [
    "### 17.  Explain the difference between apply() and map() in Pandas?\n",
    "apply() function will take every element from a data series or series and apply the opeartion or function on every element of datastructure and map() is used to target each element of a series for applying some functions."
   ]
  },
  {
   "cell_type": "markdown",
   "metadata": {},
   "source": [
    "### 18. What are some advanced features of NumPy?\n",
    "Here are some advance features of numpy\n",
    "1. Array indexing \n",
    "2. Array opeartion\n",
    "3. vectorization\n",
    "4. Broadcasting\n",
    "5. Strides\n",
    "6. creating arrys of zeros, ones"
   ]
  },
  {
   "cell_type": "markdown",
   "metadata": {},
   "source": [
    "### 19. How does Pandas simplify time series analysis?\n",
    "Pandas simplifies time series analysis by providing DatetimeiIndex and Timestamp for better effiecient time manipulation. It also gives us resample() and timezone support and many more fubctions."
   ]
  },
  {
   "cell_type": "markdown",
   "metadata": {},
   "source": [
    "### 20. What is the role of a pivot table in Pandas?\n",
    "A pivot table in Pandas is used to summarize, group, and reshape data efficiently. It helps in analyzing large datasets by performing operations like aggregation, filtering, and sorting."
   ]
  },
  {
   "cell_type": "markdown",
   "metadata": {},
   "source": [
    "### 21. Why is NumPy’s array slicing faster than Python’s list slicing?\n",
    "because numpy is developed in c and it is one of the fastest language that's why it works faster than list slicing and numpy array's data is sored contiguously."
   ]
  },
  {
   "cell_type": "markdown",
   "metadata": {},
   "source": [
    "### 21.  What are some common use cases for Seaborn?\n",
    "We genrally use Seaborn to create heatmaps, categorical data visualization, distribution analysis, timeseries data, regressive analysis and many more use cases."
   ]
  },
  {
   "cell_type": "markdown",
   "metadata": {},
   "source": [
    "# ***Practical***"
   ]
  },
  {
   "cell_type": "markdown",
   "metadata": {},
   "source": [
    "### 1. How do you create a 2D NumPy array and calculate the sum of each row?"
   ]
  },
  {
   "cell_type": "code",
   "execution_count": 8,
   "metadata": {},
   "outputs": [
    {
     "data": {
      "text/plain": [
       "array([[1, 2, 3],\n",
       "       [4, 5, 6]])"
      ]
     },
     "execution_count": 8,
     "metadata": {},
     "output_type": "execute_result"
    }
   ],
   "source": [
    "import numpy as np\n",
    "arr = np.array([[1, 2, 3], [4, 5, 6]])\n",
    "arr"
   ]
  },
  {
   "cell_type": "code",
   "execution_count": 9,
   "metadata": {},
   "outputs": [
    {
     "data": {
      "text/plain": [
       "array([ 6, 15])"
      ]
     },
     "execution_count": 9,
     "metadata": {},
     "output_type": "execute_result"
    }
   ],
   "source": [
    "np.sum(arr, axis=1)"
   ]
  },
  {
   "cell_type": "markdown",
   "metadata": {},
   "source": [
    "### 2. Write a Pandas script to find the mean of a specific column in a DataFrame."
   ]
  },
  {
   "cell_type": "code",
   "execution_count": 12,
   "metadata": {},
   "outputs": [
    {
     "data": {
      "text/html": [
       "<div>\n",
       "<style scoped>\n",
       "    .dataframe tbody tr th:only-of-type {\n",
       "        vertical-align: middle;\n",
       "    }\n",
       "\n",
       "    .dataframe tbody tr th {\n",
       "        vertical-align: top;\n",
       "    }\n",
       "\n",
       "    .dataframe thead th {\n",
       "        text-align: right;\n",
       "    }\n",
       "</style>\n",
       "<table border=\"1\" class=\"dataframe\">\n",
       "  <thead>\n",
       "    <tr style=\"text-align: right;\">\n",
       "      <th></th>\n",
       "      <th>a</th>\n",
       "      <th>b</th>\n",
       "    </tr>\n",
       "  </thead>\n",
       "  <tbody>\n",
       "    <tr>\n",
       "      <th>0</th>\n",
       "      <td>1</td>\n",
       "      <td>4</td>\n",
       "    </tr>\n",
       "    <tr>\n",
       "      <th>1</th>\n",
       "      <td>2</td>\n",
       "      <td>5</td>\n",
       "    </tr>\n",
       "    <tr>\n",
       "      <th>2</th>\n",
       "      <td>3</td>\n",
       "      <td>6</td>\n",
       "    </tr>\n",
       "    <tr>\n",
       "      <th>3</th>\n",
       "      <td>4</td>\n",
       "      <td>7</td>\n",
       "    </tr>\n",
       "  </tbody>\n",
       "</table>\n",
       "</div>"
      ],
      "text/plain": [
       "   a  b\n",
       "0  1  4\n",
       "1  2  5\n",
       "2  3  6\n",
       "3  4  7"
      ]
     },
     "execution_count": 12,
     "metadata": {},
     "output_type": "execute_result"
    }
   ],
   "source": [
    "import pandas as pd \n",
    "df1 = pd.DataFrame({\n",
    "    'a':[1, 2, 3, 4],\n",
    "    'b':[4, 5, 6, 7]\n",
    "})\n",
    "df1"
   ]
  },
  {
   "cell_type": "code",
   "execution_count": 13,
   "metadata": {},
   "outputs": [
    {
     "data": {
      "text/plain": [
       "np.float64(2.5)"
      ]
     },
     "execution_count": 13,
     "metadata": {},
     "output_type": "execute_result"
    }
   ],
   "source": [
    "df1['a'].mean()"
   ]
  },
  {
   "cell_type": "markdown",
   "metadata": {},
   "source": [
    "### 3. Create a scatter plot using Matplotlib?"
   ]
  },
  {
   "cell_type": "code",
   "execution_count": 16,
   "metadata": {},
   "outputs": [
    {
     "data": {
      "image/png": "[encoded data removed]",
      "text/plain": [
       "<Figure size 640x480 with 1 Axes>"
      ]
     },
     "metadata": {},
     "output_type": "display_data"
    }
   ],
   "source": [
    "import matplotlib.pyplot as plt\n",
    "import numpy as np\n",
    "\n",
    "x = np.random.rand(50)\n",
    "y = np.random.rand(50)\n",
    "colors = np.random.rand(50)\n",
    "sizes = 1000 * np.random.rand(50)\n",
    "\n",
    "# Create the scatter plot\n",
    "plt.scatter(x, y, c=colors, s=sizes, alpha=0.5)\n",
    "\n",
    "# Add labels and title\n",
    "plt.xlabel(\"X-axis\")\n",
    "plt.ylabel(\"Y-axis\")\n",
    "plt.title(\"Scatter Plot Example\")\n",
    "\n",
    "# Display the plot\n",
    "plt.show()"
   ]
  },
  {
   "cell_type": "markdown",
   "metadata": {},
   "source": [
    "### 4. How do you calculate the correlation matrix using Seaborn and visualize it with a heatmap"
   ]
  },
  {
   "cell_type": "code",
   "execution_count": 1,
   "metadata": {},
   "outputs": [
    {
     "data": {
      "image/png": "[encoded data removed]",
      "text/plain": [
       "<Figure size 500x600 with 2 Axes>"
      ]
     },
     "metadata": {},
     "output_type": "display_data"
    }
   ],
   "source": [
    "import pandas as pd \n",
    "import seaborn as sb \n",
    "import matplotlib.pyplot as plt\n",
    "\n",
    "url = \"https://raw.githubusercontent.com/datasciencedojo/datasets/refs/heads/master/titanic.csv\"\n",
    "df = pd.read_csv(url)\n",
    "\n",
    "cor_matrix = df.corr(numeric_only=True)\n",
    "\n",
    "plt.figure(figsize=(5, 6))\n",
    "sb.heatmap(cor_matrix, annot=True, cmap='coolwarm', fmt=\".2f\", linewidths=0.5)\n",
    "\n",
    "plt.title(\"Correlation Matrix Heatmap\")\n",
    "plt.show()"
   ]
  },
  {
   "cell_type": "markdown",
   "metadata": {},
   "source": [
    "### 5. Generate a bar plot using Plotly."
   ]
  },
  {
   "cell_type": "code",
   "execution_count": 2,
   "metadata": {},
   "outputs": [
    {
     "data": {
      "application/vnd.plotly.v1+json": {
       "config": {
        "plotlyServerURL": "https://plot.ly"
       },
       "data": [
        {
         "alignmentgroup": "True",
         "hovertemplate": "Sex=male<br>Pclass=%{x}<br>index=%{y}<extra></extra>",
         "legendgroup": "male",
         "marker": {
          "color": "#636efa",
          "pattern": {
           "shape": ""
          }
         },
         "name": "male",
         "offsetgroup": "male",
         "orientation": "h",
         "showlegend": true,
         "textposition": "auto",
         "type": "bar",
         "x": {
          "bdata": "AwMDAQMDAwMCAgIBAwEDAQIBAQMDAwMDAwMDAQEDAwMBAwEDAwMCAgMDAwMDAgMDAQMDAwMDAQMDAwEBAgMBAwMDAwMBAwMDAgECAwIBAwMDAwMDAgIBAwEDAgIDAgICAwMDAQMDAwMDAwMDAQMBAwMBAwMCAwIDAgEBAwMCAgMDAwMDAwMDAwEDAwIDAgIDAgMDAQMCAwIDAgICAgICAwMBAQIDAQMDAwEBAgMDAQMBAgMDAwMDAQMDAwICAwEDAQMDAwECAwICAwMDAwEBAwMBAwECAgICAwMDAQMDAwMDAgMDAwEDAwEBAwMDAwIDAwEDAwMCAgMDAwIDAgMDAwIDAgMDAwMDAwMBAwEBAgMDAwEBAQIDAQEDAwEDAQMBAgMDAgEDAwMBAgMDAwIDAQEDAwMDAQEDAwMDAwEBAwMDAwEDAQMDAwMDAwEDAgMDAQMCAQECAwIBAgMDAQEDAwIDAwMDAwIBAwMDAgEDAgEDAwMDAgMDAwEDAQMBAwMBAwMDAwIDAQMDAwECAwMBAwEBAwIDAwMBAwEDAwMCAwIBAQMBAwMCAgMDAQICAgMDAQEDAwICAwMDAQMDAQIDAQMBAwMCAQMBAQMCAwMDAwICAQMCAwICAgMBAwMBAQMDAQMBAwMDAwIDAgMDAwMDAQMDAwMDAwMDAQMDAwMDAQMCAQMCAwIBAwMDAQIDAwIDAQIDAwMBAwMDAgMCAwMDAwMDAQMCAwMDAwMCAwMBAwMCAgEDAwMBAwMDAwMCAwIBAw==",
          "dtype": "i1"
         },
         "xaxis": "x",
         "y": {
          "bdata": "AAAEAAUABgAHAAwADQAQABEAFAAVABcAGgAbAB0AHgAhACIAIwAkACUAKgAtAC4AMAAyADMANgA3ADkAOwA8AD4APwBAAEEAQwBFAEYASABJAEoASwBMAE0ATgBQAFEAUwBWAFcAWQBaAFsAXABdAF4AXwBgAGEAYwBlAGYAZwBoAGkAawBsAG4AcABzAHQAdQB2AHgAeQB6AHwAfQB+AH8AgQCCAIMAhgCHAIkAigCLAI8AkACRAJIAlACVAJYAmACZAJoAmwCdAJ4AnwCgAKIAowCkAKUAqACpAKoAqwCtAK4ArwCwALIAswC1ALYAtwC5ALsAvAC9AL8AwQDEAMUAyADJAMoAywDMAM4AzwDRANIA1ADVANYA2QDbANwA3QDeAN8A4ADhAOIA4wDkAOcA6ADqAOwA7gDvAPIA8wD0APUA+AD5APoA/AD9AAQBBQEGAQcBCQEKAQsBDgEPAREBFQEWARgBGQEaARsBHAEdAR4BHwEgASQBJgEnASgBKgEtAS4BMAExATQBOQE6AT0BQAFBAUQBRgFLAUwBTQFPAVABUgFTAVQBVgFXAVgBXAFdAV4BXwFgAWEBYgFjAWgBaQFrAWwBbQFyAXMBdAF1AXkBegF7AX4BgAGBAYIBhAGGAYcBiAGLAY0BjgGQAZEBkwGVAZYBlwGYAZoBmwGdAZ4BogGkAaUBpgGoAakBrAGtAa4BsQGyAbYBtwG5AboBvAG9Ab8BwQHCAcMBxAHFAcYBxwHIAcsBzAHNAc4BzwHQAdEB0gHTAdQB1gHXAdsB3AHdAd4B4AHhAeIB5AHnAegB6QHqAesB7AHtAe4B7wHxAfMB9AH5AfsB/AH9Af4B/wEAAgICAwIFAgcCCQIKAgwCDQIPAhACEQITAhQCGAIaAh8CIAIhAiMCJAIlAiYCJwIoAikCKwItAjACMQIyAjMCNQI2AjgCOQI6AjwCPgI/AkMCRgJHAkgCSgJLAkwCTQJOAlACUgJTAlUCVgJXAlkCWgJbAlwCXQJeAl8CYwJlAmYCaAJrAmwCbQJuAm8CcAJxAnICdAJ1AnYCdwJ4AnkCfAJ9An8CgAKDAoUChgKHAogCigKMAo8CkAKSApMClAKVApYClwKYApkCmgKbApwCnwKgAqECogKjAqQCpwKpAqoCqwKsAq0CrgKvArACsgK0ArUCtgK3ArgCugK7Ar0CvwLAAsECwwLFAscCyALJAsoCywLOAs8C0QLSAtMC1ALVAtgC2wLcAt0C3gLfAuEC4gLjAuQC5QLnAugC6QLqAuwC7QLvAvAC8QLzAvQC9QL2AvgC+QL6AvwC/gIAAwEDAgMDAwUDBwMIAwoDDgMPAxADEQMTAxQDFQMWAxcDGQMaAxsDHgMgAyIDIwMkAyUDJgMoAyoDKwMsAy4DLwMxAzIDMwM1AzYDOAM5AzoDOwM8Az8DQANBA0IDRANFA0YDRwNIA0kDSwNMA00DTgNPA1ADUgNTA1kDWwNcA10DYANjA2QDZQNmA2gDaQNsA20DbgNxA3MDdAN2A3kDegM=",
          "dtype": "i2"
         },
         "yaxis": "y"
        },
        {
         "alignmentgroup": "True",
         "hovertemplate": "Sex=female<br>Pclass=%{x}<br>index=%{y}<extra></extra>",
         "legendgroup": "female",
         "marker": {
          "color": "#EF553B",
          "pattern": {
           "shape": ""
          }
         },
         "name": "female",
         "offsetgroup": "female",
         "orientation": "h",
         "showlegend": true,
         "textposition": "auto",
         "type": "bar",
         "x": {
          "bdata": "AQMBAwIDAQMCAwMDAwMDAQMDAwMCAgMDAwECAgIBAgMDAwMCAwECAwMDAwMDAwIDAwIBAwMDAwEDAgEDAwEDAwMCAwEBAwIDAwIBAwEDAQMDAgMDAwIDAwMBAQECAwEBAgMBAwMDAQEDAQEDAgEBAQEBAgMCAQECAgECAwEDAQEBAgIDAQIDAwMBAwMBAwEDAQMBAgIBAwMCAwMDAQMCAgMDAgIDAgEDAgICAgMBAgMCAgMDAwMBAQEDAwMBAgECAgEBAgIDAwIBAQEDAwIDAQEDAwMBAwIBAwIBAQEDAgICAQMDAgMCAQMCAwEDAwMCAwMDAQIDAwMBAwMBAwIBAQECAgIDAwEDAQICAgEBAQMCAgMBAwEDAwEDAwIDAQMDAQMBAwEBAQMBAgMBAwEDAgIBAgMBAgMDAQM=",
          "dtype": "i1"
         },
         "xaxis": "x",
         "y": {
          "bdata": "AQACAAMACAAJAAoACwAOAA8AEgATABYAGAAZABwAHwAgACYAJwAoACkAKwAsAC8AMQA0ADUAOAA6AD0AQgBEAEcATwBSAFQAVQBYAGIAZABqAG0AbwBxAHIAdwB7AIAAhACFAIgAjACNAI4AkwCXAJwAoQCmAKcArACxALQAuAC6AL4AwADCAMMAxgDHAM0A0ADTANcA2ADaAOUA5gDpAOsA7QDwAPEA9gD3APsA/gD/AAABAQECAQMBCAEMAQ0BEAESARMBFAEXASEBIgEjASUBKQErASwBLwEyATMBNQE2ATcBOAE7ATwBPgE/AUIBQwFFAUcBSAFJAUoBTgFRAVUBWQFaAVsBZAFlAWYBZwFqAW4BbwFwAXEBdgF3AXgBfAF9AX8BgwGFAYkBigGMAY8BkgGUAZkBnAGfAaABoQGjAacBqgGrAa8BsAGzAbQBtQG4AbsBvgHAAckBygHVAdgB2QHaAd8B4wHlAeYB8AHyAfUB9gH3AfgB+gEBAgQCBgIIAgsCDgISAhUCFgIXAhkCGwIcAh0CHgIiAioCLAIuAi8CNAI3AjsCPQJAAkECQgJEAkUCSQJPAlECVAJYAmACYQJiAmQCZwJpAmoCcwJ6AnsCfgKBAoIChAKJAosCjQKOApECnQKeAqUCpgKoArECswK5ArwCvgLCAsQCxgLMAs0C0ALWAtcC2QLaAuAC5gLrAu4C8gL3AvsC/QL/AgQDBgMJAwsDDAMNAxIDGAMcAx0DHwMhAycDKQMtAzADNAM3Az0DPgNDA0oDUQNUA1UDVgNXA1gDWgNeA18DYQNiA2cDagNrA28DcANyA3UDdwN4Aw==",
          "dtype": "i2"
         },
         "yaxis": "y"
        }
       ],
       "layout": {
        "barmode": "group",
        "legend": {
         "title": {
          "text": "Sex"
         },
         "tracegroupgap": 0
        },
        "template": {
         "data": {
          "bar": [
           {
            "error_x": {
             "color": "#2a3f5f"
            },
            "error_y": {
             "color": "#2a3f5f"
            },
            "marker": {
             "line": {
              "color": "#E5ECF6",
              "width": 0.5
             },
             "pattern": {
              "fillmode": "overlay",
              "size": 10,
              "solidity": 0.2
             }
            },
            "type": "bar"
           }
          ],
          "barpolar": [
           {
            "marker": {
             "line": {
              "color": "#E5ECF6",
              "width": 0.5
             },
             "pattern": {
              "fillmode": "overlay",
              "size": 10,
              "solidity": 0.2
             }
            },
            "type": "barpolar"
           }
          ],
          "carpet": [
           {
            "aaxis": {
             "endlinecolor": "#2a3f5f",
             "gridcolor": "white",
             "linecolor": "white",
             "minorgridcolor": "white",
             "startlinecolor": "#2a3f5f"
            },
            "baxis": {
             "endlinecolor": "#2a3f5f",
             "gridcolor": "white",
             "linecolor": "white",
             "minorgridcolor": "white",
             "startlinecolor": "#2a3f5f"
            },
            "type": "carpet"
           }
          ],
          "choropleth": [
           {
            "colorbar": {
             "outlinewidth": 0,
             "ticks": ""
            },
            "type": "choropleth"
           }
          ],
          "contour": [
           {
            "colorbar": {
             "outlinewidth": 0,
             "ticks": ""
            },
            "colorscale": [
             [
              0,
              "#0d0887"
             ],
             [
              0.1111111111111111,
              "#46039f"
             ],
             [
              0.2222222222222222,
              "#7201a8"
             ],
             [
              0.3333333333333333,
              "#9c179e"
             ],
             [
              0.4444444444444444,
              "#bd3786"
             ],
             [
              0.5555555555555556,
              "#d8576b"
             ],
             [
              0.6666666666666666,
              "#ed7953"
             ],
             [
              0.7777777777777778,
              "#fb9f3a"
             ],
             [
              0.8888888888888888,
              "#fdca26"
             ],
             [
              1,
              "#f0f921"
             ]
            ],
            "type": "contour"
           }
          ],
          "contourcarpet": [
           {
            "colorbar": {
             "outlinewidth": 0,
             "ticks": ""
            },
            "type": "contourcarpet"
           }
          ],
          "heatmap": [
           {
            "colorbar": {
             "outlinewidth": 0,
             "ticks": ""
            },
            "colorscale": [
             [
              0,
              "#0d0887"
             ],
             [
              0.1111111111111111,
              "#46039f"
             ],
             [
              0.2222222222222222,
              "#7201a8"
             ],
             [
              0.3333333333333333,
              "#9c179e"
             ],
             [
              0.4444444444444444,
              "#bd3786"
             ],
             [
              0.5555555555555556,
              "#d8576b"
             ],
             [
              0.6666666666666666,
              "#ed7953"
             ],
             [
              0.7777777777777778,
              "#fb9f3a"
             ],
             [
              0.8888888888888888,
              "#fdca26"
             ],
             [
              1,
              "#f0f921"
             ]
            ],
            "type": "heatmap"
           }
          ],
          "histogram": [
           {
            "marker": {
             "pattern": {
              "fillmode": "overlay",
              "size": 10,
              "solidity": 0.2
             }
            },
            "type": "histogram"
           }
          ],
          "histogram2d": [
           {
            "colorbar": {
             "outlinewidth": 0,
             "ticks": ""
            },
            "colorscale": [
             [
              0,
              "#0d0887"
             ],
             [
              0.1111111111111111,
              "#46039f"
             ],
             [
              0.2222222222222222,
              "#7201a8"
             ],
             [
              0.3333333333333333,
              "#9c179e"
             ],
             [
              0.4444444444444444,
              "#bd3786"
             ],
             [
              0.5555555555555556,
              "#d8576b"
             ],
             [
              0.6666666666666666,
              "#ed7953"
             ],
             [
              0.7777777777777778,
              "#fb9f3a"
             ],
             [
              0.8888888888888888,
              "#fdca26"
             ],
             [
              1,
              "#f0f921"
             ]
            ],
            "type": "histogram2d"
           }
          ],
          "histogram2dcontour": [
           {
            "colorbar": {
             "outlinewidth": 0,
             "ticks": ""
            },
            "colorscale": [
             [
              0,
              "#0d0887"
             ],
             [
              0.1111111111111111,
              "#46039f"
             ],
             [
              0.2222222222222222,
              "#7201a8"
             ],
             [
              0.3333333333333333,
              "#9c179e"
             ],
             [
              0.4444444444444444,
              "#bd3786"
             ],
             [
              0.5555555555555556,
              "#d8576b"
             ],
             [
              0.6666666666666666,
              "#ed7953"
             ],
             [
              0.7777777777777778,
              "#fb9f3a"
             ],
             [
              0.8888888888888888,
              "#fdca26"
             ],
             [
              1,
              "#f0f921"
             ]
            ],
            "type": "histogram2dcontour"
           }
          ],
          "mesh3d": [
           {
            "colorbar": {
             "outlinewidth": 0,
             "ticks": ""
            },
            "type": "mesh3d"
           }
          ],
          "parcoords": [
           {
            "line": {
             "colorbar": {
              "outlinewidth": 0,
              "ticks": ""
             }
            },
            "type": "parcoords"
           }
          ],
          "pie": [
           {
            "automargin": true,
            "type": "pie"
           }
          ],
          "scatter": [
           {
            "fillpattern": {
             "fillmode": "overlay",
             "size": 10,
             "solidity": 0.2
            },
            "type": "scatter"
           }
          ],
          "scatter3d": [
           {
            "line": {
             "colorbar": {
              "outlinewidth": 0,
              "ticks": ""
             }
            },
            "marker": {
             "colorbar": {
              "outlinewidth": 0,
              "ticks": ""
             }
            },
            "type": "scatter3d"
           }
          ],
          "scattercarpet": [
           {
            "marker": {
             "colorbar": {
              "outlinewidth": 0,
              "ticks": ""
             }
            },
            "type": "scattercarpet"
           }
          ],
          "scattergeo": [
           {
            "marker": {
             "colorbar": {
              "outlinewidth": 0,
              "ticks": ""
             }
            },
            "type": "scattergeo"
           }
          ],
          "scattergl": [
           {
            "marker": {
             "colorbar": {
              "outlinewidth": 0,
              "ticks": ""
             }
            },
            "type": "scattergl"
           }
          ],
          "scattermap": [
           {
            "marker": {
             "colorbar": {
              "outlinewidth": 0,
              "ticks": ""
             }
            },
            "type": "scattermap"
           }
          ],
          "scattermapbox": [
           {
            "marker": {
             "colorbar": {
              "outlinewidth": 0,
              "ticks": ""
             }
            },
            "type": "scattermapbox"
           }
          ],
          "scatterpolar": [
           {
            "marker": {
             "colorbar": {
              "outlinewidth": 0,
              "ticks": ""
             }
            },
            "type": "scatterpolar"
           }
          ],
          "scatterpolargl": [
           {
            "marker": {
             "colorbar": {
              "outlinewidth": 0,
              "ticks": ""
             }
            },
            "type": "scatterpolargl"
           }
          ],
          "scatterternary": [
           {
            "marker": {
             "colorbar": {
              "outlinewidth": 0,
              "ticks": ""
             }
            },
            "type": "scatterternary"
           }
          ],
          "surface": [
           {
            "colorbar": {
             "outlinewidth": 0,
             "ticks": ""
            },
            "colorscale": [
             [
              0,
              "#0d0887"
             ],
             [
              0.1111111111111111,
              "#46039f"
             ],
             [
              0.2222222222222222,
              "#7201a8"
             ],
             [
              0.3333333333333333,
              "#9c179e"
             ],
             [
              0.4444444444444444,
              "#bd3786"
             ],
             [
              0.5555555555555556,
              "#d8576b"
             ],
             [
              0.6666666666666666,
              "#ed7953"
             ],
             [
              0.7777777777777778,
              "#fb9f3a"
             ],
             [
              0.8888888888888888,
              "#fdca26"
             ],
             [
              1,
              "#f0f921"
             ]
            ],
            "type": "surface"
           }
          ],
          "table": [
           {
            "cells": {
             "fill": {
              "color": "#EBF0F8"
             },
             "line": {
              "color": "white"
             }
            },
            "header": {
             "fill": {
              "color": "#C8D4E3"
             },
             "line": {
              "color": "white"
             }
            },
            "type": "table"
           }
          ]
         },
         "layout": {
          "annotationdefaults": {
           "arrowcolor": "#2a3f5f",
           "arrowhead": 0,
           "arrowwidth": 1
          },
          "autotypenumbers": "strict",
          "coloraxis": {
           "colorbar": {
            "outlinewidth": 0,
            "ticks": ""
           }
          },
          "colorscale": {
           "diverging": [
            [
             0,
             "#8e0152"
            ],
            [
             0.1,
             "#c51b7d"
            ],
            [
             0.2,
             "#de77ae"
            ],
            [
             0.3,
             "#f1b6da"
            ],
            [
             0.4,
             "#fde0ef"
            ],
            [
             0.5,
             "#f7f7f7"
            ],
            [
             0.6,
             "#e6f5d0"
            ],
            [
             0.7,
             "#b8e186"
            ],
            [
             0.8,
             "#7fbc41"
            ],
            [
             0.9,
             "#4d9221"
            ],
            [
             1,
             "#276419"
            ]
           ],
           "sequential": [
            [
             0,
             "#0d0887"
            ],
            [
             0.1111111111111111,
             "#46039f"
            ],
            [
             0.2222222222222222,
             "#7201a8"
            ],
            [
             0.3333333333333333,
             "#9c179e"
            ],
            [
             0.4444444444444444,
             "#bd3786"
            ],
            [
             0.5555555555555556,
             "#d8576b"
            ],
            [
             0.6666666666666666,
             "#ed7953"
            ],
            [
             0.7777777777777778,
             "#fb9f3a"
            ],
            [
             0.8888888888888888,
             "#fdca26"
            ],
            [
             1,
             "#f0f921"
            ]
           ],
           "sequentialminus": [
            [
             0,
             "#0d0887"
            ],
            [
             0.1111111111111111,
             "#46039f"
            ],
            [
             0.2222222222222222,
             "#7201a8"
            ],
            [
             0.3333333333333333,
             "#9c179e"
            ],
            [
             0.4444444444444444,
             "#bd3786"
            ],
            [
             0.5555555555555556,
             "#d8576b"
            ],
            [
             0.6666666666666666,
             "#ed7953"
            ],
            [
             0.7777777777777778,
             "#fb9f3a"
            ],
            [
             0.8888888888888888,
             "#fdca26"
            ],
            [
             1,
             "#f0f921"
            ]
           ]
          },
          "colorway": [
           "#636efa",
           "#EF553B",
           "#00cc96",
           "#ab63fa",
           "#FFA15A",
           "#19d3f3",
           "#FF6692",
           "#B6E880",
           "#FF97FF",
           "#FECB52"
          ],
          "font": {
           "color": "#2a3f5f"
          },
          "geo": {
           "bgcolor": "white",
           "lakecolor": "white",
           "landcolor": "#E5ECF6",
           "showlakes": true,
           "showland": true,
           "subunitcolor": "white"
          },
          "hoverlabel": {
           "align": "left"
          },
          "hovermode": "closest",
          "mapbox": {
           "style": "light"
          },
          "paper_bgcolor": "white",
          "plot_bgcolor": "#E5ECF6",
          "polar": {
           "angularaxis": {
            "gridcolor": "white",
            "linecolor": "white",
            "ticks": ""
           },
           "bgcolor": "#E5ECF6",
           "radialaxis": {
            "gridcolor": "white",
            "linecolor": "white",
            "ticks": ""
           }
          },
          "scene": {
           "xaxis": {
            "backgroundcolor": "#E5ECF6",
            "gridcolor": "white",
            "gridwidth": 2,
            "linecolor": "white",
            "showbackground": true,
            "ticks": "",
            "zerolinecolor": "white"
           },
           "yaxis": {
            "backgroundcolor": "#E5ECF6",
            "gridcolor": "white",
            "gridwidth": 2,
            "linecolor": "white",
            "showbackground": true,
            "ticks": "",
            "zerolinecolor": "white"
           },
           "zaxis": {
            "backgroundcolor": "#E5ECF6",
            "gridcolor": "white",
            "gridwidth": 2,
            "linecolor": "white",
            "showbackground": true,
            "ticks": "",
            "zerolinecolor": "white"
           }
          },
          "shapedefaults": {
           "line": {
            "color": "#2a3f5f"
           }
          },
          "ternary": {
           "aaxis": {
            "gridcolor": "white",
            "linecolor": "white",
            "ticks": ""
           },
           "baxis": {
            "gridcolor": "white",
            "linecolor": "white",
            "ticks": ""
           },
           "bgcolor": "#E5ECF6",
           "caxis": {
            "gridcolor": "white",
            "linecolor": "white",
            "ticks": ""
           }
          },
          "title": {
           "x": 0.05
          },
          "xaxis": {
           "automargin": true,
           "gridcolor": "white",
           "linecolor": "white",
           "ticks": "",
           "title": {
            "standoff": 15
           },
           "zerolinecolor": "white",
           "zerolinewidth": 2
          },
          "yaxis": {
           "automargin": true,
           "gridcolor": "white",
           "linecolor": "white",
           "ticks": "",
           "title": {
            "standoff": 15
           },
           "zerolinecolor": "white",
           "zerolinewidth": 2
          }
         }
        },
        "title": {
         "text": "Passenger count by class and gender"
        },
        "xaxis": {
         "anchor": "y",
         "domain": [
          0,
          1
         ],
         "title": {
          "text": "Pclass"
         }
        },
        "yaxis": {
         "anchor": "x",
         "domain": [
          0,
          1
         ],
         "title": {
          "text": "index"
         }
        }
       }
      }
     },
     "metadata": {},
     "output_type": "display_data"
    }
   ],
   "source": [
    "import plotly.express as px\n",
    "\n",
    "url = \"https://raw.githubusercontent.com/datasciencedojo/datasets/refs/heads/master/titanic.csv\"\n",
    "df = pd.read_csv(url)\n",
    "\n",
    "fig = px.bar(df, x=\"Pclass\", color=\"Sex\", title=\"Passenger count by class and gender\", barmode=\"group\")\n",
    "\n",
    "fig.show()"
   ]
  },
  {
   "cell_type": "markdown",
   "metadata": {},
   "source": [
    "### 6. Create a DataFrame and add a new column based on an existing column."
   ]
  },
  {
   "cell_type": "code",
   "execution_count": 3,
   "metadata": {},
   "outputs": [
    {
     "data": {
      "text/html": [
       "<div>\n",
       "<style scoped>\n",
       "    .dataframe tbody tr th:only-of-type {\n",
       "        vertical-align: middle;\n",
       "    }\n",
       "\n",
       "    .dataframe tbody tr th {\n",
       "        vertical-align: top;\n",
       "    }\n",
       "\n",
       "    .dataframe thead th {\n",
       "        text-align: right;\n",
       "    }\n",
       "</style>\n",
       "<table border=\"1\" class=\"dataframe\">\n",
       "  <thead>\n",
       "    <tr style=\"text-align: right;\">\n",
       "      <th></th>\n",
       "      <th>A</th>\n",
       "      <th>B</th>\n",
       "    </tr>\n",
       "  </thead>\n",
       "  <tbody>\n",
       "    <tr>\n",
       "      <th>0</th>\n",
       "      <td>1</td>\n",
       "      <td>6</td>\n",
       "    </tr>\n",
       "    <tr>\n",
       "      <th>1</th>\n",
       "      <td>2</td>\n",
       "      <td>7</td>\n",
       "    </tr>\n",
       "    <tr>\n",
       "      <th>2</th>\n",
       "      <td>3</td>\n",
       "      <td>8</td>\n",
       "    </tr>\n",
       "    <tr>\n",
       "      <th>3</th>\n",
       "      <td>4</td>\n",
       "      <td>9</td>\n",
       "    </tr>\n",
       "    <tr>\n",
       "      <th>4</th>\n",
       "      <td>5</td>\n",
       "      <td>10</td>\n",
       "    </tr>\n",
       "  </tbody>\n",
       "</table>\n",
       "</div>"
      ],
      "text/plain": [
       "   A   B\n",
       "0  1   6\n",
       "1  2   7\n",
       "2  3   8\n",
       "3  4   9\n",
       "4  5  10"
      ]
     },
     "execution_count": 3,
     "metadata": {},
     "output_type": "execute_result"
    }
   ],
   "source": [
    "import pandas as pd\n",
    "\n",
    "df = pd.DataFrame({\n",
    "    'A':[1, 2, 3, 4, 5],\n",
    "    'B':[6, 7, 8, 9, 10]\n",
    "})\n",
    "df"
   ]
  },
  {
   "cell_type": "code",
   "execution_count": 4,
   "metadata": {},
   "outputs": [
    {
     "data": {
      "text/html": [
       "<div>\n",
       "<style scoped>\n",
       "    .dataframe tbody tr th:only-of-type {\n",
       "        vertical-align: middle;\n",
       "    }\n",
       "\n",
       "    .dataframe tbody tr th {\n",
       "        vertical-align: top;\n",
       "    }\n",
       "\n",
       "    .dataframe thead th {\n",
       "        text-align: right;\n",
       "    }\n",
       "</style>\n",
       "<table border=\"1\" class=\"dataframe\">\n",
       "  <thead>\n",
       "    <tr style=\"text-align: right;\">\n",
       "      <th></th>\n",
       "      <th>A</th>\n",
       "      <th>B</th>\n",
       "      <th>rolling_mean</th>\n",
       "    </tr>\n",
       "  </thead>\n",
       "  <tbody>\n",
       "    <tr>\n",
       "      <th>0</th>\n",
       "      <td>1</td>\n",
       "      <td>6</td>\n",
       "      <td>NaN</td>\n",
       "    </tr>\n",
       "    <tr>\n",
       "      <th>1</th>\n",
       "      <td>2</td>\n",
       "      <td>7</td>\n",
       "      <td>1.5</td>\n",
       "    </tr>\n",
       "    <tr>\n",
       "      <th>2</th>\n",
       "      <td>3</td>\n",
       "      <td>8</td>\n",
       "      <td>2.5</td>\n",
       "    </tr>\n",
       "    <tr>\n",
       "      <th>3</th>\n",
       "      <td>4</td>\n",
       "      <td>9</td>\n",
       "      <td>3.5</td>\n",
       "    </tr>\n",
       "    <tr>\n",
       "      <th>4</th>\n",
       "      <td>5</td>\n",
       "      <td>10</td>\n",
       "      <td>4.5</td>\n",
       "    </tr>\n",
       "  </tbody>\n",
       "</table>\n",
       "</div>"
      ],
      "text/plain": [
       "   A   B  rolling_mean\n",
       "0  1   6           NaN\n",
       "1  2   7           1.5\n",
       "2  3   8           2.5\n",
       "3  4   9           3.5\n",
       "4  5  10           4.5"
      ]
     },
     "execution_count": 4,
     "metadata": {},
     "output_type": "execute_result"
    }
   ],
   "source": [
    "df['rolling_mean'] = df['A'].rolling(window=2).mean()\n",
    "df"
   ]
  },
  {
   "cell_type": "markdown",
   "metadata": {},
   "source": [
    "### 7. Write a program to perform element-wise multiplication of two NumPy arrays."
   ]
  },
  {
   "cell_type": "code",
   "execution_count": 5,
   "metadata": {},
   "outputs": [
    {
     "data": {
      "text/plain": [
       "array([ 4, 10, 18])"
      ]
     },
     "execution_count": 5,
     "metadata": {},
     "output_type": "execute_result"
    }
   ],
   "source": [
    "import numpy as np \n",
    "arr1 = np.array([1, 2, 3])\n",
    "arr2 = np.array([4, 5, 6])\n",
    "\n",
    "arr1 * arr2"
   ]
  },
  {
   "cell_type": "markdown",
   "metadata": {},
   "source": [
    "### 8. Create a line plot with multiple lines using Matplotlib."
   ]
  },
  {
   "cell_type": "code",
   "execution_count": 7,
   "metadata": {},
   "outputs": [
    {
     "data": {
      "image/png": "[encoded data removed]",
      "text/plain": [
       "<Figure size 640x480 with 1 Axes>"
      ]
     },
     "metadata": {},
     "output_type": "display_data"
    }
   ],
   "source": [
    "import matplotlib.pyplot as plt\n",
    "import numpy as np\n",
    "\n",
    "x = np.array([1, 2, 3, 4, 5])\n",
    "y1 = np.array([10, 15, 20, 25, 30])\n",
    "y2 = np.array([5, 10, 15, 20, 25])\n",
    "y3 = np.array([2, 8, 18, 28, 40])\n",
    "\n",
    "plt.plot(x, y1, label=\"Line 1\", marker=\"o\")\n",
    "plt.plot(x, y2, label=\"Line 2\", marker=\"s\")\n",
    "plt.plot(x, y3, label=\"Line 3\", marker=\"^\")\n",
    "\n",
    "\n",
    "plt.xlabel(\"X-axis\")\n",
    "plt.ylabel(\"Y-axis\")\n",
    "plt.title(\"Multiple Line Plot\")\n",
    "plt.legend()\n",
    "plt.show()\n"
   ]
  },
  {
   "cell_type": "markdown",
   "metadata": {},
   "source": [
    "### 9. Generate a Pandas DataFrame and filter rows where a column value is greater than a threshold."
   ]
  },
  {
   "cell_type": "code",
   "execution_count": 8,
   "metadata": {},
   "outputs": [
    {
     "data": {
      "text/html": [
       "<div>\n",
       "<style scoped>\n",
       "    .dataframe tbody tr th:only-of-type {\n",
       "        vertical-align: middle;\n",
       "    }\n",
       "\n",
       "    .dataframe tbody tr th {\n",
       "        vertical-align: top;\n",
       "    }\n",
       "\n",
       "    .dataframe thead th {\n",
       "        text-align: right;\n",
       "    }\n",
       "</style>\n",
       "<table border=\"1\" class=\"dataframe\">\n",
       "  <thead>\n",
       "    <tr style=\"text-align: right;\">\n",
       "      <th></th>\n",
       "      <th>A</th>\n",
       "      <th>B</th>\n",
       "    </tr>\n",
       "  </thead>\n",
       "  <tbody>\n",
       "    <tr>\n",
       "      <th>0</th>\n",
       "      <td>1</td>\n",
       "      <td>6</td>\n",
       "    </tr>\n",
       "    <tr>\n",
       "      <th>1</th>\n",
       "      <td>2</td>\n",
       "      <td>7</td>\n",
       "    </tr>\n",
       "    <tr>\n",
       "      <th>2</th>\n",
       "      <td>3</td>\n",
       "      <td>8</td>\n",
       "    </tr>\n",
       "    <tr>\n",
       "      <th>3</th>\n",
       "      <td>4</td>\n",
       "      <td>9</td>\n",
       "    </tr>\n",
       "    <tr>\n",
       "      <th>4</th>\n",
       "      <td>5</td>\n",
       "      <td>10</td>\n",
       "    </tr>\n",
       "  </tbody>\n",
       "</table>\n",
       "</div>"
      ],
      "text/plain": [
       "   A   B\n",
       "0  1   6\n",
       "1  2   7\n",
       "2  3   8\n",
       "3  4   9\n",
       "4  5  10"
      ]
     },
     "execution_count": 8,
     "metadata": {},
     "output_type": "execute_result"
    }
   ],
   "source": [
    "import pandas as pd\n",
    "\n",
    "df = pd.DataFrame({\n",
    "    'A':[1, 2, 3, 4, 5],\n",
    "    'B':[6, 7, 8, 9, 10]\n",
    "})\n",
    "df"
   ]
  },
  {
   "cell_type": "code",
   "execution_count": 11,
   "metadata": {},
   "outputs": [
    {
     "data": {
      "text/html": [
       "<div>\n",
       "<style scoped>\n",
       "    .dataframe tbody tr th:only-of-type {\n",
       "        vertical-align: middle;\n",
       "    }\n",
       "\n",
       "    .dataframe tbody tr th {\n",
       "        vertical-align: top;\n",
       "    }\n",
       "\n",
       "    .dataframe thead th {\n",
       "        text-align: right;\n",
       "    }\n",
       "</style>\n",
       "<table border=\"1\" class=\"dataframe\">\n",
       "  <thead>\n",
       "    <tr style=\"text-align: right;\">\n",
       "      <th></th>\n",
       "      <th>A</th>\n",
       "      <th>B</th>\n",
       "    </tr>\n",
       "  </thead>\n",
       "  <tbody>\n",
       "    <tr>\n",
       "      <th>3</th>\n",
       "      <td>4</td>\n",
       "      <td>9</td>\n",
       "    </tr>\n",
       "    <tr>\n",
       "      <th>4</th>\n",
       "      <td>5</td>\n",
       "      <td>10</td>\n",
       "    </tr>\n",
       "  </tbody>\n",
       "</table>\n",
       "</div>"
      ],
      "text/plain": [
       "   A   B\n",
       "3  4   9\n",
       "4  5  10"
      ]
     },
     "execution_count": 11,
     "metadata": {},
     "output_type": "execute_result"
    }
   ],
   "source": [
    "filtered_df = df[df['A']>3]\n",
    "filtered_df"
   ]
  },
  {
   "cell_type": "markdown",
   "metadata": {},
   "source": [
    "### 10. Create a histogram using Seaborn to visualize a distribution."
   ]
  },
  {
   "cell_type": "code",
   "execution_count": 12,
   "metadata": {},
   "outputs": [
    {
     "data": {
      "image/png": "[encoded data removed]",
      "text/plain": [
       "<Figure size 640x480 with 1 Axes>"
      ]
     },
     "metadata": {},
     "output_type": "display_data"
    }
   ],
   "source": [
    "import seaborn as sns\n",
    "import matplotlib.pyplot as plt\n",
    "import numpy as np\n",
    "\n",
    "data = np.random.randn(1000)\n",
    "sns.histplot(data, bins=30, kde=True)\n",
    "plt.title(\"Histogram of Random Data\")\n",
    "plt.show()\n"
   ]
  },
  {
   "cell_type": "markdown",
   "metadata": {},
   "source": [
    "### 11. Perform matrix multiplication using NumPy"
   ]
  },
  {
   "cell_type": "code",
   "execution_count": 18,
   "metadata": {},
   "outputs": [
    {
     "data": {
      "text/plain": [
       "array([[32]])"
      ]
     },
     "execution_count": 18,
     "metadata": {},
     "output_type": "execute_result"
    }
   ],
   "source": [
    "import numpy as np \n",
    "arr1 = np.array([[1, 2, 3]])\n",
    "arr2 = np.array([[4], [5], [6]])\n",
    "\n",
    "np.dot(arr1, arr2)"
   ]
  },
  {
   "cell_type": "markdown",
   "metadata": {},
   "source": [
    "### 12. Use Pandas to load a CSV file and display its first 5 rows"
   ]
  },
  {
   "cell_type": "code",
   "execution_count": 19,
   "metadata": {},
   "outputs": [
    {
     "data": {
      "text/plain": [
       "'https://raw.githubusercontent.com/datasciencedojo/datasets/refs/heads/master/titanic.csv'"
      ]
     },
     "execution_count": 19,
     "metadata": {},
     "output_type": "execute_result"
    }
   ],
   "source": [
    "url"
   ]
  },
  {
   "cell_type": "code",
   "execution_count": 20,
   "metadata": {},
   "outputs": [
    {
     "data": {
      "text/html": [
       "<div>\n",
       "<style scoped>\n",
       "    .dataframe tbody tr th:only-of-type {\n",
       "        vertical-align: middle;\n",
       "    }\n",
       "\n",
       "    .dataframe tbody tr th {\n",
       "        vertical-align: top;\n",
       "    }\n",
       "\n",
       "    .dataframe thead th {\n",
       "        text-align: right;\n",
       "    }\n",
       "</style>\n",
       "<table border=\"1\" class=\"dataframe\">\n",
       "  <thead>\n",
       "    <tr style=\"text-align: right;\">\n",
       "      <th></th>\n",
       "      <th>PassengerId</th>\n",
       "      <th>Survived</th>\n",
       "      <th>Pclass</th>\n",
       "      <th>Name</th>\n",
       "      <th>Sex</th>\n",
       "      <th>Age</th>\n",
       "      <th>SibSp</th>\n",
       "      <th>Parch</th>\n",
       "      <th>Ticket</th>\n",
       "      <th>Fare</th>\n",
       "      <th>Cabin</th>\n",
       "      <th>Embarked</th>\n",
       "    </tr>\n",
       "  </thead>\n",
       "  <tbody>\n",
       "    <tr>\n",
       "      <th>0</th>\n",
       "      <td>1</td>\n",
       "      <td>0</td>\n",
       "      <td>3</td>\n",
       "      <td>Braund, Mr. Owen Harris</td>\n",
       "      <td>male</td>\n",
       "      <td>22.0</td>\n",
       "      <td>1</td>\n",
       "      <td>0</td>\n",
       "      <td>A/5 21171</td>\n",
       "      <td>7.2500</td>\n",
       "      <td>NaN</td>\n",
       "      <td>S</td>\n",
       "    </tr>\n",
       "    <tr>\n",
       "      <th>1</th>\n",
       "      <td>2</td>\n",
       "      <td>1</td>\n",
       "      <td>1</td>\n",
       "      <td>Cumings, Mrs. John Bradley (Florence Briggs Th...</td>\n",
       "      <td>female</td>\n",
       "      <td>38.0</td>\n",
       "      <td>1</td>\n",
       "      <td>0</td>\n",
       "      <td>PC 17599</td>\n",
       "      <td>71.2833</td>\n",
       "      <td>C85</td>\n",
       "      <td>C</td>\n",
       "    </tr>\n",
       "    <tr>\n",
       "      <th>2</th>\n",
       "      <td>3</td>\n",
       "      <td>1</td>\n",
       "      <td>3</td>\n",
       "      <td>Heikkinen, Miss. Laina</td>\n",
       "      <td>female</td>\n",
       "      <td>26.0</td>\n",
       "      <td>0</td>\n",
       "      <td>0</td>\n",
       "      <td>STON/O2. 3101282</td>\n",
       "      <td>7.9250</td>\n",
       "      <td>NaN</td>\n",
       "      <td>S</td>\n",
       "    </tr>\n",
       "    <tr>\n",
       "      <th>3</th>\n",
       "      <td>4</td>\n",
       "      <td>1</td>\n",
       "      <td>1</td>\n",
       "      <td>Futrelle, Mrs. Jacques Heath (Lily May Peel)</td>\n",
       "      <td>female</td>\n",
       "      <td>35.0</td>\n",
       "      <td>1</td>\n",
       "      <td>0</td>\n",
       "      <td>113803</td>\n",
       "      <td>53.1000</td>\n",
       "      <td>C123</td>\n",
       "      <td>S</td>\n",
       "    </tr>\n",
       "    <tr>\n",
       "      <th>4</th>\n",
       "      <td>5</td>\n",
       "      <td>0</td>\n",
       "      <td>3</td>\n",
       "      <td>Allen, Mr. William Henry</td>\n",
       "      <td>male</td>\n",
       "      <td>35.0</td>\n",
       "      <td>0</td>\n",
       "      <td>0</td>\n",
       "      <td>373450</td>\n",
       "      <td>8.0500</td>\n",
       "      <td>NaN</td>\n",
       "      <td>S</td>\n",
       "    </tr>\n",
       "  </tbody>\n",
       "</table>\n",
       "</div>"
      ],
      "text/plain": [
       "   PassengerId  Survived  Pclass  \\\n",
       "0            1         0       3   \n",
       "1            2         1       1   \n",
       "2            3         1       3   \n",
       "3            4         1       1   \n",
       "4            5         0       3   \n",
       "\n",
       "                                                Name     Sex   Age  SibSp  \\\n",
       "0                            Braund, Mr. Owen Harris    male  22.0      1   \n",
       "1  Cumings, Mrs. John Bradley (Florence Briggs Th...  female  38.0      1   \n",
       "2                             Heikkinen, Miss. Laina  female  26.0      0   \n",
       "3       Futrelle, Mrs. Jacques Heath (Lily May Peel)  female  35.0      1   \n",
       "4                           Allen, Mr. William Henry    male  35.0      0   \n",
       "\n",
       "   Parch            Ticket     Fare Cabin Embarked  \n",
       "0      0         A/5 21171   7.2500   NaN        S  \n",
       "1      0          PC 17599  71.2833   C85        C  \n",
       "2      0  STON/O2. 3101282   7.9250   NaN        S  \n",
       "3      0            113803  53.1000  C123        S  \n",
       "4      0            373450   8.0500   NaN        S  "
      ]
     },
     "execution_count": 20,
     "metadata": {},
     "output_type": "execute_result"
    }
   ],
   "source": [
    "import pandas as pd\n",
    "pd.read_csv(url).head(5)"
   ]
  },
  {
   "cell_type": "markdown",
   "metadata": {},
   "source": [
    "### 13. Create a 3D scatter plot using Plotly."
   ]
  },
  {
   "cell_type": "code",
   "execution_count": 21,
   "metadata": {},
   "outputs": [
    {
     "data": {
      "application/vnd.plotly.v1+json": {
       "config": {
        "plotlyServerURL": "https://plot.ly"
       },
       "data": [
        {
         "hovertemplate": "color=A<br>x=%{x}<br>y=%{y}<br>z=%{z}<extra></extra>",
         "legendgroup": "A",
         "marker": {
          "color": "#636efa",
          "symbol": "circle"
         },
         "mode": "markers",
         "name": "A",
         "scene": "scene",
         "showlegend": true,
         "type": "scatter3d",
         "x": {
          "bdata": "fDCpKCrK3z9oXiRQ3bnkPyuqAY5UXvg/O9twJjP4zb+LnnlL3gvev3D5nqWe+M4/vjXuvsuc/r9jPKFqQv7hvx+GFtigHNQ/xxMUxMuY9r/ZmGbhPObMv8Y1sUaHSbE/KPrKUZVr4b8V9c49eGryv6DS80Icq9K/p/2pOS5B479X9hhz7qL9P0bMh0ti7PC/vp1IqoSh5z8MLqRVZe/FP+GvUG9IRdO/J6aouPYI57/ZriIKG3vdv4hBAJHX/dU/OFhtsMq91D9ADyomMKXYv4pMD4lrM9U/E259YKzDx7/6IytdQW+yv68KAS/SpOS/j+mkCBsh1z9fX8/rPPUEwCGuS3e3SLY/04nor+7a1j8349E5dKX3PzA8v2yrleC/kAbHYflK7T+AxSAYQgrVPwNc6tKvbOA/eEjIDDh35r+XkvGmavjUvxSBHSwhtdA/",
          "dtype": "f8"
         },
         "y": {
          "bdata": "BCaNylul9r8LNBbeCO/Vv3wxNGFBrOm/Mxz8H/jb2T+de06itHvQP60Y23t+1q4/uAjaR7i0A0ByMGE5jUzTP88R8r3nsvK/Vn8F3dUP6D/8jTe4sxntvzTEh3LYcfY/S4cph4jH4j9p9j08ebLvv29cmPl4HOC/2oM4dYTP+L/WI4LWV42xPy2FTaBWT94/VTQjOmgdzT/Tik2FDur0P3G1EBAVosc/FIwxZrEE6T/Ywx/UjMrzv3PsV8y+s+A/3IIHKhMI0D9tBmMcNSzWP2mIgUGUD/O/U0kIDcwv6T/nqtAbUU7qP/JK902bHui/lPkR9+Z27L96f45TTbXRP8TCNmO8oIo/fngKr9Vt6799RAssYCLxv2JDLPvT4N4/Le0xdoZJ3j+qgxBm6qSyv/pkh3HQPPi/J6Gofmxnyz/e1B7Ji+7zv0waTqdDrcM/",
          "dtype": "f8"
         },
         "z": {
          "bdata": "CI7n9Pzl1j+CR1WKLVTxP10pX4pf3PA/Z8V5qKkC7r8DFBJJRXvgP7zy0LQuh+4/EkkodzLY5D/mDZbReUnoPwAthHUSUM6/JWoNH7T1tD9OQHJ3UeD9v5GRRu7X9eU/TmBgtiE03r/oH83Dp3SwP0SCQ8dDv+U/qhKq1ylf57/pr5hB6rTLP1fv4Pjo2eS/Cgyfc1Rc6b/yfsIPXl+9v42wqTxEtOs/JiQa33do1b9ayrQEgWXevyp4CfJMP/w/C7k+p5Qs9L8P+5oEIF/tPxTrTZqJZ9w/Xukigxt6rr8KHcBQWx76PyQa2nMbvMA/dzKSlHQP9z+svp/UhGjvv2BKOMHJesk/0uEXqyww5T9cAUQrU2D5P4YX358XzvO/w1qZqbFtw7+MzzCbftPiP8qoG4sn7eO/LLGPehPc4r+tL6q88C/rP9d0D5zLqtM/",
          "dtype": "f8"
         }
        },
        {
         "hovertemplate": "color=B<br>x=%{x}<br>y=%{y}<br>z=%{z}<extra></extra>",
         "legendgroup": "B",
         "marker": {
          "color": "#EF553B",
          "symbol": "circle"
         },
         "mode": "markers",
         "name": "B",
         "scene": "scene",
         "showlegend": true,
         "type": "scatter3d",
         "x": {
          "bdata": "KgXeBaWywb/z1/BG047oP+fvFiuEzt2/QQ2fH0xz9z9iJw3BxMv2vzUGMT9sZbw/HHriWZOI87//WrADQED1v005qFNYqeW/+ewJJ9qS4z8enOD2C83tP88pc7QiytO/sNVKJzYA6j9qgA6DeA7wP0KkKG0LJdc/IGAQO8yb+D8x1znJxwj5P79YGXsGTeo/wO3gue8i07/iHOwPFc3/v8FsDls1Hsy/S3Lu+S3f6b/02ryry/PgvxqljMtMGNm/DTrIENnxdD8=",
          "dtype": "f8"
         },
         "y": {
          "bdata": "dIYfXNrr2r+RJ1zWkFjGPzhGxw90Jpu/0IPUOiJQ6T8a5Ehh+232v2mLYZkNhgFAxu3HBIjM+D+vvWpCVQjqPwHWdDTDwuW/nT7XOH26zT9/yEiB99vmv+BkxVBHU94/7T4bLfrT7j/5fjyZQ1n+P92Zh7bgaM+/DFi1Kx4b6r9JabMXb9XVP3IUTQFJeOo/CjLQ8qxB9z9MuFAN6MIFQKFsmod3BeQ/Gn5stW2azL9D/LEj7xjrv6YxaebKKsY/6KEifIjNrT8=",
          "dtype": "f8"
         },
         "z": {
          "bdata": "YVcbZPLx4T+H/Qk873DgP3SXcOBGK/I/0ibqtWuEAkDI/kcor835v8XzDnZXbPE/gWGlixBJ5D+ss+POWi3lv0piOQct+gBANywFS/qE8D+NcaTosP3evxa8Zm86pea/z6qPmxMq0L/p9O/s2+H2v4WDyVmwKdy/EhROl0r59r/kN1YzEvWEP9cJVXMak90/ze88Bvo047/DbE5c+qjYv4oCYgV5D70/xWZLzXMQAUCDSpdQxfvRP8+qGHtX2dY/WUISa/cC6j8=",
          "dtype": "f8"
         }
        },
        {
         "hovertemplate": "color=C<br>x=%{x}<br>y=%{y}<br>z=%{z}<extra></extra>",
         "legendgroup": "C",
         "marker": {
          "color": "#00cc96",
          "symbol": "circle"
         },
         "mode": "markers",
         "name": "C",
         "scene": "scene",
         "showlegend": true,
         "type": "scatter3d",
         "x": {
          "bdata": "QKZX37z4zb8IdECodET5P30tauGmXOE/cBvBrqKo3b8S5O5wQ5n7v3lRo2eONPC/+QOLgYgO7b/o3X2zbwvYP9I7PaFuOOO/hoOw1m6ki783Lh+1SVLqP7Vp79IKvMo/wzBQD89a/79AOvS8vzLJP18xsjYgm72/BriwrAao979iwtf++OnwP04VDZhpNfy/1Pz0Wvl+8D9TFQ+13trqvwBoGGqqN+8/VWYobMqq3r8wbjxNjLPxv/T1mo6pI/O//c2Dviiz9T9SGaVkyleivziKRl6ifbc/oXaXyWQO4L86K6ADE9q4P1O8eMcj/+4/EPR2po5q978jMGt2ovPSP4RO9IDzBs6/",
          "dtype": "f8"
         },
         "y": {
          "bdata": "wHN1nAKlxL8bAn5E0S3+P2BViTXjDrO/7XIjckmz/r/khmG6SJ/IvwgyV7e9xaG/XG9XkwBJ8j+zLI5qHB/iv+ScDXrAgrk/rPfNLTL/8L+P4yVf7Gvtv98wYjVpEOm/xtPZ56ec1L8RWw7InrHzv7jwFFdAuPm/zsOFceuh0D8Gvg8dlyD1vzXJvADMAdM/Kj4LDLPB0j/fO7FfNtr9PwzmpLZ8AuU/U2I0nZcw778hCJKEm4nyP9w7t5AHQ+q/d7VmsQBr2j+/NmYI8Lyzv2rg2jYj8NC/D4JukBfZ5j8cYhNzs5PcvyiAvnGeZ+s/VQIhOgqp2D/B7dljj0jsv+O1FzmbSfK/",
          "dtype": "f8"
         },
         "z": {
          "bdata": "JjoBCe8K9r+AVJ49K3vgPwUNReNk0g5AtsMgLbxE4j/ZjcoNXy3Uv1jRvvH7uui/kS0mRTIQ378pQupOcT7xv21Uv5rE4+a/dccCNDFVpz+V1qAozCYBQD1z2/R9MwDA/P4QKLzdxz8/Ct9FIkfrPze/AxXbKOA/S/lcAWo087+KmO20EujkvyWMA2k469k/AsGk4VZP+L/xGwugREX0P/QZu1rNyeg/yf+iF2qp7b9BhDmSHe4JwFFRn0vkY/C/BJtwf+v2878IXzaYUZzyP86IOaiM3rE/f+qdasA7/7+uXW35v6PKv6d00MpTjd+/11RXvlAs5r9pFo+thcnsP8LElWLrJeQ/",
          "dtype": "f8"
         }
        }
       ],
       "layout": {
        "legend": {
         "title": {
          "text": "color"
         },
         "tracegroupgap": 0
        },
        "scene": {
         "domain": {
          "x": [
           0,
           1
          ],
          "y": [
           0,
           1
          ]
         },
         "xaxis": {
          "title": {
           "text": "x"
          }
         },
         "yaxis": {
          "title": {
           "text": "y"
          }
         },
         "zaxis": {
          "title": {
           "text": "z"
          }
         }
        },
        "template": {
         "data": {
          "bar": [
           {
            "error_x": {
             "color": "#2a3f5f"
            },
            "error_y": {
             "color": "#2a3f5f"
            },
            "marker": {
             "line": {
              "color": "#E5ECF6",
              "width": 0.5
             },
             "pattern": {
              "fillmode": "overlay",
              "size": 10,
              "solidity": 0.2
             }
            },
            "type": "bar"
           }
          ],
          "barpolar": [
           {
            "marker": {
             "line": {
              "color": "#E5ECF6",
              "width": 0.5
             },
             "pattern": {
              "fillmode": "overlay",
              "size": 10,
              "solidity": 0.2
             }
            },
            "type": "barpolar"
           }
          ],
          "carpet": [
           {
            "aaxis": {
             "endlinecolor": "#2a3f5f",
             "gridcolor": "white",
             "linecolor": "white",
             "minorgridcolor": "white",
             "startlinecolor": "#2a3f5f"
            },
            "baxis": {
             "endlinecolor": "#2a3f5f",
             "gridcolor": "white",
             "linecolor": "white",
             "minorgridcolor": "white",
             "startlinecolor": "#2a3f5f"
            },
            "type": "carpet"
           }
          ],
          "choropleth": [
           {
            "colorbar": {
             "outlinewidth": 0,
             "ticks": ""
            },
            "type": "choropleth"
           }
          ],
          "contour": [
           {
            "colorbar": {
             "outlinewidth": 0,
             "ticks": ""
            },
            "colorscale": [
             [
              0,
              "#0d0887"
             ],
             [
              0.1111111111111111,
              "#46039f"
             ],
             [
              0.2222222222222222,
              "#7201a8"
             ],
             [
              0.3333333333333333,
              "#9c179e"
             ],
             [
              0.4444444444444444,
              "#bd3786"
             ],
             [
              0.5555555555555556,
              "#d8576b"
             ],
             [
              0.6666666666666666,
              "#ed7953"
             ],
             [
              0.7777777777777778,
              "#fb9f3a"
             ],
             [
              0.8888888888888888,
              "#fdca26"
             ],
             [
              1,
              "#f0f921"
             ]
            ],
            "type": "contour"
           }
          ],
          "contourcarpet": [
           {
            "colorbar": {
             "outlinewidth": 0,
             "ticks": ""
            },
            "type": "contourcarpet"
           }
          ],
          "heatmap": [
           {
            "colorbar": {
             "outlinewidth": 0,
             "ticks": ""
            },
            "colorscale": [
             [
              0,
              "#0d0887"
             ],
             [
              0.1111111111111111,
              "#46039f"
             ],
             [
              0.2222222222222222,
              "#7201a8"
             ],
             [
              0.3333333333333333,
              "#9c179e"
             ],
             [
              0.4444444444444444,
              "#bd3786"
             ],
             [
              0.5555555555555556,
              "#d8576b"
             ],
             [
              0.6666666666666666,
              "#ed7953"
             ],
             [
              0.7777777777777778,
              "#fb9f3a"
             ],
             [
              0.8888888888888888,
              "#fdca26"
             ],
             [
              1,
              "#f0f921"
             ]
            ],
            "type": "heatmap"
           }
          ],
          "histogram": [
           {
            "marker": {
             "pattern": {
              "fillmode": "overlay",
              "size": 10,
              "solidity": 0.2
             }
            },
            "type": "histogram"
           }
          ],
          "histogram2d": [
           {
            "colorbar": {
             "outlinewidth": 0,
             "ticks": ""
            },
            "colorscale": [
             [
              0,
              "#0d0887"
             ],
             [
              0.1111111111111111,
              "#46039f"
             ],
             [
              0.2222222222222222,
              "#7201a8"
             ],
             [
              0.3333333333333333,
              "#9c179e"
             ],
             [
              0.4444444444444444,
              "#bd3786"
             ],
             [
              0.5555555555555556,
              "#d8576b"
             ],
             [
              0.6666666666666666,
              "#ed7953"
             ],
             [
              0.7777777777777778,
              "#fb9f3a"
             ],
             [
              0.8888888888888888,
              "#fdca26"
             ],
             [
              1,
              "#f0f921"
             ]
            ],
            "type": "histogram2d"
           }
          ],
          "histogram2dcontour": [
           {
            "colorbar": {
             "outlinewidth": 0,
             "ticks": ""
            },
            "colorscale": [
             [
              0,
              "#0d0887"
             ],
             [
              0.1111111111111111,
              "#46039f"
             ],
             [
              0.2222222222222222,
              "#7201a8"
             ],
             [
              0.3333333333333333,
              "#9c179e"
             ],
             [
              0.4444444444444444,
              "#bd3786"
             ],
             [
              0.5555555555555556,
              "#d8576b"
             ],
             [
              0.6666666666666666,
              "#ed7953"
             ],
             [
              0.7777777777777778,
              "#fb9f3a"
             ],
             [
              0.8888888888888888,
              "#fdca26"
             ],
             [
              1,
              "#f0f921"
             ]
            ],
            "type": "histogram2dcontour"
           }
          ],
          "mesh3d": [
           {
            "colorbar": {
             "outlinewidth": 0,
             "ticks": ""
            },
            "type": "mesh3d"
           }
          ],
          "parcoords": [
           {
            "line": {
             "colorbar": {
              "outlinewidth": 0,
              "ticks": ""
             }
            },
            "type": "parcoords"
           }
          ],
          "pie": [
           {
            "automargin": true,
            "type": "pie"
           }
          ],
          "scatter": [
           {
            "fillpattern": {
             "fillmode": "overlay",
             "size": 10,
             "solidity": 0.2
            },
            "type": "scatter"
           }
          ],
          "scatter3d": [
           {
            "line": {
             "colorbar": {
              "outlinewidth": 0,
              "ticks": ""
             }
            },
            "marker": {
             "colorbar": {
              "outlinewidth": 0,
              "ticks": ""
             }
            },
            "type": "scatter3d"
           }
          ],
          "scattercarpet": [
           {
            "marker": {
             "colorbar": {
              "outlinewidth": 0,
              "ticks": ""
             }
            },
            "type": "scattercarpet"
           }
          ],
          "scattergeo": [
           {
            "marker": {
             "colorbar": {
              "outlinewidth": 0,
              "ticks": ""
             }
            },
            "type": "scattergeo"
           }
          ],
          "scattergl": [
           {
            "marker": {
             "colorbar": {
              "outlinewidth": 0,
              "ticks": ""
             }
            },
            "type": "scattergl"
           }
          ],
          "scattermap": [
           {
            "marker": {
             "colorbar": {
              "outlinewidth": 0,
              "ticks": ""
             }
            },
            "type": "scattermap"
           }
          ],
          "scattermapbox": [
           {
            "marker": {
             "colorbar": {
              "outlinewidth": 0,
              "ticks": ""
             }
            },
            "type": "scattermapbox"
           }
          ],
          "scatterpolar": [
           {
            "marker": {
             "colorbar": {
              "outlinewidth": 0,
              "ticks": ""
             }
            },
            "type": "scatterpolar"
           }
          ],
          "scatterpolargl": [
           {
            "marker": {
             "colorbar": {
              "outlinewidth": 0,
              "ticks": ""
             }
            },
            "type": "scatterpolargl"
           }
          ],
          "scatterternary": [
           {
            "marker": {
             "colorbar": {
              "outlinewidth": 0,
              "ticks": ""
             }
            },
            "type": "scatterternary"
           }
          ],
          "surface": [
           {
            "colorbar": {
             "outlinewidth": 0,
             "ticks": ""
            },
            "colorscale": [
             [
              0,
              "#0d0887"
             ],
             [
              0.1111111111111111,
              "#46039f"
             ],
             [
              0.2222222222222222,
              "#7201a8"
             ],
             [
              0.3333333333333333,
              "#9c179e"
             ],
             [
              0.4444444444444444,
              "#bd3786"
             ],
             [
              0.5555555555555556,
              "#d8576b"
             ],
             [
              0.6666666666666666,
              "#ed7953"
             ],
             [
              0.7777777777777778,
              "#fb9f3a"
             ],
             [
              0.8888888888888888,
              "#fdca26"
             ],
             [
              1,
              "#f0f921"
             ]
            ],
            "type": "surface"
           }
          ],
          "table": [
           {
            "cells": {
             "fill": {
              "color": "#EBF0F8"
             },
             "line": {
              "color": "white"
             }
            },
            "header": {
             "fill": {
              "color": "#C8D4E3"
             },
             "line": {
              "color": "white"
             }
            },
            "type": "table"
           }
          ]
         },
         "layout": {
          "annotationdefaults": {
           "arrowcolor": "#2a3f5f",
           "arrowhead": 0,
           "arrowwidth": 1
          },
          "autotypenumbers": "strict",
          "coloraxis": {
           "colorbar": {
            "outlinewidth": 0,
            "ticks": ""
           }
          },
          "colorscale": {
           "diverging": [
            [
             0,
             "#8e0152"
            ],
            [
             0.1,
             "#c51b7d"
            ],
            [
             0.2,
             "#de77ae"
            ],
            [
             0.3,
             "#f1b6da"
            ],
            [
             0.4,
             "#fde0ef"
            ],
            [
             0.5,
             "#f7f7f7"
            ],
            [
             0.6,
             "#e6f5d0"
            ],
            [
             0.7,
             "#b8e186"
            ],
            [
             0.8,
             "#7fbc41"
            ],
            [
             0.9,
             "#4d9221"
            ],
            [
             1,
             "#276419"
            ]
           ],
           "sequential": [
            [
             0,
             "#0d0887"
            ],
            [
             0.1111111111111111,
             "#46039f"
            ],
            [
             0.2222222222222222,
             "#7201a8"
            ],
            [
             0.3333333333333333,
             "#9c179e"
            ],
            [
             0.4444444444444444,
             "#bd3786"
            ],
            [
             0.5555555555555556,
             "#d8576b"
            ],
            [
             0.6666666666666666,
             "#ed7953"
            ],
            [
             0.7777777777777778,
             "#fb9f3a"
            ],
            [
             0.8888888888888888,
             "#fdca26"
            ],
            [
             1,
             "#f0f921"
            ]
           ],
           "sequentialminus": [
            [
             0,
             "#0d0887"
            ],
            [
             0.1111111111111111,
             "#46039f"
            ],
            [
             0.2222222222222222,
             "#7201a8"
            ],
            [
             0.3333333333333333,
             "#9c179e"
            ],
            [
             0.4444444444444444,
             "#bd3786"
            ],
            [
             0.5555555555555556,
             "#d8576b"
            ],
            [
             0.6666666666666666,
             "#ed7953"
            ],
            [
             0.7777777777777778,
             "#fb9f3a"
            ],
            [
             0.8888888888888888,
             "#fdca26"
            ],
            [
             1,
             "#f0f921"
            ]
           ]
          },
          "colorway": [
           "#636efa",
           "#EF553B",
           "#00cc96",
           "#ab63fa",
           "#FFA15A",
           "#19d3f3",
           "#FF6692",
           "#B6E880",
           "#FF97FF",
           "#FECB52"
          ],
          "font": {
           "color": "#2a3f5f"
          },
          "geo": {
           "bgcolor": "white",
           "lakecolor": "white",
           "landcolor": "#E5ECF6",
           "showlakes": true,
           "showland": true,
           "subunitcolor": "white"
          },
          "hoverlabel": {
           "align": "left"
          },
          "hovermode": "closest",
          "mapbox": {
           "style": "light"
          },
          "paper_bgcolor": "white",
          "plot_bgcolor": "#E5ECF6",
          "polar": {
           "angularaxis": {
            "gridcolor": "white",
            "linecolor": "white",
            "ticks": ""
           },
           "bgcolor": "#E5ECF6",
           "radialaxis": {
            "gridcolor": "white",
            "linecolor": "white",
            "ticks": ""
           }
          },
          "scene": {
           "xaxis": {
            "backgroundcolor": "#E5ECF6",
            "gridcolor": "white",
            "gridwidth": 2,
            "linecolor": "white",
            "showbackground": true,
            "ticks": "",
            "zerolinecolor": "white"
           },
           "yaxis": {
            "backgroundcolor": "#E5ECF6",
            "gridcolor": "white",
            "gridwidth": 2,
            "linecolor": "white",
            "showbackground": true,
            "ticks": "",
            "zerolinecolor": "white"
           },
           "zaxis": {
            "backgroundcolor": "#E5ECF6",
            "gridcolor": "white",
            "gridwidth": 2,
            "linecolor": "white",
            "showbackground": true,
            "ticks": "",
            "zerolinecolor": "white"
           }
          },
          "shapedefaults": {
           "line": {
            "color": "#2a3f5f"
           }
          },
          "ternary": {
           "aaxis": {
            "gridcolor": "white",
            "linecolor": "white",
            "ticks": ""
           },
           "baxis": {
            "gridcolor": "white",
            "linecolor": "white",
            "ticks": ""
           },
           "bgcolor": "#E5ECF6",
           "caxis": {
            "gridcolor": "white",
            "linecolor": "white",
            "ticks": ""
           }
          },
          "title": {
           "x": 0.05
          },
          "xaxis": {
           "automargin": true,
           "gridcolor": "white",
           "linecolor": "white",
           "ticks": "",
           "title": {
            "standoff": 15
           },
           "zerolinecolor": "white",
           "zerolinewidth": 2
          },
          "yaxis": {
           "automargin": true,
           "gridcolor": "white",
           "linecolor": "white",
           "ticks": "",
           "title": {
            "standoff": 15
           },
           "zerolinecolor": "white",
           "zerolinewidth": 2
          }
         }
        },
        "title": {
         "text": "3D Scatter Plot"
        }
       }
      }
     },
     "metadata": {},
     "output_type": "display_data"
    }
   ],
   "source": [
    "import plotly.express as px\n",
    "import pandas as pd\n",
    "import numpy as np\n",
    "\n",
    "np.random.seed(42)\n",
    "df = pd.DataFrame({\n",
    "    'x': np.random.randn(100),\n",
    "    'y': np.random.randn(100),\n",
    "    'z': np.random.randn(100),\n",
    "    'color': np.random.choice(['A', 'B', 'C'], 100)\n",
    "})\n",
    "\n",
    "fig = px.scatter_3d(df, x='x', y='y', z='z', color='color', title=\"3D Scatter Plot\")\n",
    "\n",
    "fig.show()\n"
   ]
  }
 ],
 "metadata": {
  "kernelspec": {
   "display_name": "Python 3",
   "language": "python",
   "name": "python3"
  },
  "language_info": {
   "codemirror_mode": {
    "name": "ipython",
    "version": 3
   },
   "file_extension": ".py",
   "mimetype": "text/x-python",
   "name": "python",
   "nbconvert_exporter": "python",
   "pygments_lexer": "ipython3",
   "version": "3.12.9"
  }
 },
 "nbformat": 4,
 "nbformat_minor": 2
}
