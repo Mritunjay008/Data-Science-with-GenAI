{
 "cells": [
  {
   "cell_type": "markdown",
   "metadata": {},
   "source": [
    "# Python Basics Questions"
   ]
  },
  {
   "cell_type": "markdown",
   "metadata": {},
   "source": [
    "##### 1. What is Python, and why is it popular\n",
    "Python is a very simple and easy to use language. It contains very vast library.\n",
    "Use case of Python is very extensive like from web devlopement to data science we use it in most of the place.\n"
   ]
  },
  {
   "cell_type": "markdown",
   "metadata": {},
   "source": [
    "##### 2. What is an interpreter in Python ?\n",
    "There is 2 type of code/program executer for coding language like c++, Python, Java...etc.\n",
    "<p>In python we us e interpreter as a program executer. Interpreter takes code line by line and execute them. If any error occurs it will stop at that line. "
   ]
  },
  {
   "cell_type": "markdown",
   "metadata": {},
   "source": [
    "##### 3. What are pre-defined keywords in Python\n",
    "Predefined keyword in python is those words which is defined in python's syntax and we can not use those words as a variable or any function name.\n",
    "<p>e.g.: return, if, elif....etc."
   ]
  },
  {
   "cell_type": "markdown",
   "metadata": {},
   "source": [
    "##### 4. Can keywords be used as variable names\n",
    "No, Keywords cannot be used as variables name as it will introduce conflict in the program. "
   ]
  },
  {
   "cell_type": "markdown",
   "metadata": {},
   "source": [
    "##### 5. What is mutability in Python ?\n",
    "Mutability is a term which says that we can edit those variable's any index."
   ]
  },
  {
   "cell_type": "markdown",
   "metadata": {},
   "source": [
    "##### 6. Why are lists mutable, but tuples are immutable ?\n",
    "We can change or edit the list that's why it is mutable but we cannot change/edit tuples that's why they are immutable.<br>\n",
    "List have other use but after creation of tuples we cannot change and that's why it is optimized and fast compare to list."
   ]
  },
  {
   "cell_type": "markdown",
   "metadata": {},
   "source": [
    "##### 7.What is the difference between “==” and “is” operators in Python?\n",
    "'==' is an equality operator it is used to check if values are equals on both side or not.\n",
    "<br>\n",
    "where as 'is' operator is used to check identity if both operand belons to same memory or not."
   ]
  },
  {
   "cell_type": "markdown",
   "metadata": {},
   "source": [
    "##### 8. What are logical operators in Python?\n",
    "logical opeartor are used to perform logical opearation. it will give the boolean value as a result."
   ]
  },
  {
   "cell_type": "markdown",
   "metadata": {},
   "source": [
    "##### 9. What is type casting in Python ?\n",
    "type casting in pyhon is a method to change a variables datatype. It is used when we need to change datatype of a variable."
   ]
  },
  {
   "cell_type": "markdown",
   "metadata": {},
   "source": [
    "##### 10. What is the difference between implicit and explicit type casting?\n",
    "In implicit type casting the changing of variables datatype will be aytomatic by program itself but in explicit type casting programmer has to change datatype explicitly.\n",
    "<p>\n",
    "There may be loss of data in explicit typecasting but there will be no data loss happen in implicit type casting."
   ]
  },
  {
   "cell_type": "markdown",
   "metadata": {},
   "source": [
    "##### 11. What is the purpose of conditional statements in Python?\n",
    "Purpose of conditional statement is simple it check if given condition will be satisfied then it will execute it's internal code else it will go to other statement."
   ]
  },
  {
   "cell_type": "markdown",
   "metadata": {},
   "source": [
    "##### 12, How does the elif statement work?\n",
    "working of elif statement.\n",
    "if(condition-1):\n",
    "    code-1\n",
    "elif(condition-2):\n",
    "    code-2\n",
    "else:\n",
    "    code-3\n",
    "\n",
    "the working is simple, If condition-1 will satisfied then it will execute code-1 part and if not satisfied then it will check condition-2, If that condition will be satisfied then it will execute code-2 and if not then it will execute code-3 part."
   ]
  },
  {
   "cell_type": "markdown",
   "metadata": {},
   "source": [
    "##### 13. What is the difference between for and while loops\n",
    "We use for loop when the number of iterations is known or fixed.\n",
    "<br>but we use while loop when the number of iterations is unknown and depends on a condition."
   ]
  },
  {
   "cell_type": "markdown",
   "metadata": {},
   "source": [
    "##### 14. Describe a scenario where a while loop is more suitable than a for loop.\n",
    "Suppose you're writing a program where the user must input a correct password to proceed.\n",
    "You don't know how many attempts the user will need, so a while loop is the best choice.\n",
    "\n",
    "we can think about a user who has to enter correct password and we don't know how mant takes he will need."
   ]
  },
  {
   "cell_type": "markdown",
   "metadata": {},
   "source": [
    "# Practical Questions"
   ]
  },
  {
   "cell_type": "code",
   "execution_count": 1,
   "metadata": {},
   "outputs": [
    {
     "name": "stdout",
     "output_type": "stream",
     "text": [
      "Hello World\n"
     ]
    }
   ],
   "source": [
    "# 1. Write a Python program to print \"Hello, World!\n",
    "\n",
    "print(\"Hello World\")"
   ]
  },
  {
   "cell_type": "code",
   "execution_count": 5,
   "metadata": {},
   "outputs": [
    {
     "name": "stdout",
     "output_type": "stream",
     "text": [
      "My name is Mritunjay and age is 22\n",
      "My name is Mritunjay and age is 22.\n"
     ]
    }
   ],
   "source": [
    "# 2. Write a Python program that displays your name and age\n",
    "name = \"Mritunjay\"\n",
    "age = 22\n",
    "print(\"My name is\", name, \"and age is\", age)\n",
    "print(f'My name is {name} and age is {age}.')"
   ]
  },
  {
   "cell_type": "code",
   "execution_count": 6,
   "metadata": {},
   "outputs": [
    {
     "name": "stdout",
     "output_type": "stream",
     "text": [
      "False\n",
      "None\n",
      "True\n",
      "and\n",
      "as\n",
      "assert\n",
      "async\n",
      "await\n",
      "break\n",
      "class\n",
      "continue\n",
      "def\n",
      "del\n",
      "elif\n",
      "else\n",
      "except\n",
      "finally\n",
      "for\n",
      "from\n",
      "global\n",
      "if\n",
      "import\n",
      "in\n",
      "is\n",
      "lambda\n",
      "nonlocal\n",
      "not\n",
      "or\n",
      "pass\n",
      "raise\n",
      "return\n",
      "try\n",
      "while\n",
      "with\n",
      "yield\n"
     ]
    }
   ],
   "source": [
    "# 3. Write code to print all the pre-defined keywords in Python using the keyword library\n",
    "import keyword\n",
    "i = 0\n",
    "while(i < len(keyword.kwlist)):\n",
    "    print(keyword.kwlist[i])\n",
    "    i = i+1\n",
    "    "
   ]
  },
  {
   "cell_type": "code",
   "execution_count": 10,
   "metadata": {},
   "outputs": [
    {
     "name": "stdout",
     "output_type": "stream",
     "text": [
      "No, fghr' is not a keyword\n"
     ]
    }
   ],
   "source": [
    "# 4. Write a program that checks if a given word is a Python keyword\n",
    "\n",
    "#Taking input to check from user to check if the word is keyword or not.\n",
    "\n",
    "key = input(\"Enter your word:\")\n",
    "if(key in keyword.kwlist):\n",
    "    print(f\"Yes, {key} is a keyword\")\n",
    "else:\n",
    "    print(f\"No, {key} is not a keyword\")"
   ]
  },
  {
   "cell_type": "code",
   "execution_count": null,
   "metadata": {},
   "outputs": [
    {
     "name": "stdout",
     "output_type": "stream",
     "text": [
      "['Mritunjay', 'Unknown', 'Paridhi', 97710, 83, 2.9]\n"
     ]
    },
    {
     "ename": "TypeError",
     "evalue": "'tuple' object does not support item assignment",
     "output_type": "error",
     "traceback": [
      "\u001b[1;31m---------------------------------------------------------------------------\u001b[0m",
      "\u001b[1;31mTypeError\u001b[0m                                 Traceback (most recent call last)",
      "Cell \u001b[1;32mIn[16], line 7\u001b[0m\n\u001b[0;32m      4\u001b[0m \u001b[38;5;28mprint\u001b[39m(lst)\n\u001b[0;32m      6\u001b[0m tpl \u001b[38;5;241m=\u001b[39m (\u001b[38;5;124m\"\u001b[39m\u001b[38;5;124mHello\u001b[39m\u001b[38;5;124m\"\u001b[39m, \u001b[38;5;241m10\u001b[39m, \u001b[38;5;241m3.56\u001b[39m)\n\u001b[1;32m----> 7\u001b[0m tpl[\u001b[38;5;241m0\u001b[39m] \u001b[38;5;241m=\u001b[39m \u001b[38;5;124m\"\u001b[39m\u001b[38;5;124mHii\u001b[39m\u001b[38;5;124m\"\u001b[39m\n",
      "\u001b[1;31mTypeError\u001b[0m: 'tuple' object does not support item assignment"
     ]
    }
   ],
   "source": [
    "# 5. Create a list and tuple in Python, and demonstrate how attempting to change an element works differently for each\n",
    "lst = [\"Mritunjay\", \"Mahuya\", 9710, 83, ]\n",
    "lst[1] = \"Unknown\"\n",
    "print(lst)\n",
    "\n",
    "tpl = (\"Hello\", 10, 3.56)\n",
    "tpl[0] = \"Hii\""
   ]
  },
  {
   "cell_type": "code",
   "execution_count": 19,
   "metadata": {},
   "outputs": [
    {
     "name": "stdout",
     "output_type": "stream",
     "text": [
      "Mutable inside function ['Mahuya', 97710, 2.9]\n",
      "Immutable inside function 11\n",
      "Mutable outside function ['Mahuya', 97710, 2.9]\n",
      "Immutable outside function 10\n"
     ]
    }
   ],
   "source": [
    "# 6. Write a function to demonstrate the behavior of mutable and immutable arguments\n",
    "\n",
    "def behaviorCheck(mutable, immutable):\n",
    "    mutable[0] = \"Mahuya\"\n",
    "    immutable+=1\n",
    "    print(\"Mutable inside function\", mutable)\n",
    "    print(\"Immutable inside function\", immutable)\n",
    "\n",
    "\n",
    "\n",
    "lst = [\"Mritunjay\", 97710, 2.90]\n",
    "num = 10\n",
    "behaviorCheck(lst, num)\n",
    "print(\"Mutable outside function\", lst)\n",
    "print(\"Immutable outside function\", num)"
   ]
  },
  {
   "cell_type": "code",
   "execution_count": 21,
   "metadata": {},
   "outputs": [],
   "source": [
    "# 7. Write a function to demonstrate the behavior of mutable and immutable arguments.\n",
    "# same question as 6"
   ]
  },
  {
   "cell_type": "code",
   "execution_count": 22,
   "metadata": {},
   "outputs": [
    {
     "name": "stdout",
     "output_type": "stream",
     "text": [
      "You are not eligible to drive\n"
     ]
    }
   ],
   "source": [
    "# 8. Write a program to demonstrate the use of logical operators\n",
    "\n",
    "age = int(input(\"Enter your age\"))\n",
    "if(age < 18):\n",
    "    print(\"You are not eligible to drive\")\n",
    "elif(age >= 18):\n",
    "    print(\"You are eligible for driving licence\")"
   ]
  },
  {
   "cell_type": "code",
   "execution_count": 25,
   "metadata": {},
   "outputs": [
    {
     "name": "stdout",
     "output_type": "stream",
     "text": [
      "This is an <class 'int'> value\n",
      "This is an <class 'float'> value\n",
      "This is an <class 'float'> value\n"
     ]
    }
   ],
   "source": [
    "# 9. Write a Python program to convert user input from string to integer, float, and boolean types0\n",
    "x = input(\"Enter a integer value\")\n",
    "x = int(x)\n",
    "print(\"This is an\", type(x), \"value\")\n",
    "\n",
    "y = input(\"Enter a Float value\")\n",
    "y = float(y)\n",
    "print(\"This is an\", type(y), \"value\")\n",
    "\n",
    "z = input(\"Enter 1 or 0\")\n",
    "z = float(z)\n",
    "print(\"This is an\", type(z), \"value\")\n"
   ]
  },
  {
   "cell_type": "code",
   "execution_count": 29,
   "metadata": {},
   "outputs": [
    {
     "name": "stdout",
     "output_type": "stream",
     "text": [
      "This typecasting will happen automatically <class 'float'>\n"
     ]
    }
   ],
   "source": [
    "# 10. Write code to demonstrate type casting with list elements\n",
    "\n",
    "lst = [1, 2.5]\n",
    "print(\"This typecasting will happen automatically\",type(lst[0]+lst[1]))\n"
   ]
  },
  {
   "cell_type": "code",
   "execution_count": 30,
   "metadata": {},
   "outputs": [
    {
     "name": "stdout",
     "output_type": "stream",
     "text": [
      "Number is negative\n"
     ]
    }
   ],
   "source": [
    "# 11. Write a program that checks if a number is positive, negative, or zero\n",
    "number = int(input(\"Enter a number\"))\n",
    "if(number > 0):\n",
    "    print(\"Number is positive\")\n",
    "elif(number == 0):\n",
    "    print(\"Number is equal to zero\")\n",
    "else:\n",
    "    print(\"Number is negative\")"
   ]
  },
  {
   "cell_type": "code",
   "execution_count": 34,
   "metadata": {},
   "outputs": [
    {
     "name": "stdout",
     "output_type": "stream",
     "text": [
      "0\n",
      "1\n",
      "2\n",
      "3\n",
      "4\n",
      "5\n",
      "6\n",
      "7\n",
      "8\n",
      "9\n",
      "10\n"
     ]
    }
   ],
   "source": [
    "# 12. Write a for loop to print numbers from 1 to 10\n",
    "for i in range(11):\n",
    "    print(i)"
   ]
  },
  {
   "cell_type": "code",
   "execution_count": 37,
   "metadata": {},
   "outputs": [
    {
     "name": "stdout",
     "output_type": "stream",
     "text": [
      "650\n"
     ]
    }
   ],
   "source": [
    "# 13. Write a Python program to find the sum of all even numbers between 1 and 50\n",
    "sum = 0\n",
    "for i in range(0, 51, 2):\n",
    "    sum += i\n",
    "print(sum)"
   ]
  },
  {
   "cell_type": "code",
   "execution_count": 48,
   "metadata": {},
   "outputs": [
    {
     "name": "stdout",
     "output_type": "stream",
     "text": [
      "maytas\n"
     ]
    }
   ],
   "source": [
    "# 14. Write a program to reverse a string using a while loop\n",
    "s = \"satyam\"\n",
    "rs = \"\"\n",
    "i = len(s) -1\n",
    "while(i >= 0):\n",
    "    rs = rs + s[i]\n",
    "    i = i-1\n",
    "print(rs)"
   ]
  },
  {
   "cell_type": "code",
   "execution_count": 50,
   "metadata": {},
   "outputs": [
    {
     "name": "stdout",
     "output_type": "stream",
     "text": [
      "120\n"
     ]
    }
   ],
   "source": [
    "# 15. Write a Python program to calculate the factorial of a number provided by the user using a while loop\n",
    "num = int(input(\"Enter a number\"))\n",
    "i = 1\n",
    "fact = 1\n",
    "while i <= num:\n",
    "    fact = fact * i\n",
    "    i += 1\n",
    "print(fact)"
   ]
  }
 ],
 "metadata": {
  "kernelspec": {
   "display_name": "base",
   "language": "python",
   "name": "python3"
  },
  "language_info": {
   "codemirror_mode": {
    "name": "ipython",
    "version": 3
   },
   "file_extension": ".py",
   "mimetype": "text/x-python",
   "name": "python",
   "nbconvert_exporter": "python",
   "pygments_lexer": "ipython3",
   "version": "3.12.4"
  }
 },
 "nbformat": 4,
 "nbformat_minor": 2
}
